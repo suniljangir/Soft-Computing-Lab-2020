{
  "nbformat": 4,
  "nbformat_minor": 0,
  "metadata": {
    "colab": {
      "name": "Untitled10.ipynb",
      "provenance": [],
      "authorship_tag": "ABX9TyOI1JA/kBUpAdgeeeTvpMeT",
      "include_colab_link": true
    },
    "kernelspec": {
      "name": "python3",
      "display_name": "Python 3"
    }
  },
  "cells": [
    {
      "cell_type": "markdown",
      "metadata": {
        "id": "view-in-github",
        "colab_type": "text"
      },
      "source": [
        "<a href=\"https://colab.research.google.com/github/arunima27-3-99/Soft-Computing-Lab-2020/blob/master/Untitled10.ipynb\" target=\"_parent\"><img src=\"https://colab.research.google.com/assets/colab-badge.svg\" alt=\"Open In Colab\"/></a>"
      ]
    },
    {
      "cell_type": "code",
      "metadata": {
        "id": "eWZOmUrqlhl_"
      },
      "source": [
        "AIM:Write a program to implement bfs and dfs with the input of graph and the goal node to be searched, your output will show the path from the root node to goal node only"
      ],
      "execution_count": null,
      "outputs": []
    },
    {
      "cell_type": "code",
      "metadata": {
        "colab": {
          "base_uri": "https://localhost:8080/"
        },
        "id": "jwct4BtfloU2",
        "outputId": "bb2d7b1b-a464-4bab-e8ee-829b6c227e52"
      },
      "source": [
        "def bfs(graph,start,search):\n",
        "    explored = []\n",
        "    queue = [start]\n",
        "    found = 1\n",
        "    while found:\n",
        "        node = queue.pop(0)\n",
        "        if(node == search):\n",
        "            found = 0\n",
        "        if node not in explored:\n",
        "            explored.append(node)\n",
        "            neighbours = graph[node]\n",
        "        for neighbour in neighbours:\n",
        "            queue.append(neighbour)\n",
        "    print(explored)\n",
        "\n",
        "search = int(input(\"enter the number you want to search-\"))\n",
        "graph = {1: [2, 3, 5],\n",
        "         2: [1,4, 5],\n",
        "         3: [1, 6, 7],\n",
        "         4: [2],\n",
        "         5: [1, 2,4],\n",
        "         6: [3],\n",
        "         7: [3]}\n",
        "bfs(graph,1,search)\n"
      ],
      "execution_count": 1,
      "outputs": [
        {
          "output_type": "stream",
          "text": [
            "enter the number you want to search-3\n",
            "[1, 2, 3]\n"
          ],
          "name": "stdout"
        }
      ]
    },
    {
      "cell_type": "markdown",
      "metadata": {
        "id": "UODKFiJLlnL8"
      },
      "source": [
        ""
      ]
    }
  ]
}