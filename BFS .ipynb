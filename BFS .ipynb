{
 "cells": [
  {
   "cell_type": "code",
   "execution_count": 9,
   "metadata": {},
   "outputs": [
    {
     "name": "stdout",
     "output_type": "stream",
     "text": [
      "enter the number you want to search-5\n",
      "[1, 2, 3, 5]\n"
     ]
    }
   ],
   "source": [
    "def bfs(graph,start,search):\n",
    "    explored = []\n",
    "    queue = [start]\n",
    "    found = 1\n",
    "    while found:\n",
    "        node = queue.pop(0)\n",
    "        if(node == search):\n",
    "            found = 0\n",
    "        if node not in explored:\n",
    "            explored.append(node)\n",
    "            neighbours = graph[node]\n",
    "        for neighbour in neighbours:\n",
    "            queue.append(neighbour)\n",
    "    print(explored)\n",
    "\n",
    "search = int(input(\"enter the number you want to search-\"))\n",
    "graph = {1: [2, 3, 5],\n",
    "         2: [1,4, 5],\n",
    "         3: [1, 6, 7],\n",
    "         4: [2],\n",
    "         5: [1, 2,4],\n",
    "         6: [3],\n",
    "         7: [3]}\n",
    "bfs(graph,1,search)\n",
    "\n"
   ]
  },
  {
   "cell_type": "code",
   "execution_count": null,
   "metadata": {},
   "outputs": [],
   "source": []
  }
 ],
 "metadata": {
  "kernelspec": {
   "display_name": "Python 3",
   "language": "python",
   "name": "python3"
  },
  "language_info": {
   "codemirror_mode": {
    "name": "ipython",
    "version": 3
   },
   "file_extension": ".py",
   "mimetype": "text/x-python",
   "name": "python",
   "nbconvert_exporter": "python",
   "pygments_lexer": "ipython3",
   "version": "3.7.4"
  }
 },
 "nbformat": 4,
 "nbformat_minor": 2
}
