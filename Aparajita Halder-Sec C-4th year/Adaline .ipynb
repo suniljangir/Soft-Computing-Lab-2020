{
 "cells": [
  {
   "cell_type": "code",
   "execution_count": null,
   "metadata": {},
   "outputs": [],
   "source": [
    "importnumpy as np\n",
    "x1=np.array([[1,1,-1,-1]])\n",
    "x2=np.array([[1,-1,1,-1]])\n",
    "t=np.array([[1],[1],[1],[-1]])\n",
    "w11=0.1\n",
    "w21=0.1\n",
    "w01=0.1\n",
    "alpha=0.1\n",
    "i=0\n",
    "bias=1\n",
    "w1=np.zeros((4,1))\n",
    "w2=np.zeros((4,1))\n",
    "w0=np.zeros((4,1))\n",
    "Yin=np.zeros((4,1))\n",
    "y=np.zeros((4,1))\n",
    "error=np.zeros((4,1))\n",
    "count=0\n",
    "while(count!=3):\n",
    "    i=0\n",
    "if(count!=0):\n",
    "        w11=w1[3]\n",
    "        w21=w2[3]\n",
    "        w01=w0[3]\n",
    "while(i!=4):\n",
    "if(i==0):\n",
    "            Yin[i]= (x1[0][i]*w11)+(x2[0][i]*w21)+(bias*w01)\n",
    "y[i]=t[i][0]-Yin[i]\n",
    "w1[i]=w11+(alpha*y[i]*x1[0][i])\n",
    "w2[i]=w21+(alpha*y[i]*x2[0][i])\n",
    "w0[i]=w01+(alpha*y[i]*bias)\n",
    "else:\n",
    "if(i>0 & i<=4):\n",
    "                Yin[i]= (x1[0][i]*w1[i-1])+(x2[0][i]*w2[i-1])+(bias*w0[i-1])\n",
    "y[i]=t[i][0]-Yin[i]\n",
    "w1[i]=w1[i-1]+(alpha*y[i]*x1[0][i])\n",
    "w2[i]=w2[i-1]+(alpha*y[i]*x2[0][i])\n",
    "w0[i]=w0[i-1]+(alpha*y[i]*bias)\n",
    "\n",
    "error[i]=(y[i])**2\n",
    "        i=i+1\n",
    "print('EPOCH',(count+1),':')\n",
    "print('\\n')\n",
    "print('w1:',w1)\n",
    "print('\\n')\n",
    "print('w2:',w2)\n",
    "print('\\n')\n",
    "print('w0:',w0)\n",
    "print('\\n')\n",
    "print('error',error)\n",
    "print('\\n\\n')\n",
    "count=count+1\n"
   ]
  }
 ],
 "metadata": {
  "kernelspec": {
   "display_name": "Python 3",
   "language": "python",
   "name": "python3"
  },
  "language_info": {
   "codemirror_mode": {
    "name": "ipython",
    "version": 3
   },
   "file_extension": ".py",
   "mimetype": "text/x-python",
   "name": "python",
   "nbconvert_exporter": "python",
   "pygments_lexer": "ipython3",
   "version": "3.6.8"
  }
 },
 "nbformat": 4,
 "nbformat_minor": 2
}
