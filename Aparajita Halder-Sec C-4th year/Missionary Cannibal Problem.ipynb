{
 "cells": [
  {
   "cell_type": "code",
   "execution_count": 1,
   "metadata": {},
   "outputs": [
    {
     "ename": "ModuleNotFoundError",
     "evalue": "No module named 'search'",
     "output_type": "error",
     "traceback": [
      "\u001b[1;31m---------------------------------------------------------------------------\u001b[0m",
      "\u001b[1;31mModuleNotFoundError\u001b[0m                       Traceback (most recent call last)",
      "\u001b[1;32m<ipython-input-1-1bdbfc396b6f>\u001b[0m in \u001b[0;36m<module>\u001b[1;34m\u001b[0m\n\u001b[0;32m      1\u001b[0m \u001b[1;32mimport\u001b[0m \u001b[0moperator\u001b[0m\u001b[1;33m\u001b[0m\u001b[1;33m\u001b[0m\u001b[0m\n\u001b[0;32m      2\u001b[0m \u001b[1;33m\u001b[0m\u001b[0m\n\u001b[1;32m----> 3\u001b[1;33m \u001b[1;32mfrom\u001b[0m \u001b[0msearch\u001b[0m \u001b[1;32mimport\u001b[0m \u001b[0mProblem\u001b[0m\u001b[1;33m\u001b[0m\u001b[1;33m\u001b[0m\u001b[0m\n\u001b[0m\u001b[0;32m      4\u001b[0m \u001b[1;32mfrom\u001b[0m \u001b[1;33m.\u001b[0m\u001b[0mstate\u001b[0m \u001b[1;32mimport\u001b[0m \u001b[0mState\u001b[0m\u001b[1;33m\u001b[0m\u001b[1;33m\u001b[0m\u001b[0m\n\u001b[0;32m      5\u001b[0m \u001b[1;32mfrom\u001b[0m \u001b[1;33m.\u001b[0m\u001b[0mstate_constants\u001b[0m \u001b[1;32mimport\u001b[0m \u001b[0mGOAL_STATE\u001b[0m\u001b[1;33m\u001b[0m\u001b[1;33m\u001b[0m\u001b[0m\n",
      "\u001b[1;31mModuleNotFoundError\u001b[0m: No module named 'search'"
     ]
    }
   ],
   "source": [
    "import operator\n",
    "\n",
    "from search import Problem\n",
    "from .state import State\n",
    "from .state_constants import GOAL_STATE\n",
    "from .state_constants import INITIAL_STATE\n",
    "\n",
    "\n",
    "class MissionariesAndCannibals(Problem):\n",
    "\n",
    "    def __init__(self):\n",
    "        initial_state = State.value_of(INITIAL_STATE)\n",
    "        goal_state = State.value_of(GOAL_STATE)\n",
    "        super().__init__(initial_state, goal_state)\n",
    "\n",
    "    def actions(self, state):\n",
    "        all_actions = self.get_all_actions()\n",
    "        return self.get_valid_actions(state, all_actions)\n",
    "\n",
    "    @staticmethod\n",
    "    def get_all_actions():\n",
    "        return {\n",
    "            (1, 0, 1),\n",
    "            (2, 0, 1),\n",
    "            (0, 1, 1),\n",
    "            (0, 2, 1),\n",
    "            (1, 1, 1)\n",
    "        }\n",
    "\n",
    "    def get_valid_actions(self, state, all_actions):\n",
    "        is_action_valid_lambda = self.get_is_action_valid_lambda(state)\n",
    "        return set(filter(is_action_valid_lambda, all_actions))\n",
    "\n",
    "    def get_is_action_valid_lambda(self, state):\n",
    "        return lambda action: self.is_action_valid(state, action)\n",
    "\n",
    "    def is_action_valid(self, state, action):\n",
    "        operate = self.get_operation(state.boat)\n",
    "        result = operate(state, action)\n",
    "\n",
    "        return result.is_valid()\n",
    "\n",
    "    def result(self, state, action):\n",
    "        operate = self.get_operation(state.boat)\n",
    "        return operate(state, action)\n",
    "\n",
    "    @staticmethod\n",
    "    def get_operation(boat):\n",
    "        \"\"\"Subtract action from state if boat is on initial side of river.\"\"\"\n",
    "        return operator.sub if boat == 1 else operator.add"
   ]
  }
 ],
 "metadata": {
  "kernelspec": {
   "display_name": "Python 3",
   "language": "python",
   "name": "python3"
  },
  "language_info": {
   "codemirror_mode": {
    "name": "ipython",
    "version": 3
   },
   "file_extension": ".py",
   "mimetype": "text/x-python",
   "name": "python",
   "nbconvert_exporter": "python",
   "pygments_lexer": "ipython3",
   "version": "3.6.8"
  }
 },
 "nbformat": 4,
 "nbformat_minor": 2
}
