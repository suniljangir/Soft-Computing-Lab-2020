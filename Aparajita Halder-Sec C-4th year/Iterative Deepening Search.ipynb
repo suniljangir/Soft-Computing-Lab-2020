{
 "cells": [
  {
   "cell_type": "code",
   "execution_count": 1,
   "metadata": {},
   "outputs": [
    {
     "name": "stdout",
     "output_type": "stream",
     "text": [
      "enter the node to be searched4\n",
      "enter the depth2\n",
      "Target is reachable from source within max depth : \n",
      "3\n"
     ]
    }
   ],
   "source": [
    "from collections import defaultdict \n",
    "\n",
    "class Graph: \n",
    "  \n",
    "    def __init__(self,vertices):  \n",
    "       \n",
    "        self.V = vertices \n",
    "        self.graph = defaultdict(list)  \n",
    "    def addEdge(self,u,v): \n",
    "        self.graph[u].append(v)  \n",
    " \n",
    "    def DLS(self,src,target,maxDepth):   \n",
    "        if src == target : return True     \n",
    "        if maxDepth <= 0 : return False \n",
    "  \n",
    "        for i in self.graph[src]: \n",
    "                if(self.DLS(i,target,maxDepth-1)): \n",
    "                    return True\n",
    "        return False  \n",
    "    def IDDFS(self,src, target, maxDepth): \n",
    "        for i in range(maxDepth): \n",
    "            if (self.DLS(src, target, i)): \n",
    "                return True\n",
    "        return False\n",
    "  \n",
    "\n",
    "g = Graph (7); \n",
    "g.addEdge(0, 1) \n",
    "g.addEdge(0, 2) \n",
    "g.addEdge(1, 3) \n",
    "g.addEdge(1, 4) \n",
    "g.addEdge(2, 5) \n",
    "g.addEdge(2, 6) \n",
    "  \n",
    "target = int(input(\"enter the node to be searched\"));\n",
    "maxDepth = int(input(\"enter the depth\"));\n",
    "src = 0\n",
    "found = 1\n",
    "while(found):\n",
    "    if g.IDDFS(src, target, maxDepth) == True:\n",
    "        print (\"Target is reachable from source \" +\n",
    "        \"within max depth : \")\n",
    "        print(maxDepth)\n",
    "        found = 0\n",
    "    else :\n",
    "        maxDepth = maxDepth +1\n"
   ]
  }
 ],
 "metadata": {
  "kernelspec": {
   "display_name": "Python 3",
   "language": "python",
   "name": "python3"
  },
  "language_info": {
   "codemirror_mode": {
    "name": "ipython",
    "version": 3
   },
   "file_extension": ".py",
   "mimetype": "text/x-python",
   "name": "python",
   "nbconvert_exporter": "python",
   "pygments_lexer": "ipython3",
   "version": "3.7.3"
  }
 },
 "nbformat": 4,
 "nbformat_minor": 2
}
