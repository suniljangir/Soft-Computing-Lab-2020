{
  "nbformat": 4,
  "nbformat_minor": 0,
  "metadata": {
    "colab": {
      "name": "Untitled12.ipynb",
      "provenance": [],
      "authorship_tag": "ABX9TyP1YWNrutjLg5ddMXyfzaaF",
      "include_colab_link": true
    },
    "kernelspec": {
      "name": "python3",
      "display_name": "Python 3"
    }
  },
  "cells": [
    {
      "cell_type": "markdown",
      "metadata": {
        "id": "view-in-github",
        "colab_type": "text"
      },
      "source": [
        "<a href=\"https://colab.research.google.com/github/arunima27-3-99/Soft-Computing-Lab-2020/blob/master/Untitled12.ipynb\" target=\"_parent\"><img src=\"https://colab.research.google.com/assets/colab-badge.svg\" alt=\"Open In Colab\"/></a>"
      ]
    },
    {
      "cell_type": "markdown",
      "metadata": {
        "id": "TfwVxDYboUOZ"
      },
      "source": [
        "AIM: MP neuron for logic gates\n",
        "\n",
        "NAND"
      ]
    },
    {
      "cell_type": "code",
      "metadata": {
        "colab": {
          "base_uri": "https://localhost:8080/"
        },
        "id": "UNaLYYtooSr1",
        "outputId": "ffec17af-c3bd-4d00-d677-9be061925796"
      },
      "source": [
        "w1 = int(input(\"enter the weight 1: \"))\n",
        "w2 = int(input(\"enter the weight 2: \"))\n",
        "theta = int(input(\"enter the theta:\"))\n",
        "inputarray = [[0,0],[0,1],[1,0],[1,1]]\n",
        "expected = [1,1,1,0]\n",
        "actual = []\n",
        "for i in range(0,4):\n",
        "    temp = inputarray[i][0]*w1+inputarray[i][1]*w2\n",
        "    if(temp >= theta):\n",
        "        actual.append(1)\n",
        "    else:\n",
        "        actual.append(0)\n",
        "for i in range(0,4):\n",
        "    if(expected[i] == actual[i]):\n",
        "        found = 1\n",
        "    else:\n",
        "        found = 0\n",
        "        break\n",
        "print(\"Input array\")\n",
        "print(inputarray)\n",
        "print(\"Actual output\")\n",
        "print(actual)\n",
        "print(\"Expected output\")\n",
        "print(expected)\n",
        "if(found ==1):\n",
        "    print(\"assumed weights and theta are correct\")\n",
        "else:\n",
        "    print(\"assumed weights and theta are incorrect\")"
      ],
      "execution_count": 1,
      "outputs": [
        {
          "output_type": "stream",
          "text": [
            "enter the weight 1: -1\n",
            "enter the weight 2: -1\n",
            "enter the theta:-1\n",
            "Input array\n",
            "[[0, 0], [0, 1], [1, 0], [1, 1]]\n",
            "Actual output\n",
            "[1, 1, 1, 0]\n",
            "Expected output\n",
            "[1, 1, 1, 0]\n",
            "assumed weights and theta are correct\n"
          ],
          "name": "stdout"
        }
      ]
    }
  ]
}