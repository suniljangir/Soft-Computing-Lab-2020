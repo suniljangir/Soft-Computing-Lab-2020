{
 "cells": [
  {
   "cell_type": "code",
   "execution_count": 1,
   "metadata": {},
   "outputs": [
    {
     "name": "stdout",
     "output_type": "stream",
     "text": [
      "True\n",
      "True\n",
      "False\n",
      "True\n",
      "False\n",
      "False\n",
      "True\n"
     ]
    }
   ],
   "source": [
    "a=1\n",
    "b=1\n",
    "c=\"softcomputing\"\n",
    "d=\"softcomputing\"\t\n",
    "e=4\n",
    "f=5\n",
    "g=[1,2,3]\n",
    "h=[1,2,3]\n",
    "a is not b\n",
    "a is b\n",
    "c is d\n",
    "c is not d\n",
    "e is f\n",
    "e is not f\n",
    "g is h\n",
    "g is not h\n",
    "\n",
    "x = 'Soft Computing'\n",
    "y = {1:'a',2:'b'}      \n",
    "print('S' in x)\n",
    "print('Computer' not in x)\n",
    "print('Computing' not in x)\n",
    "print(1 in y)\n",
    "print(3 in y)\n",
    "print('b' in y)\n",
    "print(2 in y)"
   ]
  },
  {
   "cell_type": "code",
   "execution_count": null,
   "metadata": {},
   "outputs": [],
   "source": []
  }
 ],
 "metadata": {
  "kernelspec": {
   "display_name": "Python 3",
   "language": "python",
   "name": "python3"
  },
  "language_info": {
   "codemirror_mode": {
    "name": "ipython",
    "version": 3
   },
   "file_extension": ".py",
   "mimetype": "text/x-python",
   "name": "python",
   "nbconvert_exporter": "python",
   "pygments_lexer": "ipython3",
   "version": "3.7.4"
  }
 },
 "nbformat": 4,
 "nbformat_minor": 2
}
