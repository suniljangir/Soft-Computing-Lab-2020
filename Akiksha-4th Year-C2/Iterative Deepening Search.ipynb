{
 "cells": [
  {
   "cell_type": "markdown",
   "metadata": {},
   "source": [
    "# Aim: Write a program to implement iterative deepening search."
   ]
  },
  {
   "cell_type": "code",
   "execution_count": 1,
   "metadata": {},
   "outputs": [
    {
     "name": "stdout",
     "output_type": "stream",
     "text": [
      "LOOPING AT DEPTH 0 \n",
      "NODE: a, GOAL g, DEPTH: 0\n",
      "RESULT: None, GOAL: g\n",
      "LOOPING AT DEPTH 1 \n",
      "NODE: a, GOAL g, DEPTH: 1\n",
      "LOOPING THROUGH CHILD NODES: ['b', 'c', 'e']\n",
      "NODE: b, GOAL g, DEPTH: 0\n",
      "NODE: c, GOAL g, DEPTH: 0\n",
      "NODE: e, GOAL g, DEPTH: 0\n",
      "RESULT: None, GOAL: g\n",
      "LOOPING AT DEPTH 2 \n",
      "NODE: a, GOAL g, DEPTH: 2\n",
      "LOOPING THROUGH CHILD NODES: ['b', 'c', 'e']\n",
      "NODE: b, GOAL g, DEPTH: 1\n",
      "LOOPING THROUGH CHILD NODES: ['d', 'f']\n",
      "NODE: d, GOAL g, DEPTH: 0\n",
      "NODE: f, GOAL g, DEPTH: 0\n",
      "NODE: c, GOAL g, DEPTH: 1\n",
      "LOOPING THROUGH CHILD NODES: ['g', 'a']\n",
      "NODE: g, GOAL g, DEPTH: 0\n",
      "GOAL FOUND ,RETURN TO\n",
      "RESULT: g, GOAL: g\n"
     ]
    },
    {
     "data": {
      "text/plain": [
       "'g'"
      ]
     },
     "execution_count": 1,
     "metadata": {},
     "output_type": "execute_result"
    }
   ],
   "source": [
    "graph = {\n",
    "    'a' : ['b', 'c', 'e'],\n",
    "    'b' : ['d', 'f'],\n",
    "    'c' : ['g','a'],\n",
    "    'e' : ['f'],\n",
    "    'f' : ['e'],\n",
    "}\n",
    "\n",
    "def IDDFS(root, goal):\n",
    "    depth = 0\n",
    "    while True:\n",
    "        print (\"LOOPING AT DEPTH %i \" % (depth))\n",
    "        result = DLS(root, goal, depth)\n",
    "        print (\"RESULT: %s, GOAL: %s\" % (result, goal))\n",
    "        if result == goal:\n",
    "            return result\n",
    "        depth = depth +1\n",
    "\n",
    "def DLS(node, goal, depth):\n",
    "    print (\"NODE: %s, GOAL %s, DEPTH: %i\" % (node, goal, depth))\n",
    "    if depth == 0 and node == goal:\n",
    "        print( \"GOAL FOUND ,RETURN TO\")\n",
    "        return node\n",
    "    elif depth > 0:\n",
    "        print (\"LOOPING THROUGH CHILD NODES: %s\" % (graph.get(node, [])))\n",
    "\n",
    "\n",
    "        for child in graph.get(node, []):\n",
    "            if goal == DLS(child, goal, depth-1):\n",
    "                return goal\n",
    "\n",
    "IDDFS('a', 'g')"
   ]
  },
  {
   "cell_type": "code",
   "execution_count": null,
   "metadata": {},
   "outputs": [],
   "source": []
  }
 ],
 "metadata": {
  "kernelspec": {
   "display_name": "Python 3",
   "language": "python",
   "name": "python3"
  },
  "language_info": {
   "codemirror_mode": {
    "name": "ipython",
    "version": 3
   },
   "file_extension": ".py",
   "mimetype": "text/x-python",
   "name": "python",
   "nbconvert_exporter": "python",
   "pygments_lexer": "ipython3",
   "version": "3.7.4"
  }
 },
 "nbformat": 4,
 "nbformat_minor": 2
}
