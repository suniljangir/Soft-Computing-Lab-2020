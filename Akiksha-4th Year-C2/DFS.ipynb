{
 "cells": [
  {
   "cell_type": "markdown",
   "metadata": {},
   "source": [
    "# AIM: Write a program to implement dfs with the input of graph and the goal node to be searched, your output will show the path from the root node to goal node only"
   ]
  },
  {
   "cell_type": "code",
   "execution_count": 1,
   "metadata": {},
   "outputs": [],
   "source": [
    "graph = {'A': ['B','C'],\n",
    "         'B': ['A','D','E'],\n",
    "         'C': ['F','G','A'],\n",
    "         'D': ['B'],\n",
    "         'E': ['H','B'],\n",
    "         'F': ['C'],\n",
    "         'G': ['C'],\n",
    "         'H': ['E']\n",
    "        }"
   ]
  },
  {
   "cell_type": "code",
   "execution_count": 2,
   "metadata": {},
   "outputs": [
    {
     "name": "stdout",
     "output_type": "stream",
     "text": [
      "['A', 'B', 'D', 'E', 'H', 'C', 'F', 'G']\n"
     ]
    }
   ],
   "source": [
    "def dfs(graph,start,end,route,list):\n",
    "    route+=[start]\n",
    "    if start == end:\n",
    "        list.extend(route)\n",
    "    else:\n",
    "        for node in graph[start]:\n",
    "            if node not in route:\n",
    "                dfs(graph,node,end,route,list)\n",
    "                \n",
    "def dfs_route(graph,start,end):\n",
    "    list = []\n",
    "    dfs(graph,start,end,[],list)\n",
    "    return list\n",
    "\n",
    "print(dfs_route(graph,'A','G'))"
   ]
  },
  {
   "cell_type": "code",
   "execution_count": null,
   "metadata": {},
   "outputs": [],
   "source": []
  }
 ],
 "metadata": {
  "kernelspec": {
   "display_name": "Python 3",
   "language": "python",
   "name": "python3"
  },
  "language_info": {
   "codemirror_mode": {
    "name": "ipython",
    "version": 3
   },
   "file_extension": ".py",
   "mimetype": "text/x-python",
   "name": "python",
   "nbconvert_exporter": "python",
   "pygments_lexer": "ipython3",
   "version": "3.7.4"
  }
 },
 "nbformat": 4,
 "nbformat_minor": 2
}
