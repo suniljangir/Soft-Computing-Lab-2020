{
  "nbformat": 4,
  "nbformat_minor": 0,
  "metadata": {
    "colab": {
      "name": "Untitled1.ipynb",
      "provenance": [],
      "collapsed_sections": [],
      "authorship_tag": "ABX9TyNQMbuHYlCJxWahNmWigXzE",
      "include_colab_link": true
    },
    "kernelspec": {
      "name": "python3",
      "display_name": "Python 3"
    }
  },
  "cells": [
    {
      "cell_type": "markdown",
      "metadata": {
        "id": "view-in-github",
        "colab_type": "text"
      },
      "source": [
        "<a href=\"https://colab.research.google.com/github/sakshitulshyan/Soft-Computing-Lab-2020/blob/master/sakshi%20Tulshyan_4thyear_c1/AND%20logic%20functions.ipynb\" target=\"_parent\"><img src=\"https://colab.research.google.com/assets/colab-badge.svg\" alt=\"Open In Colab\"/></a>"
      ]
    },
    {
      "cell_type": "code",
      "metadata": {
        "colab": {
          "base_uri": "https://localhost:8080/"
        },
        "id": "sIcWKqOTiyEZ",
        "outputId": "76fa7a17-7b58-4477-ed6c-d0f006c179e3"
      },
      "source": [
        "import numpy as np\n",
        "x=np.array([[1,1],[1,0],[0,1],[0,0]])\n",
        "t=np.array([[1],[0],[0],[0]])\n",
        "w=np.array([[0],[0]])\n",
        "theta=1\n",
        "yin=np.zeros(shape=(4,1))\n",
        "y=np.zeros(shape=(4,1))\n",
        "yin=np.dot(x,w)\n",
        "i=0\n",
        "found=0\n",
        "while(found==0):\n",
        "    \ti=0\n",
        "    \tyin=np.dot(x,w)\n",
        "    \t#print(yin)\n",
        "    \twhile(i<4):\n",
        "         if yin[i]>=theta:\n",
        "             y[i]=1\n",
        "             i=i+1\n",
        "       \t else:\n",
        "              y[i]=0\n",
        "              i=i+1\n",
        "    #print(\"y\",y)\n",
        "    #print(\"t\",t)\n",
        "    \tif (y==t).all():\n",
        "        \tprint(\"MODEL IS TRAINED \")\n",
        "        \tprint(\"\\nOutput : \\n\",y)\n",
        "        \tprint(\"\\nweights : \",w,\"\\n\")\n",
        "        \tprint(\"theta : \",theta)\n",
        "        \tfound=1\n",
        "    \telse:\n",
        "       \t print(\"MODEL IS NOT TRAINED\")\n",
        "         w=np.zeros(shape=(0,0))\n",
        "         theta=int(input(\"Enter New Theta : \"))\n",
        "         for k in range(int(2)):\n",
        "                w1=int(input(\"Enter Weight : \"))\n",
        "               \tw=np.append(w,w1)"
      ],
      "execution_count": null,
      "outputs": [
        {
          "output_type": "stream",
          "text": [
            "MODEL IS NOT TRAINED\n",
            "Enter New Theta : 1\n",
            "Enter Weight : 1\n",
            "Enter Weight : 1\n",
            "MODEL IS NOT TRAINED\n",
            "Enter New Theta : 2\n",
            "Enter Weight : 1\n",
            "Enter Weight : 1\n",
            "MODEL IS TRAINED \n",
            "\n",
            "Output : \n",
            " [[1.]\n",
            " [0.]\n",
            " [0.]\n",
            " [0.]]\n",
            "\n",
            "weights :  [1. 1.] \n",
            "\n",
            "theta :  2\n"
          ],
          "name": "stdout"
        }
      ]
    }
  ]
}