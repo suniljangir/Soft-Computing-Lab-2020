{
  "nbformat": 4,
  "nbformat_minor": 0,
  "metadata": {
    "colab": {
      "name": "Untitled5.ipynb",
      "provenance": [],
      "authorship_tag": "ABX9TyMZVR61p3GsGLKdm6rOtDH+",
      "include_colab_link": true
    },
    "kernelspec": {
      "name": "python3",
      "display_name": "Python 3"
    }
  },
  "cells": [
    {
      "cell_type": "markdown",
      "metadata": {
        "id": "view-in-github",
        "colab_type": "text"
      },
      "source": [
        "<a href=\"https://colab.research.google.com/github/sakshitulshyan/Soft-Computing-Lab-2020/blob/master/sakshi%20Tulshyan_4thyear_c1/back-propogation.ipynb\" target=\"_parent\"><img src=\"https://colab.research.google.com/assets/colab-badge.svg\" alt=\"Open In Colab\"/></a>"
      ]
    },
    {
      "cell_type": "code",
      "metadata": {
        "colab": {
          "base_uri": "https://localhost:8080/"
        },
        "id": "ne15qj-c2BSx",
        "outputId": "84ea3e86-25d1-489e-d3ca-8cc586f7ea55"
      },
      "source": [
        "import numpy as np\n",
        "x1 = float(input(\"Enter X1: \"))\n",
        "print(x1) \n",
        "x2 = float(input(\"Enter X2: \")) \n",
        "print(x2) \n",
        "b1 = float(input(\"Enter bias 1: \"))\n",
        "b2 = float(input(\"Enter bias 2: \"))\n",
        "b3 = float(input(\"Enter bias 3: \"))\n",
        "alpha = float(input(\"Enter alpha: \"))\n",
        "t = float(input(\"Enter target: \"))\n",
        "\n",
        "a = [0.6,0.3,-0.1,-0.3,0.4,0.5,0.4,0.1,-0.2]\n",
        "print('phase 1')           \n",
        "zin1 = float(b1*a[1]+x1*a[0]+x2*a[2])\n",
        "print('zin1=',zin1)\n",
        "zp1 = 1/(1+np.exp(-zin1))\n",
        "print('z1=',zp1)\n",
        "fzin1= zp1*(1-zp1)\n",
        "print('fzin1=',fzin1)\n",
        "\n",
        "zin2= float(a[3]*x1+a[4]*x2+a[5]*b2)\n",
        "print('zin2=',zin2)\n",
        "zp2 = 1/(1+np.exp(-zin2))\n",
        "print('z2=',zp2)\n",
        "fzin2= zp2*(1-zp2)\n",
        "print('fzin2=',fzin2)\n",
        "\n",
        "yin=float(zp1*a[6]+zp2*a[7]+b3*a[8])\n",
        "print('yin=',yin)\n",
        "y = 1/(1+np.exp(-yin))\n",
        "print('y=',y)\n",
        "fyin= y*(1-y)\n",
        "print('fyin=',fyin)\n",
        "\n",
        "print('phase 2')\n",
        "dell1=(t-y)*fyin\n",
        "print('dell1=',dell1)\n",
        "delta_w11=alpha*dell1*zp1\n",
        "print('delta_w11=',delta_w11)\n",
        "delta_w21=alpha*dell1*zp2\n",
        "print('delta_w21=',delta_w21)\n",
        "\n",
        "dellin1=dell1*a[6]\n",
        "print('dellin1=',dellin1)\n",
        "dellin2 = dell1*a[7]\n",
        "print('dellin2=',dellin2)\n",
        "\n",
        "delta1=dellin1*fzin1\n",
        "print('delta1=',delta1)\n",
        "delta2=dellin2*fzin2\n",
        "print('delta2=',delta2)\n",
        "delta_w01=alpha*dell1\n",
        "print('delta_w01=',delta_w01)\n",
        "\n",
        "print('phase 3')\n",
        "delta_v11=alpha*delta1*x1\n",
        "print('delta_v11=',delta_v11)\n",
        "delta_v12=alpha*delta2*x1\n",
        "print('delta_v12=',delta_v12)\n",
        "delta_v21=alpha*delta1*x2\n",
        "print('delta_v21=',delta_v21)\n",
        "delta_v22=alpha*delta2*x2\n",
        "print('delta_v22=',delta_v22)\n",
        "\n",
        "delta_v01 = alpha*delta1\n",
        "print('delta_v01=',delta_v01)\n",
        "delta_v02 = alpha*delta2\n",
        "print('delta_v02=',delta_v02)\n"
      ],
      "execution_count": null,
      "outputs": [
        {
          "output_type": "stream",
          "text": [
            "Enter X1: 0\n",
            "0.0\n",
            "Enter X2: 1\n",
            "1.0\n",
            "Enter bias 1: 1\n",
            "Enter bias 2: 1\n",
            "Enter bias 3: 1\n",
            "Enter alpha: 0.25\n",
            "Enter target: 1\n",
            "phase 1\n",
            "zin1= 0.19999999999999998\n",
            "z1= 0.549833997312478\n",
            "fzin1= 0.24751657271185995\n",
            "zin2= 0.9\n",
            "z2= 0.7109495026250039\n",
            "fzin2= 0.2055003073422635\n",
            "yin= 0.09102854918749159\n",
            "y= 0.5227414361305817\n",
            "fyin= 0.24948282708271868\n",
            "phase 2\n",
            "dell1= 0.11906781576358075\n",
            "delta_w11= 0.01636688327313882\n",
            "delta_w21= 0.021162801098940833\n",
            "dellin1= 0.0476271263054323\n",
            "dellin2= 0.011906781576358076\n",
            "delta1= 0.011788503071235473\n",
            "delta2= 0.002446847273398785\n",
            "delta_w01= 0.029766953940895187\n",
            "phase 3\n",
            "delta_v11= 0.0\n",
            "delta_v12= 0.0\n",
            "delta_v21= 0.0029471257678088682\n",
            "delta_v22= 0.0006117118183496963\n",
            "delta_v01= 0.0029471257678088682\n",
            "delta_v02= 0.0006117118183496963\n"
          ],
          "name": "stdout"
        }
      ]
    }
  ]
}