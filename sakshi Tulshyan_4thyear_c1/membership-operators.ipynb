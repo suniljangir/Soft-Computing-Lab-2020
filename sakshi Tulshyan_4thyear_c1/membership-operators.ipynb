{
  "nbformat": 4,
  "nbformat_minor": 0,
  "metadata": {
    "colab": {
      "name": "Untitled5.ipynb",
      "provenance": [],
      "authorship_tag": "ABX9TyO9gjp9qf08ykIRZP2tkUTA",
      "include_colab_link": true
    },
    "kernelspec": {
      "name": "python3",
      "display_name": "Python 3"
    }
  },
  "cells": [
    {
      "cell_type": "markdown",
      "metadata": {
        "id": "view-in-github",
        "colab_type": "text"
      },
      "source": [
        "<a href=\"https://colab.research.google.com/github/sakshitulshyan/Soft-Computing-Lab-2020/blob/master/sakshi%20Tulshyan_4thyear_c1/membership-operators.ipynb\" target=\"_parent\"><img src=\"https://colab.research.google.com/assets/colab-badge.svg\" alt=\"Open In Colab\"/></a>"
      ]
    },
    {
      "cell_type": "code",
      "metadata": {
        "colab": {
          "base_uri": "https://localhost:8080/"
        },
        "id": "ne15qj-c2BSx",
        "outputId": "1f4ef8da-6294-468e-d0f0-c17854c1ee58"
      },
      "source": [
        "a=1\n",
        "b=1\n",
        "c=\"softcomputing\"\n",
        "d=\"softcomputing\"\t\n",
        "e=4\n",
        "f=5\n",
        "g=[1,2,3]\n",
        "h=[1,2,3]\n",
        "a is not b\n",
        "a is b\n",
        "c is d\n",
        "c is not d\n",
        "e is f\n",
        "e is not f\n",
        "g is h\n",
        "g is not h\n",
        "\n",
        "x = 'Soft Computing'\n",
        "y = {1:'a',2:'b'}      \n",
        "print('S' in x)\n",
        "print('Computer' not in x)\n",
        "print('Computing' not in x)\n",
        "print(1 in y)\n",
        "print(3 in y)\n",
        "print('b' in y)\n",
        "print(2 in y)\n",
        "\n"
      ],
      "execution_count": 20,
      "outputs": [
        {
          "output_type": "stream",
          "text": [
            "True\n",
            "True\n",
            "False\n",
            "True\n",
            "False\n",
            "False\n",
            "True\n"
          ],
          "name": "stdout"
        }
      ]
    }
  ]
}