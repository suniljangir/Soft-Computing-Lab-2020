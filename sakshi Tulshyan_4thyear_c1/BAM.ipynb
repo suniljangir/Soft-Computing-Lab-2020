{
  "nbformat": 4,
  "nbformat_minor": 0,
  "metadata": {
    "colab": {
      "name": "Untitled5.ipynb",
      "provenance": [],
      "authorship_tag": "ABX9TyO8BpGjN9F9gO6gY+fLPC6Y",
      "include_colab_link": true
    },
    "kernelspec": {
      "name": "python3",
      "display_name": "Python 3"
    }
  },
  "cells": [
    {
      "cell_type": "markdown",
      "metadata": {
        "id": "view-in-github",
        "colab_type": "text"
      },
      "source": [
        "<a href=\"https://colab.research.google.com/github/sakshitulshyan/Soft-Computing-Lab-2020/blob/master/sakshi%20Tulshyan_4thyear_c1/BAM.ipynb\" target=\"_parent\"><img src=\"https://colab.research.google.com/assets/colab-badge.svg\" alt=\"Open In Colab\"/></a>"
      ]
    },
    {
      "cell_type": "code",
      "metadata": {
        "colab": {
          "base_uri": "https://localhost:8080/"
        },
        "id": "ne15qj-c2BSx",
        "outputId": "06593470-8b37-4faa-c51b-c70321672af6"
      },
      "source": [
        "import numpy as np\n",
        "x1=np.array([[1,1,1,-1,1,-1,-1,1,-1,-1,1,-1,-1,1,-1]])\n",
        "x2=np.array([[1,1,1,1,-1,1,1,-1,1,1,-1,1,1,-1,1]])\n",
        "t1 = np.array([[-1],[1]])\n",
        "t2 = np.array([[1],[1]])\n",
        "w1=np.zeros((15,2),dtype=int)\n",
        "w2=np.zeros((15,2),dtype=int)\n",
        "w=np.zeros((15,2),dtype=int)\n",
        " \n",
        "i=0\n",
        " \n",
        "while(i!=15):\n",
        "    w1[i][0]=x1[0][i]*t1[0][0]\n",
        "    w1[i][1]=x1[0][i]*t1[1][0]\n",
        "    w2[i][0]=x2[0][i]*t2[0][0]\n",
        "    w2[i][1]=x2[0][i]*t2[1][0]\n",
        "    i=i+1\n",
        " \n",
        "w=w1+w2 #final weight matrix\n",
        "print('The Weight Matrix is:\\n')\n",
        "print(w)\n",
        " \n",
        "Yin11=Yin12=Yin21=Yin22=0\n",
        "y1=0\n",
        "y2=0\n",
        "i=0\n",
        " \n",
        "while(i!=15):\n",
        "    Yin11=Yin11+(x1[0][i]*w[i][0])\n",
        "    Yin12=Yin12+(x1[0][i]*w[i][1])\n",
        "    Yin21=Yin21+(x2[0][i]*w[i][0])\n",
        "    Yin22=Yin22+(x2[0][i]*w[i][1])\n",
        "    i=i+1\n",
        " \n",
        " \n",
        "if(Yin11>0):\n",
        "    Yin11=1\n",
        "else:\n",
        "    Yin11=-1\n",
        " \n",
        "if(Yin12>0):\n",
        "    Yin12=1\n",
        "else:\n",
        "    Yin12=-1\n",
        " \n",
        "if(Yin21>0):\n",
        "    Yin21=1\n",
        "else:\n",
        "    Yin21=-1\n",
        " \n",
        "if(Yin22>0):\n",
        "    Yin22=1\n",
        "else:\n",
        "    Yin22=-1\n",
        " \n",
        " \n",
        "i=0\n",
        "Xin1=np.zeros((15,1),dtype=int)\n",
        "Xin2=np.zeros((15,1),dtype=int)\n",
        " \n",
        "while(i!=15):\n",
        "    Xin1[i][0]=Xin1[i][0]+((Yin11*w[i][0])+(Yin12*w[i][1])) \n",
        "    if(Xin1[i][0]>0):\n",
        "        Xin1[i][0]=1\n",
        "    else:\n",
        "        Xin1[i][0]=-1\n",
        "    Xin2[i][0]=Xin2[i][0]+((Yin21*w[i][0])+(Yin22*w[i][1]))\n",
        "    if(Xin2[i][0]>0):\n",
        "        Xin2[i][0]=1\n",
        "    else:\n",
        "        Xin2[i][0]=-1\n",
        "    i=i+1\n",
        " \n",
        " \n",
        "Xin1=Xin1.T\n",
        "Xin2=Xin2.T\n",
        " \n",
        "print('\\n')\n",
        " \n",
        "if((Xin1==x1).all()):\n",
        "  print('Pattern T is recognized')\n",
        "else:\n",
        "  print('Pattern T is not recognized')\n",
        " \n",
        "if((Xin2==x2).all()):\n",
        "  print('Pattern O is recognized')\n",
        "else:\n",
        "  print('Pattern O is not recognized')\n"
      ],
      "execution_count": 105,
      "outputs": [
        {
          "output_type": "stream",
          "text": [
            "The Weight Matrix is:\n",
            "\n",
            "[[ 0  2]\n",
            " [ 0  2]\n",
            " [ 0  2]\n",
            " [ 2  0]\n",
            " [-2  0]\n",
            " [ 2  0]\n",
            " [ 2  0]\n",
            " [-2  0]\n",
            " [ 2  0]\n",
            " [ 2  0]\n",
            " [-2  0]\n",
            " [ 2  0]\n",
            " [ 2  0]\n",
            " [-2  0]\n",
            " [ 2  0]]\n",
            "\n",
            "\n",
            "Pattern T is recognized\n",
            "Pattern O is recognized\n"
          ],
          "name": "stdout"
        }
      ]
    }
  ]
}