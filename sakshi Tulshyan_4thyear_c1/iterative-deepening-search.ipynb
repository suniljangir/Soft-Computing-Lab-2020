{
  "nbformat": 4,
  "nbformat_minor": 0,
  "metadata": {
    "colab": {
      "name": "Untitled3.ipynb",
      "provenance": [],
      "authorship_tag": "ABX9TyNW49VvHeLYIlmf3ai1UG2Q",
      "include_colab_link": true
    },
    "kernelspec": {
      "name": "python3",
      "display_name": "Python 3"
    }
  },
  "cells": [
    {
      "cell_type": "markdown",
      "metadata": {
        "id": "view-in-github",
        "colab_type": "text"
      },
      "source": [
        "<a href=\"https://colab.research.google.com/github/sakshitulshyan/Soft-Computing-Lab-2020/blob/master/sakshi%20Tulshyan_4thyear_c1/iterative-deepening-search.ipynb\" target=\"_parent\"><img src=\"https://colab.research.google.com/assets/colab-badge.svg\" alt=\"Open In Colab\"/></a>"
      ]
    },
    {
      "cell_type": "code",
      "metadata": {
        "colab": {
          "base_uri": "https://localhost:8080/",
          "height": 405
        },
        "id": "SbCCrXZh0dgs",
        "outputId": "3c877c08-06cc-42e1-d82f-296727ad0226"
      },
      "source": [
        "graph = {\n",
        "    'a' : ['b', 'c', 'e'],\n",
        "    'b' : ['d', 'f'],\n",
        "    'c' : ['g','a'],\n",
        "    'e' : ['f'],\n",
        "    'f' : ['e'],\n",
        "}\n",
        "\n",
        "def IDDFS(root, goal):\n",
        "    depth = 0\n",
        "    while True:\n",
        "        print (\"LOOPING AT DEPTH %i \" % (depth))\n",
        "        result = DLS(root, goal, depth)\n",
        "        print (\"RESULT: %s, GOAL: %s\" % (result, goal))\n",
        "        if result == goal:\n",
        "            return result\n",
        "        depth = depth +1\n",
        "\n",
        "def DLS(node, goal, depth):\n",
        "    print (\"NODE: %s, GOAL %s, DEPTH: %i\" % (node, goal, depth))\n",
        "    if depth == 0 and node == goal:\n",
        "        print( \"GOAL FOUND ,RETURN TO\")\n",
        "        return node\n",
        "    elif depth > 0:\n",
        "        print (\"LOOPING THROUGH CHILD NODES: %s\" % (graph.get(node, [])))\n",
        "\n",
        "\n",
        "        for child in graph.get(node, []):\n",
        "            if goal == DLS(child, goal, depth-1):\n",
        "                return goal\n",
        "\n",
        "IDDFS('a', 'g')\n",
        "\n"
      ],
      "execution_count": 1,
      "outputs": [
        {
          "output_type": "stream",
          "text": [
            "LOOPING AT DEPTH 0 \n",
            "NODE: a, GOAL g, DEPTH: 0\n",
            "RESULT: None, GOAL: g\n",
            "LOOPING AT DEPTH 1 \n",
            "NODE: a, GOAL g, DEPTH: 1\n",
            "LOOPING THROUGH CHILD NODES: ['b', 'c', 'e']\n",
            "NODE: b, GOAL g, DEPTH: 0\n",
            "NODE: c, GOAL g, DEPTH: 0\n",
            "NODE: e, GOAL g, DEPTH: 0\n",
            "RESULT: None, GOAL: g\n",
            "LOOPING AT DEPTH 2 \n",
            "NODE: a, GOAL g, DEPTH: 2\n",
            "LOOPING THROUGH CHILD NODES: ['b', 'c', 'e']\n",
            "NODE: b, GOAL g, DEPTH: 1\n",
            "LOOPING THROUGH CHILD NODES: ['d', 'f']\n",
            "NODE: d, GOAL g, DEPTH: 0\n",
            "NODE: f, GOAL g, DEPTH: 0\n",
            "NODE: c, GOAL g, DEPTH: 1\n",
            "LOOPING THROUGH CHILD NODES: ['g', 'a']\n",
            "NODE: g, GOAL g, DEPTH: 0\n",
            "GOAL FOUND ,RETURN TO\n",
            "RESULT: g, GOAL: g\n"
          ],
          "name": "stdout"
        },
        {
          "output_type": "execute_result",
          "data": {
            "application/vnd.google.colaboratory.intrinsic+json": {
              "type": "string"
            },
            "text/plain": [
              "'g'"
            ]
          },
          "metadata": {
            "tags": []
          },
          "execution_count": 1
        }
      ]
    }
  ]
}