{
  "nbformat": 4,
  "nbformat_minor": 0,
  "metadata": {
    "colab": {
      "name": "Untitled2.ipynb",
      "provenance": [],
      "authorship_tag": "ABX9TyMkOnwh6N8jxqd3k0GBh1Zs",
      "include_colab_link": true
    },
    "kernelspec": {
      "name": "python3",
      "display_name": "Python 3"
    }
  },
  "cells": [
    {
      "cell_type": "markdown",
      "metadata": {
        "id": "view-in-github",
        "colab_type": "text"
      },
      "source": [
        "<a href=\"https://colab.research.google.com/github/sakshitulshyan/Soft-Computing-Lab-2020/blob/master/sakshi%20Tulshyan_4thyear_c1/BFS_DFS.ipynb\" target=\"_parent\"><img src=\"https://colab.research.google.com/assets/colab-badge.svg\" alt=\"Open In Colab\"/></a>"
      ]
    },
    {
      "cell_type": "markdown",
      "metadata": {
        "id": "WSoiem96z-ci"
      },
      "source": [
        "BFS"
      ]
    },
    {
      "cell_type": "code",
      "metadata": {
        "colab": {
          "base_uri": "https://localhost:8080/"
        },
        "id": "PgpyEwjZynxV",
        "outputId": "7dfd9443-1bac-4fa8-8a05-3684ca34306b"
      },
      "source": [
        "graph = {'A': ['B', 'C', 'E'],\n",
        "         'B': ['A','D', 'E'],\n",
        "         'C': ['A', 'F', 'G'],\n",
        "         'D': ['B'],\n",
        "         'E': ['A', 'B','D'],\n",
        "         'F': ['C'],\n",
        "         'G': ['C']}\n",
        "def bfs_connected_component(graph, start):\n",
        "\n",
        "   visited = []\n",
        "\n",
        "   queue = [start]\n",
        "\n",
        "\n",
        "   while queue:\n",
        "\n",
        "       node = queue.pop(0)\n",
        "       if node not in visited:\n",
        "\n",
        "           visited.append(node)\n",
        "           neighbours = graph[node]\n",
        "\n",
        "           for neighbour in neighbours:\n",
        "               queue.append(neighbour)\n",
        "   return visited\n",
        "bfs_connected_component(graph,'A')\n"
      ],
      "execution_count": 4,
      "outputs": [
        {
          "output_type": "execute_result",
          "data": {
            "text/plain": [
              "['A', 'B', 'C', 'E', 'D', 'F', 'G']"
            ]
          },
          "metadata": {
            "tags": []
          },
          "execution_count": 4
        }
      ]
    },
    {
      "cell_type": "markdown",
      "metadata": {
        "id": "sy_rrS6y0Ako"
      },
      "source": [
        "DFS"
      ]
    },
    {
      "cell_type": "code",
      "metadata": {
        "colab": {
          "base_uri": "https://localhost:8080/"
        },
        "id": "fn4S1QD50BvF",
        "outputId": "153e7303-8b88-4e9e-ecb1-c03155a0c5c7"
      },
      "source": [
        "def dfs(graph, start, n):\n",
        "    \n",
        "    visited, stack = set(), [start]\n",
        "    \n",
        "    while stack:\n",
        "        vertex = stack.pop()\n",
        "        print(vertex)\n",
        "        \n",
        "        if vertex not in visited:\n",
        "\n",
        "            visited.add(vertex)\n",
        "            stack.extend(graph[vertex] - visited)\n",
        "            \n",
        "        if(vertex==n):\n",
        "            break\n",
        "    \n",
        "            if n not in visited:\n",
        "                print('Node not found! Enter a valid node! Exiting!!')\n",
        "                return visited\n",
        "\n",
        "graph = {1: set([2, 3]),\n",
        "         2: set([1,5,4]),\n",
        "         3: set([1,6]),\n",
        "         4: set([2]),\n",
        "         5: set([2]),\n",
        "         6: set([3])}\n",
        "\n",
        "n=int(input('Enter the node to be searched:'))\n",
        "dfs(graph, 1,n)\n"
      ],
      "execution_count": 5,
      "outputs": [
        {
          "output_type": "stream",
          "text": [
            "Enter the node to be searched:3\n",
            "1\n",
            "3\n"
          ],
          "name": "stdout"
        }
      ]
    }
  ]
}