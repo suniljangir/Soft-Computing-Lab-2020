{
  "nbformat": 4,
  "nbformat_minor": 0,
  "metadata": {
    "colab": {
      "name": "Untitled5.ipynb",
      "provenance": [],
      "authorship_tag": "ABX9TyOdPirFnmv+NkP9dPDoQfDl",
      "include_colab_link": true
    },
    "kernelspec": {
      "name": "python3",
      "display_name": "Python 3"
    }
  },
  "cells": [
    {
      "cell_type": "markdown",
      "metadata": {
        "id": "view-in-github",
        "colab_type": "text"
      },
      "source": [
        "<a href=\"https://colab.research.google.com/github/sakshitulshyan/Soft-Computing-Lab-2020/blob/master/sakshi%20Tulshyan_4thyear_c1/water-jug-problem.ipynb\" target=\"_parent\"><img src=\"https://colab.research.google.com/assets/colab-badge.svg\" alt=\"Open In Colab\"/></a>"
      ]
    },
    {
      "cell_type": "code",
      "metadata": {
        "colab": {
          "base_uri": "https://localhost:8080/"
        },
        "id": "ne15qj-c2BSx",
        "outputId": "1dc34032-6ed5-409f-a3af-17661a83024e"
      },
      "source": [
        "max1=int(input('Enter the capacity of Jug 1:'))\n",
        "max2=int(input('Enter the capacity of Jug 2:'))\n",
        "fill=int(input('Enter the final filling capacity:'))\n",
        "\n",
        "def pour(jug1, jug2):\n",
        "    print(\"%d\\t%d\" % (jug1, jug2))\n",
        "\n",
        "    if jug2 is fill:\n",
        "        return\n",
        "    elif jug2 is max2:\n",
        "        pour(0, jug1)\n",
        "    elif jug1 != 0 and jug2 is 0:\n",
        "        pour(0, jug1)\n",
        "    elif jug1 is fill:\n",
        "        pour(jug1, 0)\n",
        "    elif jug1 < max1:\n",
        "        pour(max1, jug2)\n",
        "    elif jug1 < (max2-jug2):\n",
        "        pour(0, (jug1+jug2))\n",
        "    else:\n",
        "        pour(jug1-(max2-jug2), (max2-jug2)+jug2)\n",
        "\n",
        "print(\"JUG1\\tJUG2\")\n",
        "pour(0, 0)\n"
      ],
      "execution_count": 4,
      "outputs": [
        {
          "output_type": "stream",
          "text": [
            "Enter the capacity of Jug 1:3\n",
            "Enter the capacity of Jug 2:4\n",
            "Enter the final filling capacity:1\n",
            "JUG1\tJUG2\n",
            "0\t0\n",
            "3\t0\n",
            "0\t3\n",
            "3\t3\n",
            "2\t4\n",
            "0\t2\n",
            "3\t2\n",
            "1\t4\n",
            "0\t1\n"
          ],
          "name": "stdout"
        }
      ]
    }
  ]
}