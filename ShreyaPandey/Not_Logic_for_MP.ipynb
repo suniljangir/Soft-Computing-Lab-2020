{
  "nbformat": 4,
  "nbformat_minor": 0,
  "metadata": {
    "colab": {
      "name": "Not Logic for MP.ipynb",
      "provenance": [],
      "collapsed_sections": [],
      "authorship_tag": "ABX9TyNzSCwCcg0ehwAorFhSxEG0",
      "include_colab_link": true
    },
    "kernelspec": {
      "name": "python3",
      "display_name": "Python 3"
    }
  },
  "cells": [
    {
      "cell_type": "markdown",
      "metadata": {
        "id": "view-in-github",
        "colab_type": "text"
      },
      "source": [
        "<a href=\"https://colab.research.google.com/github/spshreya/Soft-Computing-Lab-2020/blob/master/ShreyaPandey/Not_Logic_for_MP.ipynb\" target=\"_parent\"><img src=\"https://colab.research.google.com/assets/colab-badge.svg\" alt=\"Open In Colab\"/></a>"
      ]
    },
    {
      "cell_type": "code",
      "metadata": {
        "colab": {
          "base_uri": "https://localhost:8080/"
        },
        "id": "0oXmeo8yG4pD",
        "outputId": "0ab4a451-f81c-497c-ffb9-36308af71837"
      },
      "source": [
        "import numpy as np\n",
        "x=np.array([[0],[1]])\n",
        "t=np.array([[1],[0]])\n",
        "w=np.array([0])\n",
        "theta=1\n",
        "yin=np.zeros(shape=(2,1))\n",
        "y=np.zeros(shape=(2,1))\n",
        "yin=np.dot(x,w)\n",
        "i=0\n",
        "found=0\n",
        "while(found==0):\n",
        "  i=0\n",
        "  yin=np.dot(x,w)\n",
        "  print(yin)\n",
        "  while(i<2):\n",
        "    if yin[i]>=theta:\n",
        "      y[i]=1 \n",
        "      i=i+1\n",
        "    else:\n",
        "      y[i]=0\n",
        "      i=i+1\n",
        "  print(\"y\",y)\n",
        "  print(\"t\",t)\n",
        "  if (y==t).all():\n",
        "    print(\"MODEL IS TRAINED \")\n",
        "    print(\"\\nOutput : \\n\",y)\n",
        "    print(\"\\nweights : \",w,\"\\n\")\n",
        "    print(\"theta : \",theta)\n",
        "    found=1\n",
        "  else:\n",
        "    print(\"MODEL IS NOT TRAINED\")\n",
        "    w=np.zeros(shape=(0,0))\n",
        "    theta=int(input(\"Enter New Theta : \"))\n",
        "    for k in range(int(1)):\n",
        "      w=int(input(\"Enter Weight : \"))\n"
      ],
      "execution_count": 18,
      "outputs": [
        {
          "output_type": "stream",
          "text": [
            "[0 0]\n",
            "y [[0.]\n",
            " [0.]]\n",
            "t [[1]\n",
            " [0]]\n",
            "MODEL IS NOT TRAINED\n",
            "Enter New Theta : 0\n",
            "Enter Weight : -1\n",
            "[[ 0]\n",
            " [-1]]\n",
            "y [[1.]\n",
            " [0.]]\n",
            "t [[1]\n",
            " [0]]\n",
            "MODEL IS TRAINED \n",
            "\n",
            "Output : \n",
            " [[1.]\n",
            " [0.]]\n",
            "\n",
            "weights :  -1 \n",
            "\n",
            "theta :  0\n"
          ],
          "name": "stdout"
        }
      ]
    }
  ]
}