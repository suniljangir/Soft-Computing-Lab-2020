{
  "nbformat": 4,
  "nbformat_minor": 0,
  "metadata": {
    "colab": {
      "name": "And Using MP Neuron.ipynb",
      "provenance": [],
      "collapsed_sections": [],
      "authorship_tag": "ABX9TyOeMXO92CcGbxZ7VS05wd6y",
      "include_colab_link": true
    },
    "kernelspec": {
      "name": "python3",
      "display_name": "Python 3"
    }
  },
  "cells": [
    {
      "cell_type": "markdown",
      "metadata": {
        "id": "view-in-github",
        "colab_type": "text"
      },
      "source": [
        "<a href=\"https://colab.research.google.com/github/spshreya/Soft-Computing-Lab-2020/blob/master/ShreyaPandey/And_Using_MP_Neuron.ipynb\" target=\"_parent\"><img src=\"https://colab.research.google.com/assets/colab-badge.svg\" alt=\"Open In Colab\"/></a>"
      ]
    },
    {
      "cell_type": "code",
      "metadata": {
        "colab": {
          "base_uri": "https://localhost:8080/"
        },
        "id": "0oXmeo8yG4pD",
        "outputId": "09546530-d0f7-4161-aebb-be7c9e476625"
      },
      "source": [
        "import numpy as np\n",
        "x=np.array([[1,1],[1,0],[0,1],[0,0]])\n",
        "t=np.array([[1],[0],[0],[0]])\n",
        "w=np.array([[0],[0]])\n",
        "theta=1\n",
        "yin=np.zeros(shape=(4,1))\n",
        "y=np.zeros(shape=(4,1))\n",
        "yin=np.dot(x,w)\n",
        "i=0\n",
        "found=0\n",
        "while(found==0):\n",
        "  i=0\n",
        "  yin=np.dot(x,w)\n",
        "    \t#print(yin)\n",
        "  while(i<4):\n",
        "    if yin[i]>=theta:\n",
        "      y[i]=1\n",
        "      i=i+1\n",
        "    else:\n",
        "      y[i]=0\n",
        "      i=i+1\n",
        "    #print(\"y\",y)\n",
        "    #print(\"t\",t)\n",
        "  if (y==t).all():\n",
        "    print(\"MODEL IS TRAINED \")\n",
        "    print(\"\\nOutput : \\n\",y)\n",
        "    print(\"\\nweights : \",w,\"\\n\")\n",
        "    print(\"theta : \",theta)\n",
        "    found=1\n",
        "  else:\n",
        "    print(\"MODEL IS NOT TRAINED\")\n",
        "    w=np.zeros(shape=(0,0))\n",
        "    theta=int(input(\"Enter New Theta : \"))\n",
        "    for k in range(int(2)):\n",
        "      w1=int(input(\"Enter Weight : \"))\n",
        "      w=np.append(w,w1)\n"
      ],
      "execution_count": 11,
      "outputs": [
        {
          "output_type": "stream",
          "text": [
            "MODEL IS NOT TRAINED\n",
            "Enter New Theta : 2\n",
            "Enter Weight : 1\n",
            "Enter Weight : 1\n",
            "MODEL IS TRAINED \n",
            "\n",
            "Output : \n",
            " [[1.]\n",
            " [0.]\n",
            " [0.]\n",
            " [0.]]\n",
            "\n",
            "weights :  [1. 1.] \n",
            "\n",
            "theta :  2\n"
          ],
          "name": "stdout"
        }
      ]
    }
  ]
}