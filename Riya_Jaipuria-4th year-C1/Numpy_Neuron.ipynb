{
  "nbformat": 4,
  "nbformat_minor": 0,
  "metadata": {
    "colab": {
      "name": "Numpy Neuron.ipynb",
      "provenance": [],
      "authorship_tag": "ABX9TyNQhJZ6vktJ/TKlD+N0hKKG",
      "include_colab_link": true
    },
    "kernelspec": {
      "name": "python3",
      "display_name": "Python 3"
    }
  },
  "cells": [
    {
      "cell_type": "markdown",
      "metadata": {
        "id": "view-in-github",
        "colab_type": "text"
      },
      "source": [
        "<a href=\"https://colab.research.google.com/github/RiyaJaipuria/Soft-Computing-Lab-2020/blob/master/Riya_Jaipuria-4th%20year-C1/Numpy_Neuron.ipynb\" target=\"_parent\"><img src=\"https://colab.research.google.com/assets/colab-badge.svg\" alt=\"Open In Colab\"/></a>"
      ]
    },
    {
      "cell_type": "markdown",
      "metadata": {
        "id": "bSeo6pOMiJ7j"
      },
      "source": [
        "AIM:Write a program to implement logic gate functions using numpy neuron."
      ]
    },
    {
      "cell_type": "markdown",
      "metadata": {
        "id": "ZHHq89r9iP_-"
      },
      "source": [
        "1. AND"
      ]
    },
    {
      "cell_type": "code",
      "metadata": {
        "colab": {
          "base_uri": "https://localhost:8080/"
        },
        "id": "b4weEXTeiRMI",
        "outputId": "883856a9-85e9-4093-94d2-f43d03605e74"
      },
      "source": [
        "import numpy as np\n",
        "x=np.array([[1,1],[1,0],[0,1],[0,0]])\n",
        "t=np.array([[1],[0],[0],[0]])\n",
        "w=np.array([[0],[0]])\n",
        "theta=1\n",
        "yin=np.zeros(shape=(4,1))\n",
        "y=np.zeros(shape=(4,1))\n",
        "yin=np.dot(x,w)\n",
        "i=0\n",
        "found=0\n",
        "while(found==0):\n",
        "  i=0\n",
        "  yin=np.dot(x,w)\n",
        "  print(\"Y is initiallised\",yin)\n",
        "  while(i<4):\n",
        "    if yin[i]>=theta:\n",
        "      y[i]=1 \n",
        "      i=i+1\n",
        "    else:\n",
        "      y[i]=0\n",
        "      i=i+1\n",
        "  print(\"Calculated y\",y)\n",
        "  print(\"Expected Target t\",t)\n",
        "  if (y==t).all():\n",
        "    print(\"MODEL IS TRAINED \")\n",
        "    print(\"\\nOutput : \\n\",y)\n",
        "    print(\"\\nweights : \",w,\"\\n\")\n",
        "    print(\"theta : \",theta)\n",
        "    found=1\n",
        "  else:\n",
        "    print(\"MODEL IS NOT TRAINED\")\n",
        "    w=np.zeros(shape=(0,0))\n",
        "    theta=int(input(\"Enter New Theta : \"))\n",
        "    for k in range(int(2)):\n",
        "      w1=int(input(\"Enter Weight : \"))\n",
        "      w=np.append(w,w1)\n"
      ],
      "execution_count": 7,
      "outputs": [
        {
          "output_type": "stream",
          "text": [
            "Y is initiallised [[0]\n",
            " [0]\n",
            " [0]\n",
            " [0]]\n",
            "Calculated y [[0.]\n",
            " [0.]\n",
            " [0.]\n",
            " [0.]]\n",
            "Expected Target t [[1]\n",
            " [0]\n",
            " [0]\n",
            " [0]]\n",
            "MODEL IS NOT TRAINED\n",
            "Enter New Theta : 2\n",
            "Enter Weight : 1\n",
            "Enter Weight : 1\n",
            "Y is initiallised [2. 1. 1. 0.]\n",
            "Calculated y [[1.]\n",
            " [0.]\n",
            " [0.]\n",
            " [0.]]\n",
            "Expected Target t [[1]\n",
            " [0]\n",
            " [0]\n",
            " [0]]\n",
            "MODEL IS TRAINED \n",
            "\n",
            "Output : \n",
            " [[1.]\n",
            " [0.]\n",
            " [0.]\n",
            " [0.]]\n",
            "\n",
            "weights :  [1. 1.] \n",
            "\n",
            "theta :  2\n"
          ],
          "name": "stdout"
        }
      ]
    },
    {
      "cell_type": "markdown",
      "metadata": {
        "id": "n1fv_MDFjcxn"
      },
      "source": [
        "2. OR"
      ]
    },
    {
      "cell_type": "code",
      "metadata": {
        "colab": {
          "base_uri": "https://localhost:8080/"
        },
        "id": "sq-6PqckjeIn",
        "outputId": "c53c2bfa-d6f9-48da-e037-f8992065e35a"
      },
      "source": [
        "import numpy as np\n",
        "x=np.array([[1,1],[1,0],[0,1],[0,0]])\n",
        "t=np.array([[1],[1],[1],[0]])\n",
        "w=np.array([[0],[0]])\n",
        "theta=1\n",
        "yin=np.zeros(shape=(4,1))\n",
        "y=np.zeros(shape=(4,1))\n",
        "yin=np.dot(x,w)\n",
        "i=0\n",
        "found=0\n",
        "while(found==0):\n",
        "  i=0\n",
        "  yin=np.dot(x,w)\n",
        "  print(\"Y is initiallised\",yin)\n",
        "  while(i<4):\n",
        "    if yin[i]>=theta:\n",
        "      y[i]=1 \n",
        "      i=i+1\n",
        "    else:\n",
        "      y[i]=0\n",
        "      i=i+1\n",
        "  print(\"Calculated y\",y)\n",
        "  print(\"Expected Target t\",t)\n",
        "  if (y==t).all():\n",
        "    print(\"MODEL IS TRAINED \")\n",
        "    print(\"\\nOutput : \\n\",y)\n",
        "    print(\"\\nweights : \",w,\"\\n\")\n",
        "    print(\"theta : \",theta)\n",
        "    found=1\n",
        "  else:\n",
        "    print(\"MODEL IS NOT TRAINED\")\n",
        "    w=np.zeros(shape=(0,0))\n",
        "    theta=int(input(\"Enter New Theta : \"))\n",
        "    for k in range(int(2)):\n",
        "      w1=int(input(\"Enter Weight : \"))\n",
        "      w=np.append(w,w1)\n"
      ],
      "execution_count": 9,
      "outputs": [
        {
          "output_type": "stream",
          "text": [
            "Y is initiallised [[0]\n",
            " [0]\n",
            " [0]\n",
            " [0]]\n",
            "Calculated y [[0.]\n",
            " [0.]\n",
            " [0.]\n",
            " [0.]]\n",
            "Expected Target t [[1]\n",
            " [1]\n",
            " [1]\n",
            " [0]]\n",
            "MODEL IS NOT TRAINED\n",
            "Enter New Theta : 1\n",
            "Enter Weight : 1\n",
            "Enter Weight : 1\n",
            "Y is initiallised [2. 1. 1. 0.]\n",
            "Calculated y [[1.]\n",
            " [1.]\n",
            " [1.]\n",
            " [0.]]\n",
            "Expected Target t [[1]\n",
            " [1]\n",
            " [1]\n",
            " [0]]\n",
            "MODEL IS TRAINED \n",
            "\n",
            "Output : \n",
            " [[1.]\n",
            " [1.]\n",
            " [1.]\n",
            " [0.]]\n",
            "\n",
            "weights :  [1. 1.] \n",
            "\n",
            "theta :  1\n"
          ],
          "name": "stdout"
        }
      ]
    },
    {
      "cell_type": "markdown",
      "metadata": {
        "id": "W4ODm-ogjfHD"
      },
      "source": [
        "3. NOR"
      ]
    },
    {
      "cell_type": "code",
      "metadata": {
        "colab": {
          "base_uri": "https://localhost:8080/"
        },
        "id": "GwGUQd8_jk6Z",
        "outputId": "f23f6a59-f437-428d-bb2b-c58b33900711"
      },
      "source": [
        "import numpy as np\n",
        "x=np.array([[1,1],[1,0],[0,1],[0,0]])\n",
        "t=np.array([[0],[0],[0],[1]])\n",
        "w=np.array([[0],[0]])\n",
        "theta=1\n",
        "yin=np.zeros(shape=(4,1))\n",
        "y=np.zeros(shape=(4,1))\n",
        "yin=np.dot(x,w)\n",
        "i=0\n",
        "found=0\n",
        "while(found==0):\n",
        "    i=0\n",
        "    yin=np.dot(x,w)\n",
        "    print(\"Y is initiallised\",yin)\n",
        "    while(i<4):\n",
        "        if yin[i]>=theta:\n",
        "            y[i]=1 \n",
        "            i=i+1\n",
        "        else:\n",
        "            y[i]=0\n",
        "            i=i+1\n",
        "    print(\"Calculated y\",y)\n",
        "    print(\"Expected Target t\",t)\n",
        "    if (y==t).all():\n",
        "        print(\"MODEL IS TRAINED \")\n",
        "        print(\"\\nOutput : \\n\",y)\n",
        "        print(\"\\nweights : \",w,\"\\n\")\n",
        "        print(\"theta : \",theta)\n",
        "        found=1\n",
        "    else:\n",
        "        print(\"MODEL IS NOT TRAINED\")\n",
        "        w=np.zeros(shape=(0,0))\n",
        "        theta=int(input(\"Enter New Theta : \"))\n",
        "        for k in range(int(2)):\n",
        "            w1=int(input(\"Enter Weight : \"))\n",
        "            w=np.append(w,w1)\n"
      ],
      "execution_count": 10,
      "outputs": [
        {
          "output_type": "stream",
          "text": [
            "Y is initiallised [[0]\n",
            " [0]\n",
            " [0]\n",
            " [0]]\n",
            "Calculated y [[0.]\n",
            " [0.]\n",
            " [0.]\n",
            " [0.]]\n",
            "Expected Target t [[0]\n",
            " [0]\n",
            " [0]\n",
            " [1]]\n",
            "MODEL IS NOT TRAINED\n",
            "Enter New Theta : 0\n",
            "Enter Weight : -1\n",
            "Enter Weight : -1\n",
            "Y is initiallised [-2. -1. -1.  0.]\n",
            "Calculated y [[0.]\n",
            " [0.]\n",
            " [0.]\n",
            " [1.]]\n",
            "Expected Target t [[0]\n",
            " [0]\n",
            " [0]\n",
            " [1]]\n",
            "MODEL IS TRAINED \n",
            "\n",
            "Output : \n",
            " [[0.]\n",
            " [0.]\n",
            " [0.]\n",
            " [1.]]\n",
            "\n",
            "weights :  [-1. -1.] \n",
            "\n",
            "theta :  0\n"
          ],
          "name": "stdout"
        }
      ]
    },
    {
      "cell_type": "markdown",
      "metadata": {
        "id": "MHy-ztjkjmQN"
      },
      "source": [
        "4. ANDNOT"
      ]
    },
    {
      "cell_type": "code",
      "metadata": {
        "colab": {
          "base_uri": "https://localhost:8080/"
        },
        "id": "0I90nb2ijofK",
        "outputId": "8d8cb833-01dd-486d-a24d-6e734c1d40e4"
      },
      "source": [
        "import numpy as np\n",
        "x=np.array([[1,1],[1,0],[0,1],[0,0]])\n",
        "t=np.array([[0],[1],[0],[0]])\n",
        "w=np.array([[0],[0]])\n",
        "theta=1\n",
        "yin=np.zeros(shape=(4,1))\n",
        "y=np.zeros(shape=(4,1))\n",
        "yin=np.dot(x,w)\n",
        "i=0\n",
        "found=0\n",
        "while(found==0):\n",
        "    i=0\n",
        "    yin=np.dot(x,w)\n",
        "    print(\"Y is initiallised\",yin)\n",
        "    while(i<4):\n",
        "        if yin[i]>=theta:\n",
        "            y[i]=1 \n",
        "            i=i+1\n",
        "        else:\n",
        "            y[i]=0\n",
        "            i=i+1\n",
        "    print(\"Calculated y\",y)\n",
        "    print(\"Expected Target t\",t)\n",
        "    if (y==t).all():\n",
        "        print(\"MODEL IS TRAINED \")\n",
        "        print(\"\\nOutput : \\n\",y)\n",
        "        print(\"\\nweights : \",w,\"\\n\")\n",
        "        print(\"theta : \",theta)\n",
        "        found=1\n",
        "    else:\n",
        "        print(\"MODEL IS NOT TRAINED\")\n",
        "        w=np.zeros(shape=(0,0))\n",
        "        theta=int(input(\"Enter New Theta : \"))\n",
        "        for k in range(int(2)):\n",
        "            w1=int(input(\"Enter Weight : \"))\n",
        "            w=np.append(w,w1)\n"
      ],
      "execution_count": 11,
      "outputs": [
        {
          "output_type": "stream",
          "text": [
            "Y is initiallised [[0]\n",
            " [0]\n",
            " [0]\n",
            " [0]]\n",
            "Calculated y [[0.]\n",
            " [0.]\n",
            " [0.]\n",
            " [0.]]\n",
            "Expected Target t [[0]\n",
            " [1]\n",
            " [0]\n",
            " [0]]\n",
            "MODEL IS NOT TRAINED\n",
            "Enter New Theta : 1\n",
            "Enter Weight : 1\n",
            "Enter Weight : -1\n",
            "Y is initiallised [ 0.  1. -1.  0.]\n",
            "Calculated y [[0.]\n",
            " [1.]\n",
            " [0.]\n",
            " [0.]]\n",
            "Expected Target t [[0]\n",
            " [1]\n",
            " [0]\n",
            " [0]]\n",
            "MODEL IS TRAINED \n",
            "\n",
            "Output : \n",
            " [[0.]\n",
            " [1.]\n",
            " [0.]\n",
            " [0.]]\n",
            "\n",
            "weights :  [ 1. -1.] \n",
            "\n",
            "theta :  1\n"
          ],
          "name": "stdout"
        }
      ]
    },
    {
      "cell_type": "markdown",
      "metadata": {
        "id": "I9KrePTXjsSZ"
      },
      "source": [
        "5. NOT"
      ]
    },
    {
      "cell_type": "code",
      "metadata": {
        "colab": {
          "base_uri": "https://localhost:8080/"
        },
        "id": "inW1-3H5j2v4",
        "outputId": "dd699fc4-c49e-461f-9bc0-554dc65f2e0f"
      },
      "source": [
        "import numpy as np\n",
        "x=np.array([[0],[1]])\n",
        "t=np.array([[1],[0]])\n",
        "w=np.array([0])\n",
        "theta=1\n",
        "yin=np.zeros(shape=(2,1))\n",
        "y=np.zeros(shape=(2,1))\n",
        "yin=np.dot(x,w)\n",
        "i=0\n",
        "found=0\n",
        "while(found==0):\n",
        "\ti=0\n",
        "\tyin=np.dot(x,w)\n",
        "\tprint(yin)\n",
        "\twhile(i<2):\n",
        "\t  if yin[i]>=theta:\n",
        "\t    y[i]=1 \n",
        "\t    i=i+1\n",
        "\n",
        "\t  #if(i==4):\n",
        "\t  #break\n",
        "\t  else:\n",
        "\t    y[i]=0\n",
        "\t    i=i+1\n",
        "\tprint(\"y\",y)\n",
        "\tprint(\"t\",t)\n",
        "\tif (y==t).all():\n",
        "\t  print(\"MODEL IS TRAINED \")\n",
        "\t  print(\"\\nOutput : \\n\",y)\n",
        "\t  print(\"\\nweights : \",w,\"\\n\")\n",
        "\t  print(\"theta : \",theta)\n",
        "\t  found=1\n",
        "\telse:\n",
        "\t  print(\"MODEL IS NOT TRAINED\")\n",
        "\t  w=np.zeros(shape=(0,0))\n",
        "\t  theta=int(input(\"Enter New Theta : \"))\n",
        "\tfor k in range(int(1)):\n",
        "\t  w=int(input(\"Enter Weight : \"))\n",
        "\n"
      ],
      "execution_count": 13,
      "outputs": [
        {
          "output_type": "stream",
          "text": [
            "[0 0]\n",
            "y [[0.]\n",
            " [0.]]\n",
            "t [[1]\n",
            " [0]]\n",
            "MODEL IS NOT TRAINED\n",
            "Enter New Theta : 0\n",
            "Enter Weight : -1\n",
            "[[ 0]\n",
            " [-1]]\n",
            "y [[1.]\n",
            " [0.]]\n",
            "t [[1]\n",
            " [0]]\n",
            "MODEL IS TRAINED \n",
            "\n",
            "Output : \n",
            " [[1.]\n",
            " [0.]]\n",
            "\n",
            "weights :  -1 \n",
            "\n",
            "theta :  0\n",
            "Enter Weight : -1\n"
          ],
          "name": "stdout"
        }
      ]
    },
    {
      "cell_type": "markdown",
      "metadata": {
        "id": "qf0gsxtrmLGF"
      },
      "source": [
        "Sunmitted by: Riya Jaipuria\n",
        "Enroll No.: 170384"
      ]
    }
  ]
}