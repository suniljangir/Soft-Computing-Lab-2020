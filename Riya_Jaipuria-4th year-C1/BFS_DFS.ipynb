{
  "nbformat": 4,
  "nbformat_minor": 0,
  "metadata": {
    "colab": {
      "name": "BFS_DFS.ipynb",
      "provenance": [],
      "authorship_tag": "ABX9TyMhVKZOaJQ4cIF5uaVdSnJd",
      "include_colab_link": true
    },
    "kernelspec": {
      "name": "python3",
      "display_name": "Python 3"
    }
  },
  "cells": [
    {
      "cell_type": "markdown",
      "metadata": {
        "id": "view-in-github",
        "colab_type": "text"
      },
      "source": [
        "<a href=\"https://colab.research.google.com/github/RiyaJaipuria/Soft-Computing-Lab-2020/blob/master/Riya_Jaipuria-4th%20year-C1/BFS_DFS.ipynb\" target=\"_parent\"><img src=\"https://colab.research.google.com/assets/colab-badge.svg\" alt=\"Open In Colab\"/></a>"
      ]
    },
    {
      "cell_type": "markdown",
      "metadata": {
        "id": "_lg-D5YeZ7Nr"
      },
      "source": [
        "AIM: Write a program to implement the following searching techniques: BFS and DFS"
      ]
    },
    {
      "cell_type": "code",
      "metadata": {
        "colab": {
          "base_uri": "https://localhost:8080/"
        },
        "id": "mPuIhFt2aArq",
        "outputId": "5ca0f2c7-5ab3-43d9-f78b-a51d48b1f610"
      },
      "source": [
        "import collections\n",
        "\n",
        "# BFS algorithm\n",
        "graph = {'A': ['B','C'],\n",
        "         'B': ['A','D','E'],\n",
        "         'C': ['F','G','A'],\n",
        "         'D': ['B'],\n",
        "         'E': ['H','B'],\n",
        "         'F': ['C'],\n",
        "         'G': ['C'],\n",
        "         'H': ['E']\n",
        "        }\n",
        "def bfs(graph, root):\n",
        "    visited, queue = set([root]), collections.deque([root])\n",
        "    while queue:\n",
        "        vertex = queue.popleft()\n",
        "        visit(vertex)\n",
        "        for node in graph[vertex]:\n",
        "            if node not in visited:\n",
        "                visited.add(node)\n",
        "                queue.append(node)\n",
        "\n",
        "def visit(n): print(n)\n",
        "bfs(graph, 'A')"
      ],
      "execution_count": 1,
      "outputs": [
        {
          "output_type": "stream",
          "text": [
            "A\n",
            "B\n",
            "C\n",
            "D\n",
            "E\n",
            "F\n",
            "G\n",
            "H\n"
          ],
          "name": "stdout"
        }
      ]
    },
    {
      "cell_type": "code",
      "metadata": {
        "colab": {
          "base_uri": "https://localhost:8080/"
        },
        "id": "RPzQvFqDaH2k",
        "outputId": "43c477b1-062b-4816-c672-ddbf1c2a2b84"
      },
      "source": [
        "import collections\n",
        "graph = {'A': ['B','C'],\n",
        "         'B': ['A','D','E'],\n",
        "         'C': ['F','G','A'],\n",
        "         'D': ['B'],\n",
        "         'E': ['H','B'],\n",
        "         'F': ['C'],\n",
        "         'G': ['C'],\n",
        "         'H': ['E']\n",
        "        }\n",
        "\n",
        "def dfs(graph,start,end,route,list):\n",
        "    route+=[start]\n",
        "    if start == end:\n",
        "        list.extend(route)\n",
        "    else:\n",
        "        for node in graph[start]:\n",
        "            if node not in route:\n",
        "                dfs(graph,node,end,route,list)\n",
        "\n",
        "def dfs_route(graph,start,end):\n",
        "      list = []\n",
        "      dfs(graph,start,end,[],list)\n",
        "      return list\n",
        "\n",
        "print(dfs_route(graph,'A','G'))"
      ],
      "execution_count": 2,
      "outputs": [
        {
          "output_type": "stream",
          "text": [
            "['A', 'B', 'D', 'E', 'H', 'C', 'F', 'G']\n"
          ],
          "name": "stdout"
        }
      ]
    },
    {
      "cell_type": "markdown",
      "metadata": {
        "id": "LNWDYcfBaJeM"
      },
      "source": [
        "Submitted by: Riya Jaipuria\n",
        "Enroll no: 170384"
      ]
    }
  ]
}