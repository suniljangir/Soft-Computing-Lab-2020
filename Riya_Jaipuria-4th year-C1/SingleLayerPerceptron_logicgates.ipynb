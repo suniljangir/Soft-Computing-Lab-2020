{
  "nbformat": 4,
  "nbformat_minor": 0,
  "metadata": {
    "colab": {
      "name": "SingleLayerPerceptron_logicgates.ipynb",
      "provenance": [],
      "authorship_tag": "ABX9TyN+QYfbTagNCEpm5zPH2/7W",
      "include_colab_link": true
    },
    "kernelspec": {
      "name": "python3",
      "display_name": "Python 3"
    }
  },
  "cells": [
    {
      "cell_type": "markdown",
      "metadata": {
        "id": "view-in-github",
        "colab_type": "text"
      },
      "source": [
        "<a href=\"https://colab.research.google.com/github/RiyaJaipuria/Soft-Computing-Lab-2020/blob/master/Riya_Jaipuria-4th%20year-C1/SingleLayerPerceptron_logicgates.ipynb\" target=\"_parent\"><img src=\"https://colab.research.google.com/assets/colab-badge.svg\" alt=\"Open In Colab\"/></a>"
      ]
    },
    {
      "cell_type": "markdown",
      "metadata": {
        "id": "Yp-Ko-K1do9q"
      },
      "source": [
        "AIM: Write a program in Python to implement single layer perceptron"
      ]
    },
    {
      "cell_type": "markdown",
      "metadata": {
        "id": "qkaCgRavd_T7"
      },
      "source": [
        "1. AND "
      ]
    },
    {
      "cell_type": "code",
      "metadata": {
        "colab": {
          "base_uri": "https://localhost:8080/"
        },
        "id": "ZdFwBeweeC58",
        "outputId": "0501639a-6231-49e7-990f-8cfa91750b06"
      },
      "source": [
        "import numpy as np\n",
        "x=np.array([[1,1],[1,-1],[-1,1],[-1,-1]])\n",
        "t=np.array([[1],[1],[1],[-1]])\n",
        "w=np.array([[0],[0]])\n",
        "b=0\n",
        "theta=float(input(\"Enter new theta:\"))\n",
        "alpha=float(input(\"Enter new alpha:\"))\n",
        "yin=np.zeros(shape=(4,1))\n",
        "y=np.zeros(shape=(4,1))\n",
        "i=0\n",
        "found=0\n",
        "while(found==0):\n",
        "    yin=x[i][0]*w[0]+x[i][1]*w[1]\n",
        "    yin = yin+b\n",
        "    if(yin>theta):\n",
        "        y[i] = 1\n",
        "    elif(yin<=theta and yin>=-theta):\n",
        "        y[i]=0\n",
        "    else:\n",
        "        y[i]=-1\n",
        "    if (y[i]==t[i]):\n",
        "        print(\"NO UPDATION REQUIRED\")\n",
        "        print(y[i])\n",
        "        if(i<3):\n",
        "            i=i+1\n",
        "        else:\n",
        "            i=0\n",
        "    else:\n",
        "        print(\"MODEL IS NOT TRAINED\")\n",
        "        print(\"The value of output is\")\n",
        "        print(y)\n",
        "        w[0]=w[0]+alpha*x[i][0]*t[i]\n",
        "        w[1]=w[1]+alpha*x[i][1]*t[i]\n",
        "        b = b+alpha*t[i]\n",
        "        if(i<3):\n",
        "            i=i+1\n",
        "        else:\n",
        "            i=0\n",
        "    if(y==t).all():       \n",
        "        found=1\n",
        "print(\"The final weight matrix is:\")\n",
        "print(w)\n",
        "print(\"The final output is:\")\n",
        "print(y)\n"
      ],
      "execution_count": 1,
      "outputs": [
        {
          "output_type": "stream",
          "text": [
            "Enter new theta:0.2\n",
            "Enter new alpha:1\n",
            "MODEL IS NOT TRAINED\n",
            "The value of output is\n",
            "[[0.]\n",
            " [0.]\n",
            " [0.]\n",
            " [0.]]\n",
            "NO UPDATION REQUIRED\n",
            "[1.]\n",
            "NO UPDATION REQUIRED\n",
            "[1.]\n",
            "NO UPDATION REQUIRED\n",
            "[-1.]\n",
            "NO UPDATION REQUIRED\n",
            "[1.]\n",
            "The final weight matrix is:\n",
            "[[1]\n",
            " [1]]\n",
            "The final output is:\n",
            "[[ 1.]\n",
            " [ 1.]\n",
            " [ 1.]\n",
            " [-1.]]\n"
          ],
          "name": "stdout"
        }
      ]
    },
    {
      "cell_type": "markdown",
      "metadata": {
        "id": "5MlxlyeAeT4u"
      },
      "source": [
        "2. ANDNOT"
      ]
    },
    {
      "cell_type": "code",
      "metadata": {
        "colab": {
          "base_uri": "https://localhost:8080/"
        },
        "id": "fvMrss0iehks",
        "outputId": "8b482270-ceab-44df-a66d-6cdd79ab1536"
      },
      "source": [
        "import numpy as np\n",
        "x=np.array([[1,1],[1,-1],[-1,1],[-1,-1]])\n",
        "t=np.array([[-1],[1],[-1],[-1]])\n",
        "w=np.array([[0],[0]])\n",
        "b=0\n",
        "theta=float(input(\"Enter new theta:\"))\n",
        "alpha=float(input(\"Enter new alpha:\"))\n",
        "yin=np.zeros(shape=(4,1))\n",
        "y=np.zeros(shape=(4,1))\n",
        "i=0\n",
        "found=0\n",
        "while(found==0):\n",
        "    yin=x[i][0]*w[0]+x[i][1]*w[1]\n",
        "    yin = yin+b\n",
        "    if(yin>theta):\n",
        "        y[i] = 1\n",
        "    elif(yin<=theta and yin>=-theta):\n",
        "        y[i]=0\n",
        "    else:\n",
        "        y[i]=-1\n",
        "    if (y[i]==t[i]):\n",
        "        print(\"NO UPDATION REQUIRED\")\n",
        "        print(y[i])\n",
        "        if(i<3):\n",
        "            i=i+1\n",
        "        else:\n",
        "            i=0\n",
        "    else:\n",
        "        print(\"MODEL IS NOT TRAINED\")\n",
        "        print(\"The value of output is\")\n",
        "        print(y)\n",
        "        w[0]=w[0]+alpha*x[i][0]*t[i]\n",
        "        w[1]=w[1]+alpha*x[i][1]*t[i]\n",
        "        b = b+alpha*t[i]\n",
        "        if(i<3):\n",
        "            i=i+1\n",
        "        else:\n",
        "            i=0\n",
        "    if(y==t).all():\n",
        "        found=1\n",
        "print(\"The final weight matrix is \")\n",
        "print(w)\n",
        "print(\"The final output is:\")\n",
        "print(y)\n"
      ],
      "execution_count": 2,
      "outputs": [
        {
          "output_type": "stream",
          "text": [
            "Enter new theta:0.2\n",
            "Enter new alpha:1\n",
            "MODEL IS NOT TRAINED\n",
            "The value of output is\n",
            "[[0.]\n",
            " [0.]\n",
            " [0.]\n",
            " [0.]]\n",
            "MODEL IS NOT TRAINED\n",
            "The value of output is\n",
            "[[ 0.]\n",
            " [-1.]\n",
            " [ 0.]\n",
            " [ 0.]]\n",
            "NO UPDATION REQUIRED\n",
            "[-1.]\n",
            "MODEL IS NOT TRAINED\n",
            "The value of output is\n",
            "[[ 0.]\n",
            " [-1.]\n",
            " [-1.]\n",
            " [ 1.]]\n",
            "NO UPDATION REQUIRED\n",
            "[-1.]\n",
            "NO UPDATION REQUIRED\n",
            "[1.]\n",
            "NO UPDATION REQUIRED\n",
            "[-1.]\n",
            "NO UPDATION REQUIRED\n",
            "[-1.]\n",
            "The final weight matrix is \n",
            "[[ 1]\n",
            " [-1]]\n",
            "The final output is:\n",
            "[[-1.]\n",
            " [ 1.]\n",
            " [-1.]\n",
            " [-1.]]\n"
          ],
          "name": "stdout"
        }
      ]
    },
    {
      "cell_type": "markdown",
      "metadata": {
        "id": "3QWtXSLAeq-S"
      },
      "source": [
        "Submitted by: Riya Jaipuria (170384)"
      ]
    }
  ]
}