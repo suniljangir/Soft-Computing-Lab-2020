{
  "nbformat": 4,
  "nbformat_minor": 0,
  "metadata": {
    "colab": {
      "name": "MP neuron.ipynb",
      "provenance": [],
      "collapsed_sections": [],
      "authorship_tag": "ABX9TyPbFWnSRnMkij1JSS5/0kab",
      "include_colab_link": true
    },
    "kernelspec": {
      "name": "python3",
      "display_name": "Python 3"
    }
  },
  "cells": [
    {
      "cell_type": "markdown",
      "metadata": {
        "id": "view-in-github",
        "colab_type": "text"
      },
      "source": [
        "<a href=\"https://colab.research.google.com/github/RiyaJaipuria/Soft-Computing-Lab-2020/blob/master/Riya_Jaipuria-4th%20year-C1/MP_neuron.ipynb\" target=\"_parent\"><img src=\"https://colab.research.google.com/assets/colab-badge.svg\" alt=\"Open In Colab\"/></a>"
      ]
    },
    {
      "cell_type": "markdown",
      "metadata": {
        "id": "sq-5_NwYcbEJ"
      },
      "source": [
        "Write a program in Python to implement NAND function using MP neuron."
      ]
    },
    {
      "cell_type": "code",
      "metadata": {
        "colab": {
          "base_uri": "https://localhost:8080/"
        },
        "id": "w9EYZ2Vecg2L",
        "outputId": "5bd9565d-1260-487c-bf14-2cdee90eeaa4"
      },
      "source": [
        "w1 = int(input(\"enter the weight 1: \"))\n",
        "w2 = int(input(\"enter the weight 2: \"))\n",
        "theta = int(input(\"enter the theta:\"))\n",
        "inputarray = [[0,0],[0,1],[1,0],[1,1]]\n",
        "expected = [1,1,1,0]\n",
        "actual = []\n",
        "for i in range(0,4):\n",
        "    temp = inputarray[i][0]*w1+inputarray[i][1]*w2\n",
        "    if(temp >= theta):\n",
        "        actual.append(1)\n",
        "    else:\n",
        "        actual.append(0)\n",
        "for i in range(0,4):\n",
        "    if(expected[i] == actual[i]):\n",
        "        found = 1\n",
        "    else:\n",
        "        found = 0\n",
        "        break\n",
        "print(\"Input array\")\n",
        "print(inputarray)\n",
        "print(\"Actual output\")\n",
        "print(actual)\n",
        "print(\"Expected output\")\n",
        "print(expected)\n",
        "if(found ==1):\n",
        "    print(\"assumed weights and theta are correct\")\n",
        "else:\n",
        "    print(\"assumed weights and theta are incorrect\")\n",
        "-\n"
      ],
      "execution_count": 3,
      "outputs": [
        {
          "output_type": "stream",
          "text": [
            "enter the weight 1: -1\n",
            "enter the weight 2: -1\n",
            "enter the theta:-1\n",
            "Input array\n",
            "[[0, 0], [0, 1], [1, 0], [1, 1]]\n",
            "Actual output\n",
            "[1, 1, 1, 0]\n",
            "Expected output\n",
            "[1, 1, 1, 0]\n",
            "assumed weights and theta are correct\n"
          ],
          "name": "stdout"
        }
      ]
    },
    {
      "cell_type": "markdown",
      "metadata": {
        "id": "x1Li-eoUdNuT"
      },
      "source": [
        "Submitted by: Riya Jaipuria (170384)"
      ]
    }
  ]
}