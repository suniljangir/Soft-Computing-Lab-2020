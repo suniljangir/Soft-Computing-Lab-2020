{
  "nbformat": 4,
  "nbformat_minor": 0,
  "metadata": {
    "colab": {
      "name": "Water Jug.ipynb",
      "provenance": [],
      "authorship_tag": "ABX9TyM/j5SOD2T+LBiNx0nfBImh",
      "include_colab_link": true
    },
    "kernelspec": {
      "name": "python3",
      "display_name": "Python 3"
    }
  },
  "cells": [
    {
      "cell_type": "markdown",
      "metadata": {
        "id": "view-in-github",
        "colab_type": "text"
      },
      "source": [
        "<a href=\"https://colab.research.google.com/github/RiyaJaipuria/Soft-Computing-Lab-2020/blob/master/Riya_Jaipuria-4th%20year-C1/Water_Jug.ipynb\" target=\"_parent\"><img src=\"https://colab.research.google.com/assets/colab-badge.svg\" alt=\"Open In Colab\"/></a>"
      ]
    },
    {
      "cell_type": "markdown",
      "metadata": {
        "id": "CouxK2a9YzR_"
      },
      "source": [
        "AIM: Write a program to implement water jug problem with two jugs the capacity of both the jugs should be entered by user. The quantity of the water to be stored should also be dynamic. The output will show all the steps to get the final state."
      ]
    },
    {
      "cell_type": "code",
      "metadata": {
        "colab": {
          "base_uri": "https://localhost:8080/"
        },
        "id": "styvTEFaY488",
        "outputId": "d67b17ff-401c-4432-fa17-8c8964af9f94"
      },
      "source": [
        "n1=int(input(\"Enter the capacity of first jug: \"))\n",
        "n2=int(input(\"Enter the capacity of second jug: \"))\n",
        "n3=int(input(\"In which jug to be filled :\"))\n",
        "n4=int(input(\"How much to be filled: \"))"
      ],
      "execution_count": 1,
      "outputs": [
        {
          "output_type": "stream",
          "text": [
            "Enter the capacity of first jug: 5\n",
            "Enter the capacity of second jug: 7\n",
            "In which jug to be filled :2\n",
            "How much to be filled: 2\n"
          ],
          "name": "stdout"
        }
      ]
    },
    {
      "cell_type": "code",
      "metadata": {
        "colab": {
          "base_uri": "https://localhost:8080/"
        },
        "id": "ZVxCY0RDY65a",
        "outputId": "a54f4b35-77c8-44fd-c106-3afa49f79972"
      },
      "source": [
        "class Waterjug:\n",
        "    def __init__(self,am,bm,a,b,g):\n",
        "        self.a_max = am;\n",
        "        self.b_max = bm;\n",
        "        self.a = a;\n",
        "        self.b = b;\n",
        "        self.goal = g;\n",
        "    def fillA(self):\n",
        "        self.a = self.a_max;\n",
        "        print ('(', self.a, ',',self.b, ')')\n",
        "    def fillB(self):\n",
        "        self.b = self.b_max;\n",
        "        print ('(', self.a, ',', self.b, ')')\n",
        "    def emptyA(self):\n",
        "        self.a = 0;\n",
        "        print ('(', self.a, ',', self.b, ')')\n",
        "    def emptyB(self):\n",
        "        self.b = 0;\n",
        "        print ('(', self.a, ',', self.b, ')')\n",
        "    def transferAtoB(self):\n",
        "        while (True):\n",
        "            self.a = self.a - 1\n",
        "            self.b = self.b + 1\n",
        "            if (self.a == 0 or self.b == self.b_max):\n",
        "                break\n",
        "        print ('(', self.a, ',', self.b, ')')\n",
        "    def main(self):\n",
        "        while (True):\n",
        "            if (self.a == self.goal or self.b == self.goal):\n",
        "                break\n",
        "            if (self.a == 0):\n",
        "                self.fillA()\n",
        "            elif (self.a > 0 and self.b != self.b_max):\n",
        "                self.transferAtoB()\n",
        "            elif (self.a > 0 and self.b == self.b_max):\n",
        "                self.emptyB()\n",
        "def pour(jug1, jug2):\n",
        "       max1, max2, fill = n1, n2, n4  \n",
        "       print(\"%d\\t%d\" % (jug1, jug2))\n",
        "       if jug2 is fill:\n",
        "         return       \n",
        "       elif jug2 is max2:\n",
        "\n",
        "          pour(0, jug1)\n",
        "       elif jug1 != 0 and jug2 is 0:          \n",
        "          pour(0, jug1)\n",
        "       elif jug1 is fill:         \n",
        "         pour(jug1, 0)\n",
        "       elif jug1 < max1:        \n",
        "        pour(max1, jug2)\n",
        "       elif jug1 < (max2-jug2):        \n",
        "        pour(0, (jug1+jug2))\n",
        "       else:        \n",
        "        pour(jug1-(max2-jug2), (max2-jug2)+jug2) \n",
        "print(\"JUG1\\tJUG2\")\n",
        "if(n3==2):\n",
        "    pour(0, 0)\n",
        "elif(n3==1):\n",
        "  print ('(', '0',',', '0', ')')\n",
        "  waterjug=Waterjug(n1,n2,0,0,n4);\n",
        "  waterjug.main();"
      ],
      "execution_count": 2,
      "outputs": [
        {
          "output_type": "stream",
          "text": [
            "JUG1\tJUG2\n",
            "0\t0\n",
            "5\t0\n",
            "0\t5\n",
            "5\t5\n",
            "3\t7\n",
            "0\t3\n",
            "5\t3\n",
            "1\t7\n",
            "0\t1\n",
            "5\t1\n",
            "0\t6\n",
            "5\t6\n",
            "4\t7\n",
            "0\t4\n",
            "5\t4\n",
            "2\t7\n",
            "0\t2\n"
          ],
          "name": "stdout"
        }
      ]
    },
    {
      "cell_type": "markdown",
      "metadata": {
        "id": "0gBIXyhmZIZk"
      },
      "source": [
        "Submitted by: Riya Jaipuria\n",
        "Enroll no: 170384"
      ]
    }
  ]
}