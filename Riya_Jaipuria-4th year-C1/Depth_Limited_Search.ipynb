{
  "nbformat": 4,
  "nbformat_minor": 0,
  "metadata": {
    "colab": {
      "name": "Depth_Limited_Search.ipynb",
      "provenance": [],
      "authorship_tag": "ABX9TyMwK5Yf6PdXpASWZGy5jF23",
      "include_colab_link": true
    },
    "kernelspec": {
      "name": "python3",
      "display_name": "Python 3"
    }
  },
  "cells": [
    {
      "cell_type": "markdown",
      "metadata": {
        "id": "view-in-github",
        "colab_type": "text"
      },
      "source": [
        "<a href=\"https://colab.research.google.com/github/RiyaJaipuria/Soft-Computing-Lab-2020/blob/master/Riya_Jaipuria-4th%20year-C1/Depth_Limited_Search.ipynb\" target=\"_parent\"><img src=\"https://colab.research.google.com/assets/colab-badge.svg\" alt=\"Open In Colab\"/></a>"
      ]
    },
    {
      "cell_type": "markdown",
      "metadata": {
        "id": "26NMu-tUamzK"
      },
      "source": [
        "Aim: Write a program to implement depth limited search."
      ]
    },
    {
      "cell_type": "code",
      "metadata": {
        "colab": {
          "base_uri": "https://localhost:8080/"
        },
        "id": "1Co_4BPNapAS",
        "outputId": "a21c56d6-cd96-4ab0-a1be-ccf185142f60"
      },
      "source": [
        "ADJ = {}\n",
        "\"\"\"\"\n",
        "SRRXG\n",
        "RXRXR\n",
        "RRRXR\n",
        "XRXRR\n",
        "RRRRX\n",
        "\"\"\"\n",
        "ADJ['S'] = ['2', '6']\n",
        "ADJ['2'] = ['S', '3']\n",
        "ADJ['3'] = ['2','8']\n",
        "ADJ['G'] = ['10']\n",
        "ADJ['6'] = ['S', '11']\n",
        "ADJ['8'] = ['3', '13']\n",
        "ADJ['10'] = ['G', '15']\n",
        "ADJ['11'] = ['6', '12']\n",
        "ADJ['12'] = ['11', '13', '17']\n",
        "ADJ['13'] = ['8', '12']\n",
        "ADJ['15'] = ['10', '20']\n",
        "ADJ['17'] = ['12','22']\n",
        "ADJ['19'] = ['20', '24']\n",
        "ADJ['20'] = ['15','19']\n",
        "ADJ['21'] = ['22']\n",
        "ADJ['22'] = ['17','21','23']\n",
        "ADJ['23'] = ['22', '24']\n",
        "ADJ['24'] = ['19','23']\n",
        "print (\"adj\",ADJ)\n",
        "# keep track of visited nodes\n",
        "visited = {str(i) : False for i in range(1,26)}\n",
        "visited['S'] = False\n",
        "visited['G'] = False\n",
        "\n",
        "def dls(start, goal,limit):\n",
        "    depth = 0\n",
        "    \n",
        "    OPEN=[]\n",
        "    CLOSED=[]\n",
        "    OPEN.append(start)\n",
        "    visited[\"S\"] = True\n",
        "    while OPEN != []: # Step 2\n",
        "        if depth<=limit:\n",
        "            current = OPEN.pop() \n",
        "            \n",
        "            if current == goal:\n",
        "                print(\"Goal Node Found\")\n",
        "                return True\n",
        "            else:\n",
        "                lst = successors(current)\n",
        "                for i in lst:\n",
        "                    # try to visit a node in future, if not already been to it\n",
        "                    if(not(visited[i])):\n",
        "                        OPEN.append(i)\n",
        "                        \n",
        "                        visited[i] = True\n",
        "                depth +=1\n",
        "\n",
        "        else:\n",
        "            print(\"Not found within depth limit\")\n",
        "            return False\n",
        "        print(OPEN)\n",
        "        #print(\"node visited\",i,sep='>',end='\\n')\n",
        "    return False\n",
        "\n",
        "def successors(city):\n",
        "    return ADJ[city]\n",
        "\n",
        "def test():\n",
        "    start = 'S'\n",
        "    goal = 'G'\n",
        "    limit=int(input(\"ENTER THE DEPTH LIMIT\"))\n",
        "    print(\"Starting a dls from \\n[ \" + start+\" ]\")\n",
        "    print(dls(start, goal,limit))\n",
        "\n",
        "\n",
        "if __name__ == \"__main__\":\n",
        "    test()\n"
      ],
      "execution_count": 2,
      "outputs": [
        {
          "output_type": "stream",
          "text": [
            "adj {'S': ['2', '6'], '2': ['S', '3'], '3': ['2', '8'], 'G': ['10'], '6': ['S', '11'], '8': ['3', '13'], '10': ['G', '15'], '11': ['6', '12'], '12': ['11', '13', '17'], '13': ['8', '12'], '15': ['10', '20'], '17': ['12', '22'], '19': ['20', '24'], '20': ['15', '19'], '21': ['22'], '22': ['17', '21', '23'], '23': ['22', '24'], '24': ['19', '23']}\n",
            "ENTER THE DEPTH LIMIT200\n",
            "Starting a dls from \n",
            "[ S ]\n",
            "['2', '6']\n",
            "['2', '11']\n",
            "['2', '12']\n",
            "['2', '13', '17']\n",
            "['2', '13', '22']\n",
            "['2', '13', '21', '23']\n",
            "['2', '13', '21', '24']\n",
            "['2', '13', '21', '19']\n",
            "['2', '13', '21', '20']\n",
            "['2', '13', '21', '15']\n",
            "['2', '13', '21', '10']\n",
            "['2', '13', '21', 'G']\n",
            "Goal Node Found\n",
            "True\n"
          ],
          "name": "stdout"
        }
      ]
    },
    {
      "cell_type": "markdown",
      "metadata": {
        "id": "bk7h490iatg2"
      },
      "source": [
        "Submitted by: Riya Jaipuria\n",
        "Enroll no: 170384"
      ]
    }
  ]
}