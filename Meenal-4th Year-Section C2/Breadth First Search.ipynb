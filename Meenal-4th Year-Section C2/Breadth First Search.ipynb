{
 "cells": [
  {
   "cell_type": "markdown",
   "metadata": {},
   "source": [
    "## Aim: Write a program for Breadth First Search"
   ]
  },
  {
   "cell_type": "markdown",
   "metadata": {},
   "source": [
    "#### BFS traversal"
   ]
  },
  {
   "cell_type": "code",
   "execution_count": 2,
   "metadata": {},
   "outputs": [
    {
     "name": "stdout",
     "output_type": "stream",
     "text": [
      "A\n",
      "B\n",
      "C\n",
      "D\n",
      "E\n",
      "F\n",
      "G\n",
      "H\n"
     ]
    }
   ],
   "source": [
    "import collections\n",
    "graph = {'A': ['B','C'],\n",
    "         'B': ['A','D','E'],\n",
    "         'C': ['F','G','A'],\n",
    "         'D': ['B'],\n",
    "         'E': ['H','B'],\n",
    "         'F': ['C'],\n",
    "         'G': ['C'],\n",
    "         'H': ['E']\n",
    "        }\n",
    "def bfs(graph, root):\n",
    "    visited, queue = set([root]), collections.deque([root])\n",
    "    while queue:\n",
    "        vertex = queue.popleft()\n",
    "        visit(vertex)\n",
    "        for node in graph[vertex]:\n",
    "            if node not in visited:\n",
    "                visited.add(node)\n",
    "                queue.append(node)\n",
    "\n",
    "def visit(n): print(n)\n",
    "bfs(graph, 'A')"
   ]
  },
  {
   "cell_type": "markdown",
   "metadata": {},
   "source": [
    "#### BFS Search"
   ]
  },
  {
   "cell_type": "code",
   "execution_count": 5,
   "metadata": {},
   "outputs": [
    {
     "name": "stdout",
     "output_type": "stream",
     "text": [
      "enter the number you want to search-6\n",
      "[1, 2, 3, 5, 4, 6]\n"
     ]
    }
   ],
   "source": [
    "def bfs(graph,start,search):\n",
    "    explored = []\n",
    "    queue = [start]\n",
    "    found = 1\n",
    "    while found:\n",
    "        node = queue.pop(0)\n",
    "        if(node == search):\n",
    "            found = 0\n",
    "        if node not in explored:\n",
    "            explored.append(node)\n",
    "            neighbours = graph[node]\n",
    "        for neighbour in neighbours:\n",
    "            queue.append(neighbour)\n",
    "    print(explored)\n",
    "\n",
    "search = int(input(\"enter the number you want to search-\"))\n",
    "graph = {1: [2, 3, 5],\n",
    "         2: [1,4, 5],\n",
    "         3: [1, 6, 7],\n",
    "         4: [2],\n",
    "         5: [1, 2,4],\n",
    "         6: [3],\n",
    "         7: [3]}\n",
    "bfs(graph,1,search)\n"
   ]
  },
  {
   "cell_type": "code",
   "execution_count": null,
   "metadata": {},
   "outputs": [],
   "source": []
  }
 ],
 "metadata": {
  "kernelspec": {
   "display_name": "Python 3",
   "language": "python",
   "name": "python3"
  },
  "language_info": {
   "codemirror_mode": {
    "name": "ipython",
    "version": 3
   },
   "file_extension": ".py",
   "mimetype": "text/x-python",
   "name": "python",
   "nbconvert_exporter": "python",
   "pygments_lexer": "ipython3",
   "version": "3.7.7"
  }
 },
 "nbformat": 4,
 "nbformat_minor": 4
}
