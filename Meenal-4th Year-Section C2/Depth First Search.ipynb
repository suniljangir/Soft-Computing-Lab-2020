{
 "cells": [
  {
   "cell_type": "markdown",
   "metadata": {},
   "source": [
    "## Aim: Write a program for Depth First Search"
   ]
  },
  {
   "cell_type": "markdown",
   "metadata": {},
   "source": [
    "#### DFS traversal"
   ]
  },
  {
   "cell_type": "code",
   "execution_count": 2,
   "metadata": {},
   "outputs": [
    {
     "name": "stdout",
     "output_type": "stream",
     "text": [
      "The traversal order is:\n",
      "['A', 'B', 'S', 'C', 'D', 'E', 'H', 'G', 'F']\n"
     ]
    }
   ],
   "source": [
    "graph = {\n",
    "    'A' : ['B','S'],\n",
    "    'B' : ['A'],\n",
    "    'C' : ['D','E','F','S'],\n",
    "    'D' : ['C'],\n",
    "    'E' : ['C','H'],\n",
    "    'F' : ['C','G'],\n",
    "    'G' : ['F','S'],\n",
    "    'H' : ['E','G'],\n",
    "    'S' : ['A','C','G']\n",
    "}\n",
    "visited = []\n",
    "def dfs(graph,node):\n",
    "    global visited\n",
    "    if node not in visited:\n",
    "        visited.append(node)\n",
    "        for n in graph[node]:\n",
    "            dfs(graph,n)\n",
    "\n",
    "dfs(graph,'A')\n",
    "print(\"The traversal order is:\" )\n",
    "print(visited)"
   ]
  },
  {
   "cell_type": "markdown",
   "metadata": {},
   "source": [
    "#### DFS Search"
   ]
  },
  {
   "cell_type": "code",
   "execution_count": 4,
   "metadata": {},
   "outputs": [
    {
     "name": "stdout",
     "output_type": "stream",
     "text": [
      "['A', 'B', 'D', 'E', 'H', 'C']\n"
     ]
    }
   ],
   "source": [
    "graph = {'A': ['B','C'],\n",
    "         'B': ['A','D','E'],\n",
    "         'C': ['F','G','A'],\n",
    "         'D': ['B'],\n",
    "         'E': ['H','B'],\n",
    "         'F': ['C'],\n",
    "         'G': ['C'],\n",
    "         'H': ['E']\n",
    "        }\n",
    "\n",
    "def dfs(graph,start,end,route,list):\n",
    "    route+=[start]\n",
    "    if start == end:\n",
    "        list.extend(route)\n",
    "    else:\n",
    "        for node in graph[start]:\n",
    "            if node not in route:\n",
    "                dfs(graph,node,end,route,list)\n",
    "\n",
    "def dfs_route(graph,start,end):\n",
    "      list = []\n",
    "      dfs(graph,start,end,[],list)\n",
    "      return list\n",
    "\n",
    "print(dfs_route(graph,'A','C'))\n"
   ]
  },
  {
   "cell_type": "code",
   "execution_count": null,
   "metadata": {},
   "outputs": [],
   "source": []
  }
 ],
 "metadata": {
  "kernelspec": {
   "display_name": "Python 3",
   "language": "python",
   "name": "python3"
  },
  "language_info": {
   "codemirror_mode": {
    "name": "ipython",
    "version": 3
   },
   "file_extension": ".py",
   "mimetype": "text/x-python",
   "name": "python",
   "nbconvert_exporter": "python",
   "pygments_lexer": "ipython3",
   "version": "3.7.7"
  }
 },
 "nbformat": 4,
 "nbformat_minor": 4
}
