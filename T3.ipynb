{
  "nbformat": 4,
  "nbformat_minor": 0,
  "metadata": {
    "colab": {
      "name": "T3",
      "provenance": [],
      "authorship_tag": "ABX9TyOK29XGWaR7wVn4lk6nARRo",
      "include_colab_link": true
    },
    "kernelspec": {
      "name": "python3",
      "display_name": "Python 3"
    }
  },
  "cells": [
    {
      "cell_type": "markdown",
      "metadata": {
        "id": "view-in-github",
        "colab_type": "text"
      },
      "source": [
        "<a href=\"https://colab.research.google.com/github/pooja7490/Soft-Computing-Lab-2020/blob/master/T3.ipynb\" target=\"_parent\"><img src=\"https://colab.research.google.com/assets/colab-badge.svg\" alt=\"Open In Colab\"/></a>"
      ]
    },
    {
      "cell_type": "markdown",
      "metadata": {
        "id": "X1t2D_kau78V"
      },
      "source": [
        "TASK 3: Implementation of various Data Structures in Python and their operations\n",
        "Data structures in python are something which can old data:\n",
        "\n",
        "Lists\n",
        "Tuples\n",
        "Dictionary\n",
        "Sets\n",
        "Frozen Sets\n",
        "Arrays\n",
        "1. Lists\n",
        "List in Python are ordered and have a definite count.\n",
        "\n",
        "The elements in a list are indexed according to a definite sequence and the indexing of a list is done with 0 being the first index.\n",
        "\n",
        "Each element in the list has its definite place in the list, which allows duplicating of elements in the list, with each element having its own distinct place and credibility\n"
      ]
    },
    {
      "cell_type": "code",
      "metadata": {
        "colab": {
          "base_uri": "https://localhost:8080/"
        },
        "id": "ARptHY6Bu-M0",
        "outputId": "4f39ccce-1794-4fde-b7a3-26510bc327dc"
      },
      "source": [
        "#creating  lists\n",
        "\n",
        "l1 = []\n",
        "l2 = [1,2,3,4]\n",
        "l3 = [\"Hello\", \"World\"]\n",
        "l4 = [[\"Good\", \"Morning\"],[3,4,5,6]]\n",
        "\n",
        "print(\"Its an empty list: \", l1)\n",
        "print(\"List with numerical data: \", l2)\n",
        "print(\"List with string data: \", l3)\n",
        "print(\"Nested list: \", l4)"
      ],
      "execution_count": 19,
      "outputs": [
        {
          "output_type": "stream",
          "text": [
            "Its an empty list:  []\n",
            "List with numerical data:  [1, 2, 3, 4]\n",
            "List with string data:  ['Hello', 'World']\n",
            "Nested list:  [['Good', 'Morning'], [3, 4, 5, 6]]\n"
          ],
          "name": "stdout"
        }
      ]
    },
    {
      "cell_type": "code",
      "metadata": {
        "colab": {
          "base_uri": "https://localhost:8080/"
        },
        "id": "4QppoBDLvF_I",
        "outputId": "df58cbab-6a49-4ce8-f759-d65492123378"
      },
      "source": [
        "# list can be created with duplicate elements as well\n",
        "\n",
        "l1 = [1,2,3,4,4,5,6,6,7,7,7,7,8,9,9]\n",
        "print(\"Duplicate elements in list: \", l1)\n",
        "print(\"Length of list: \", len(l1))"
      ],
      "execution_count": 18,
      "outputs": [
        {
          "output_type": "stream",
          "text": [
            "Duplicate elements in list:  [1, 2, 3, 4, 4, 5, 6, 6, 7, 7, 7, 7, 8, 9, 9]\n",
            "Length of list:  15\n"
          ],
          "name": "stdout"
        }
      ]
    },
    {
      "cell_type": "code",
      "metadata": {
        "colab": {
          "base_uri": "https://localhost:8080/"
        },
        "id": "y7UYqKq7vG7X",
        "outputId": "6e1f3997-63a2-4af2-d316-58ecedde60f9"
      },
      "source": [
        "#new elements can be added to the list using append() function\n",
        "\n",
        "l1 = [1,2,3,4]\n",
        "l2 = [5,6,7,8]\n",
        "\n",
        "print(\"Before append: \", l1)\n",
        "l1.append(l2)\n",
        "print(\"After append: \", l1)"
      ],
      "execution_count": 17,
      "outputs": [
        {
          "output_type": "stream",
          "text": [
            "Before append:  [1, 2, 3, 4]\n",
            "After append:  [1, 2, 3, 4, [5, 6, 7, 8]]\n"
          ],
          "name": "stdout"
        }
      ]
    },
    {
      "cell_type": "code",
      "metadata": {
        "colab": {
          "base_uri": "https://localhost:8080/"
        },
        "id": "QC-zJZHrvKXz",
        "outputId": "1d8e3c7b-c28e-4f2d-c8b9-733aab6383c1"
      },
      "source": [
        "#using insert() to add elements to the list\n",
        "#append() adds the elemnents at the end of the list but with insert() elements can be added at any desired position. Hence insert() takes 2 arguments\n",
        "\n",
        "l1 = [1,2,3]\n",
        "l1.insert(2,[4,5,6])\n",
        "print(l1)"
      ],
      "execution_count": 16,
      "outputs": [
        {
          "output_type": "stream",
          "text": [
            "[1, 2, [4, 5, 6], 3]\n"
          ],
          "name": "stdout"
        }
      ]
    },
    {
      "cell_type": "code",
      "metadata": {
        "colab": {
          "base_uri": "https://localhost:8080/"
        },
        "id": "g9dYBmquvOP1",
        "outputId": "eaffa2e0-125a-44fd-cb1f-87b05a41e856"
      },
      "source": [
        "#accessing elements\n",
        "\n",
        "l1 = [1,2,3,4,5,6,7,8,9]\n",
        "l2 = [1,2,[3,4]]\n",
        "print(l1[3])\n",
        "print(l1[3:7])\n",
        "print(l2[2][0])\n",
        "print(-1)"
      ],
      "execution_count": 15,
      "outputs": [
        {
          "output_type": "stream",
          "text": [
            "4\n",
            "[4, 5, 6, 7]\n",
            "3\n",
            "-1\n"
          ],
          "name": "stdout"
        }
      ]
    },
    {
      "cell_type": "code",
      "metadata": {
        "colab": {
          "base_uri": "https://localhost:8080/"
        },
        "id": "5x4bulJPvS1y",
        "outputId": "8fe5cd21-167f-4501-ce85-91988aac113e"
      },
      "source": [
        "#using remove() to remove elements from the list\n",
        "\n",
        "l1 = [34,65,77,12,32]\n",
        "print(\"Before Removing: \", l1)\n",
        "l1.remove(34)\n",
        "l1.remove(77)\n",
        "print(\"After Removing: \", l1)"
      ],
      "execution_count": 14,
      "outputs": [
        {
          "output_type": "stream",
          "text": [
            "Before Removing:  [34, 65, 77, 12, 32]\n",
            "After Removing:  [65, 12, 32]\n"
          ],
          "name": "stdout"
        }
      ]
    },
    {
      "cell_type": "code",
      "metadata": {
        "colab": {
          "base_uri": "https://localhost:8080/"
        },
        "id": "EC97Nq4jvWk_",
        "outputId": "978b70b4-fc0a-4a36-ba3a-5741ee1f51b9"
      },
      "source": [
        "#using pop() to remove elements\n",
        "#The difference between remove() and pop() is that pop() rmoves the last element\n",
        "\n",
        "l1 = [45,66,22,67,98,23]\n",
        "l1.pop()\n",
        "l1.pop()\n",
        "print(l1)   #two elements popped from the end of the string"
      ],
      "execution_count": 13,
      "outputs": [
        {
          "output_type": "stream",
          "text": [
            "[45, 66, 22, 67]\n"
          ],
          "name": "stdout"
        }
      ]
    },
    {
      "cell_type": "markdown",
      "metadata": {
        "id": "pVzQjw-1vdkK"
      },
      "source": [
        "2. Tuples\n",
        "Tuple is a collection of Python objects much like a list.\n",
        "\n",
        "The sequence of values stored in a tuple can be of any type, and they are indexed by integers.\n",
        "\n",
        "Values of a tuple are syntactically separated by ‘commas’. Although it is not necessary, it is more common to define a tuple by closing the sequence of values in parentheses."
      ]
    },
    {
      "cell_type": "code",
      "metadata": {
        "colab": {
          "base_uri": "https://localhost:8080/"
        },
        "id": "WwrYEtbQvhAf",
        "outputId": "7f1a9e0c-2c4c-48e1-a4c9-6fcc015410f8"
      },
      "source": [
        "#creating tuples\n",
        "\n",
        "t1 = ()\n",
        "t2 = (1,2,3)\n",
        "t3 = [1,2,3,4,5,6]\n",
        "t4 = tuple(\"Geeks\")\n",
        "\n",
        "print(\"Empty Tuple: \", t1)\n",
        "print(\"Numerical tuple: \",t2)\n",
        "print(\"Creating tuple form list: \", t3)\n",
        "print(\"Tuple typecasting: \", t4)"
      ],
      "execution_count": 12,
      "outputs": [
        {
          "output_type": "stream",
          "text": [
            "Empty Tuple:  ()\n",
            "Numerical tuple:  (1, 2, 3)\n",
            "Creating tuple form list:  [1, 2, 3, 4, 5, 6]\n",
            "Tuple typecasting:  ('G', 'e', 'e', 'k', 's')\n"
          ],
          "name": "stdout"
        }
      ]
    },
    {
      "cell_type": "code",
      "metadata": {
        "colab": {
          "base_uri": "https://localhost:8080/"
        },
        "id": "lqCsC8GivlJt",
        "outputId": "3ee259f5-bbfb-4a28-9cb3-8a4b8e017f25"
      },
      "source": [
        "#accessing tuple elements\n",
        "\n",
        "t1 = (1,2,3,4,5,6,7,8)\n",
        "t2 = ((1,2,3,4),[6,7,8,9],10,11)\n",
        "print(t1[4])\n",
        "print(t1[4:8])\n",
        "print(t2[0][3])\n",
        "print(t2[1][0])"
      ],
      "execution_count": 11,
      "outputs": [
        {
          "output_type": "stream",
          "text": [
            "5\n",
            "(5, 6, 7, 8)\n",
            "4\n",
            "6\n"
          ],
          "name": "stdout"
        }
      ]
    },
    {
      "cell_type": "code",
      "metadata": {
        "colab": {
          "base_uri": "https://localhost:8080/",
          "height": 218
        },
        "id": "F21BXi0Yvnlz",
        "outputId": "a7fd9361-0613-4ba0-c31d-2b2fb06ba76d"
      },
      "source": [
        "#because tuple is an immuatable type, you cannot remove an element from the tuple, but can delete the entire tuple\n",
        "\n",
        "t1 = (1,2,3,4,5)\n",
        "print(t1)\n",
        "del t1\n",
        "print(t1)"
      ],
      "execution_count": 10,
      "outputs": [
        {
          "output_type": "stream",
          "text": [
            "(1, 2, 3, 4, 5)\n"
          ],
          "name": "stdout"
        },
        {
          "output_type": "error",
          "ename": "NameError",
          "evalue": "ignored",
          "traceback": [
            "\u001b[0;31m---------------------------------------------------------------------------\u001b[0m",
            "\u001b[0;31mNameError\u001b[0m                                 Traceback (most recent call last)",
            "\u001b[0;32m<ipython-input-10-cfdd87b1785c>\u001b[0m in \u001b[0;36m<module>\u001b[0;34m()\u001b[0m\n\u001b[1;32m      4\u001b[0m \u001b[0mprint\u001b[0m\u001b[0;34m(\u001b[0m\u001b[0mt1\u001b[0m\u001b[0;34m)\u001b[0m\u001b[0;34m\u001b[0m\u001b[0;34m\u001b[0m\u001b[0m\n\u001b[1;32m      5\u001b[0m \u001b[0;32mdel\u001b[0m \u001b[0mt1\u001b[0m\u001b[0;34m\u001b[0m\u001b[0;34m\u001b[0m\u001b[0m\n\u001b[0;32m----> 6\u001b[0;31m \u001b[0mprint\u001b[0m\u001b[0;34m(\u001b[0m\u001b[0mt1\u001b[0m\u001b[0;34m)\u001b[0m\u001b[0;34m\u001b[0m\u001b[0;34m\u001b[0m\u001b[0m\n\u001b[0m",
            "\u001b[0;31mNameError\u001b[0m: name 't1' is not defined"
          ]
        }
      ]
    },
    {
      "cell_type": "markdown",
      "metadata": {
        "id": "_hU8dnlfvwtD"
      },
      "source": [
        "3. Sets\n",
        "In Python, Set is an unordered collection of data type that is iterable, mutable and has no duplicate elements.\n",
        "\n",
        "The order of elements in a set is undefined though it may consist of various elements."
      ]
    },
    {
      "cell_type": "code",
      "metadata": {
        "colab": {
          "base_uri": "https://localhost:8080/"
        },
        "id": "ZpK_Tjfqvtyf",
        "outputId": "8c5886bb-bfac-43c6-f3f2-fee8508a0e46"
      },
      "source": [
        "#creating a set\n",
        "\n",
        "s1 = set()\n",
        "s2 = set(\"Thisisaset\")\n",
        "s3 = set([1,2,3,4,5,6])\n",
        "\n",
        "print(\"Empty set: \", s1)\n",
        "print(\"Set created from string object: \", s2)\n",
        "print(\"Set created from typecasting list: \", s3)"
      ],
      "execution_count": 9,
      "outputs": [
        {
          "output_type": "stream",
          "text": [
            "Empty set:  set()\n",
            "Set created from string object:  {'a', 't', 'h', 'e', 'i', 'T', 's'}\n",
            "Set created from typecasting list:  {1, 2, 3, 4, 5, 6}\n"
          ],
          "name": "stdout"
        }
      ]
    },
    {
      "cell_type": "code",
      "metadata": {
        "id": "3LzIoHb6v3YE"
      },
      "source": [
        "#adding elements to the set\n",
        "\n",
        "s1 = set((1,2,3))\n",
        "s1.add(4)\n",
        "s1.add(5)\n",
        "s1.add((6,7,8))\n",
        "print(s1)\n",
        "\n",
        "#with add() you can add only one element at a time. To add more elements we use update()\n",
        "\n",
        "s2 = set((1,2,3,4))\n",
        "s2.update([6,7,8],(45,67,89))\n",
        "print(s2)"
      ],
      "execution_count": null,
      "outputs": []
    },
    {
      "cell_type": "code",
      "metadata": {
        "id": "2CARJzcnwAe2"
      },
      "source": [
        "#indexing is not possible in set\n",
        "\n",
        "#pop() is used to remove elements from the back of the tuple\n",
        "\n",
        "s1 = {34,67,2,12,43,99,17,80}\n",
        "print(\"Before popping: \", s1)\n",
        "s1.pop()\n",
        "s1.pop()\n",
        "print(\"After popping: \", s1)"
      ],
      "execution_count": null,
      "outputs": []
    },
    {
      "cell_type": "code",
      "metadata": {
        "colab": {
          "base_uri": "https://localhost:8080/"
        },
        "id": "hv7iyEtJwBZ7",
        "outputId": "1671acdb-0db3-4bb4-a397-6f79abdeada1"
      },
      "source": [
        "#removing set elements using remove() and discard() \n",
        "#The difference between remove() and discard() is that remove() raises an Error\n",
        "#if the element we are trying to remove is not present while discard() doesnt \n",
        "#raise an error and the set remains unchanged.\n",
        "\n",
        "s1 = {45,12,11,34,87,55,90,80}\n",
        "s1.remove(12)\n",
        "s1.remove(90)\n",
        "print(\"After remove():\", s1)\n",
        "s1.discard(11)\n",
        "s1.discard(90)\n",
        "print(\"After discard():\", s1)"
      ],
      "execution_count": 8,
      "outputs": [
        {
          "output_type": "stream",
          "text": [
            "After remove(): {34, 11, 45, 80, 55, 87}\n",
            "After discard(): {34, 45, 80, 55, 87}\n"
          ],
          "name": "stdout"
        }
      ]
    },
    {
      "cell_type": "markdown",
      "metadata": {
        "id": "bqhGCC7WwJGH"
      },
      "source": [
        "4. Frozen Sets\n",
        "Frozen sets in Python are immutable objects that only support methods and operators that produce a result without affecting the frozen set or sets to which they are applied.\n",
        "\n",
        "While elements of a set can be modified at any time, elements of the frozen set remain the same after creation."
      ]
    },
    {
      "cell_type": "code",
      "metadata": {
        "colab": {
          "base_uri": "https://localhost:8080/"
        },
        "id": "T4SWqanEwMvC",
        "outputId": "d228a7aa-3163-46c5-e6dd-ec2aea43c76b"
      },
      "source": [
        "#creating a frozen set\n",
        "\n",
        "fs1 = frozenset()\n",
        "fs2 = frozenset(\"HelloWorld\")\n",
        "\n",
        "print(fs1)\n",
        "print(fs2)"
      ],
      "execution_count": 7,
      "outputs": [
        {
          "output_type": "stream",
          "text": [
            "frozenset()\n",
            "frozenset({'W', 'r', 'd', 'H', 'o', 'e', 'l'})\n"
          ],
          "name": "stdout"
        }
      ]
    },
    {
      "cell_type": "markdown",
      "metadata": {
        "id": "VbNT3-OFwXU7"
      },
      "source": [
        "5. Dictionary\n",
        "Dictionary in Python is an unordered collection of data values, used to store data values like a map, which unlike other Data Types that hold only single value as an element, Dictionary holds key:value pair. Key value is provided in the dictionary to make it more optimized.\n",
        "\n",
        "Note – Keys in a dictionary doesn’t allows Polymorphism."
      ]
    },
    {
      "cell_type": "code",
      "metadata": {
        "colab": {
          "base_uri": "https://localhost:8080/"
        },
        "id": "ZRu26bdwwYPB",
        "outputId": "323e6633-1132-4713-fa1b-2434e771fa00"
      },
      "source": [
        "#creating a dictionary\n",
        "\n",
        "\n",
        "Dict = {} \n",
        "print(\"Empty Dictionary: \") \n",
        "print(Dict) \n",
        "  \n",
        "Dict = dict({1: 'Geeks', 2: 'For', 3:'Geeks'}) \n",
        "print(\"\\nDictionary with the use of dict(): \") \n",
        "print(Dict) \n",
        "  \n",
        "Dict = dict([(1, 'Geeks'), (2, 'For')]) \n",
        "print(\"\\nDictionary with each item as a pair: \") \n",
        "print(Dict) \n",
        "\n",
        "Dict = {1: 'Geeks', 2: 'For', 3:{'A' : 'Welcome', 'B' : 'To', 'C' : 'Geeks'}} \n",
        "print(Dict)"
      ],
      "execution_count": 6,
      "outputs": [
        {
          "output_type": "stream",
          "text": [
            "Empty Dictionary: \n",
            "{}\n",
            "\n",
            "Dictionary with the use of dict(): \n",
            "{1: 'Geeks', 2: 'For', 3: 'Geeks'}\n",
            "\n",
            "Dictionary with each item as a pair: \n",
            "{1: 'Geeks', 2: 'For'}\n",
            "{1: 'Geeks', 2: 'For', 3: {'A': 'Welcome', 'B': 'To', 'C': 'Geeks'}}\n"
          ],
          "name": "stdout"
        }
      ]
    },
    {
      "cell_type": "code",
      "metadata": {
        "colab": {
          "base_uri": "https://localhost:8080/",
          "height": 131
        },
        "id": "IpWiqPUhwciw",
        "outputId": "cdc4b2a8-ab54-4a70-c84d-9dd56c7a7c1e"
      },
      "source": [
        "#adding elements to a dictionary\n",
        "\n",
        "\n",
        "Dict = {} \n",
        "Dict[0] = 'Geeks'\n",
        "Dict[2] = 'For'\n",
        "Dict[3] = 1\n",
        "print(\"\\nDictionary after adding 3 elements: \") \n",
        "print(Dict) \n",
        "\n",
        "Dict['Value_set'] = 2, 3, 4\n",
        "print(\"\\nDictionary after adding 3 elements: \") \n",
        "print(Dict) \n",
        "\n",
        "Dict[2] = 'Welcome'\n",
        "print(\"\\nUpdated key value: \") \n",
        "print(Dict) \n",
        "\n",
        "Dict[5] = {'Nested' :{'1' : 'Life', '2' : 'Geeks'}} \n",
        "print(\"\\nAdding a Nested Key:"
      ],
      "execution_count": 5,
      "outputs": [
        {
          "output_type": "error",
          "ename": "SyntaxError",
          "evalue": "ignored",
          "traceback": [
            "\u001b[0;36m  File \u001b[0;32m\"<ipython-input-5-c6a7df717d9e>\"\u001b[0;36m, line \u001b[0;32m20\u001b[0m\n\u001b[0;31m    print(\"\\nAdding a Nested Key:\u001b[0m\n\u001b[0m                                 ^\u001b[0m\n\u001b[0;31mSyntaxError\u001b[0m\u001b[0;31m:\u001b[0m EOL while scanning string literal\n"
          ]
        }
      ]
    },
    {
      "cell_type": "code",
      "metadata": {
        "colab": {
          "base_uri": "https://localhost:8080/"
        },
        "id": "do3kvDMcwgin",
        "outputId": "d6d5a59d-c8c3-4368-96f8-b1355f356bd7"
      },
      "source": [
        "#accessing elements from a dictionary\n",
        "\n",
        "\n",
        "Dict = {1: 'Geeks', 'name': 'For', 3: 'Geeks'} \n",
        "print(\"Accessing a element using key:\") \n",
        "print(Dict['name']) \n",
        "print(\"Accessing a element using key:\") \n",
        "print(Dict[1])"
      ],
      "execution_count": 4,
      "outputs": [
        {
          "output_type": "stream",
          "text": [
            "Accessing a element using key:\n",
            "For\n",
            "Accessing a element using key:\n",
            "Geeks\n"
          ],
          "name": "stdout"
        }
      ]
    },
    {
      "cell_type": "code",
      "metadata": {
        "id": "5pr9iBUZwnRg"
      },
      "source": [
        "Dict = {1: 'Geeks', 'name': 'For', 3: 'Geeks'} \n",
        "print(\"Accessing a element using get:\") \n",
        "print(Dict.get(3))"
      ],
      "execution_count": null,
      "outputs": []
    },
    {
      "cell_type": "code",
      "metadata": {
        "colab": {
          "base_uri": "https://localhost:8080/"
        },
        "id": "skez4W_ZwoJM",
        "outputId": "dfbeba32-42bb-45df-883e-3d677086014d"
      },
      "source": [
        "#deleting elements from the dictionary\n",
        "\n",
        "Dict = { 5 : 'Welcome', 6 : 'To', 7 : 'Geeks', \n",
        "\t\t'A' : {1 : 'Geeks', 2 : 'For', 3 : 'Geeks'}, \n",
        "\t\t'B' : {1 : 'Geeks', 2 : 'Life'}} \n",
        "print(\"Initial Dictionary: \") \n",
        "print(Dict) \n",
        "\n",
        "# Deleting a Key value \n",
        "del Dict[6] \n",
        "print(\"\\nDeleting a specific key: \") \n",
        "print(Dict) \n",
        "\n",
        "del Dict['A'][2] \n",
        "print(\"\\nDeleting a key from Nested Dictionary: \") \n",
        "print(Dict)"
      ],
      "execution_count": 3,
      "outputs": [
        {
          "output_type": "stream",
          "text": [
            "Initial Dictionary: \n",
            "{5: 'Welcome', 6: 'To', 7: 'Geeks', 'A': {1: 'Geeks', 2: 'For', 3: 'Geeks'}, 'B': {1: 'Geeks', 2: 'Life'}}\n",
            "\n",
            "Deleting a specific key: \n",
            "{5: 'Welcome', 7: 'Geeks', 'A': {1: 'Geeks', 2: 'For', 3: 'Geeks'}, 'B': {1: 'Geeks', 2: 'Life'}}\n",
            "\n",
            "Deleting a key from Nested Dictionary: \n",
            "{5: 'Welcome', 7: 'Geeks', 'A': {1: 'Geeks', 3: 'Geeks'}, 'B': {1: 'Geeks', 2: 'Life'}}\n"
          ],
          "name": "stdout"
        }
      ]
    },
    {
      "cell_type": "code",
      "metadata": {
        "colab": {
          "base_uri": "https://localhost:8080/"
        },
        "id": "l30aYWNVwtB6",
        "outputId": "d7522074-e3ee-4afe-a80b-ff935460dfea"
      },
      "source": [
        "\n",
        "Dict = {1: 'Geeks', 'name': 'For', 3: 'Geeks'} \n",
        "\n",
        "# Deleting a key \n",
        "# using pop() method \n",
        "pop_ele = Dict.pop(1) \n",
        "print('\\nDictionary after deletion: ' + str(Dict)) \n",
        "print('Value associated to poped key is: ' + str(pop_ele))"
      ],
      "execution_count": 2,
      "outputs": [
        {
          "output_type": "stream",
          "text": [
            "\n",
            "Dictionary after deletion: {'name': 'For', 3: 'Geeks'}\n",
            "Value associated to poped key is: Geeks\n"
          ],
          "name": "stdout"
        }
      ]
    },
    {
      "cell_type": "code",
      "metadata": {
        "colab": {
          "base_uri": "https://localhost:8080/"
        },
        "id": "za7VbVJSwyjf",
        "outputId": "8ef05c3e-9e20-4df7-ba8d-64d889ec21d6"
      },
      "source": [
        "Dict = {1: 'Geeks', 'name': 'For', 3: 'Geeks'} \n",
        "\n",
        "# Deleting an arbitrary key \n",
        "# using popitem() function \n",
        "pop_ele = Dict.popitem() \n",
        "print(\"\\nDictionary after deletion: \" + str(Dict)) \n",
        "print(\"The arbitrary pair returned is: \" + str(pop_ele))"
      ],
      "execution_count": 1,
      "outputs": [
        {
          "output_type": "stream",
          "text": [
            "\n",
            "Dictionary after deletion: {1: 'Geeks', 'name': 'For'}\n",
            "The arbitrary pair returned is: (3, 'Geeks')\n"
          ],
          "name": "stdout"
        }
      ]
    }
  ]
}