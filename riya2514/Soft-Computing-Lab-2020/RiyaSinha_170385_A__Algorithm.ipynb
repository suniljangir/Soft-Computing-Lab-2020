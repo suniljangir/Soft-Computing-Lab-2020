{
  "nbformat": 4,
  "nbformat_minor": 0,
  "metadata": {
    "colab": {
      "name": "RiyaSinha_170385_A*_Algorithm.ipynb",
      "provenance": []
    },
    "kernelspec": {
      "name": "python3",
      "display_name": "Python 3"
    }
  },
  "cells": [
    {
      "cell_type": "markdown",
      "metadata": {
        "id": "N8ne7ALik1DG"
      },
      "source": [
        "\n",
        "## What is A* Algorithm ?\n",
        "A* is the most popular choice for pathfinding, because it’s fairly flexible and can be used in a wide range of contexts.\n",
        "\n",
        "It is an Artificial Intelligence algorithm used to find shortest possible path from start to end states.\n",
        "\n",
        "It could be applied to character path finding, puzzle solving and much more. It really has countless number of application.\n",
        "\n",
        "Peter Hart, Nils Nilsson and Bertram Raphael of Stanford Research Institute (now SRI International) first published the algorithm in 1968.\n",
        "\n",
        "The A* algorithm uses both the actual distance from the start and the estimated distance to the goal."
      ]
    },
    {
      "cell_type": "markdown",
      "metadata": {
        "id": "SrV5qyEUyucI"
      },
      "source": [
        "##How It Works ?\n",
        "It based on following concepts –\n",
        "\n",
        "START GOAL States – Where the program begins and where it aims to get.\n",
        "How you measure progress towards goal.\n",
        "\n",
        "How you generate Children or all possible Paths towards solution.\n",
        "\n",
        "At each iteration of its main loop, A* needs to determine which of its paths to extend. \n",
        "It does so based on the cost of the path and an estimate of the cost required to extend the path all the way to the goal. \n",
        "\n",
        "Specifically, A* selects the path that minimizes"
      ]
    },
    {
      "cell_type": "code",
      "metadata": {
        "colab": {
          "base_uri": "https://localhost:8080/"
        },
        "id": "LxkXllNkk0oW",
        "outputId": "766bf72c-0570-4d84-b293-4968023fdb4b"
      },
      "source": [
        "from queue import PriorityQueue\n",
        " \n",
        "#Creating Base Class\n",
        "class State(object):\n",
        "    def __init__(self, value, parent, start = 0, goal = 0):\n",
        "        self.children = []\n",
        "        self.parent = parent\n",
        "        self.value = value\n",
        "        self.dist = 0\n",
        "        if parent:\n",
        "            self.start = parent.start\n",
        "            self.goal = parent.goal\n",
        "            self.path = parent.path[:]\n",
        "            self.path.append(value)\n",
        " \n",
        "        else:\n",
        "            self.path = [value]\n",
        "            self.start = start\n",
        "            self.goal = goal\n",
        " \n",
        "    def GetDistance(self):\n",
        "        pass\n",
        "    def CreateChildren(self):\n",
        "        pass\n",
        " \n",
        " \n",
        "# Creating subclass\n",
        "class State_String(State):\n",
        "    def __init__(self, value, parent, start = 0, goal = 0 ):\n",
        "        super(State_String, self).__init__(value, parent, start, goal)\n",
        "        self.dist = self.GetDistance()\n",
        " \n",
        "    def GetDistance(self):\n",
        "            if self.value == self.goal:\n",
        "                return 0\n",
        "            dist = 0\n",
        "            for i in range(len(self.goal)):\n",
        "                letter = self.goal[i]\n",
        "                dist += abs(i - self.value.index(letter))\n",
        "            return dist\n",
        " \n",
        "    def CreateChildren(self):\n",
        "            if not self.children:\n",
        "                for i in range(len(self.goal)-1):\n",
        "                    val = self.value\n",
        "                    val = val[:i] + val[i+1] + val[i] + val[i+2:]\n",
        "                    child = State_String(val, self)\n",
        "                    self.children.append(child)\n",
        " \n",
        "# Creating a class that hold the final magic\n",
        "class A_Star_Solver:\n",
        "    def __init__(self, start, goal):\n",
        "        self.path = []\n",
        "        self.vistedQueue =[]\n",
        "        self.priorityQueue = PriorityQueue()\n",
        "        self.start = start\n",
        "        self.goal = goal\n",
        " \n",
        "    def Solve(self):\n",
        "        startState = State_String(self.start,0,self.start,self.goal)\n",
        " \n",
        "        count = 0\n",
        "        self.priorityQueue.put((0,count, startState))\n",
        "        while(not self.path and self.priorityQueue.qsize()):\n",
        "               closesetChild = self.priorityQueue.get()[2]\n",
        "               closesetChild.CreateChildren()\n",
        "               self.vistedQueue.append(closesetChild.value)\n",
        "               for child in closesetChild.children:\n",
        "                   if child.value not in self.vistedQueue:\n",
        "                    count += 1\n",
        "                    if not child.dist:\n",
        "                       self.path = child.path\n",
        "                       break\n",
        "                    self.priorityQueue.put((child.dist,count,child))\n",
        "        if not self.path:\n",
        "            print(\"Goal Of  is not possible !\" + self.goal )\n",
        "        return self.path\n",
        " \n",
        "# Calling all the existing stuffs\n",
        "if __name__ == \"__main__\":\n",
        "    start1 = \"hema\"\n",
        "    goal1 = \"mahe\"\n",
        "    print(\"Starting....\")\n",
        "    a = A_Star_Solver(start1,goal1)\n",
        "    a.Solve()\n",
        "    for i in range(len(a.path)):\n",
        "        print(\"{0}){1}\".format(i,a.path[i]))"
      ],
      "execution_count": 5,
      "outputs": [
        {
          "output_type": "stream",
          "text": [
            "Starting....\n",
            "0)hema\n",
            "1)hmea\n",
            "2)mhea\n",
            "3)mhae\n",
            "4)mahe\n"
          ],
          "name": "stdout"
        }
      ]
    },
    {
      "cell_type": "code",
      "metadata": {
        "id": "9tHSo7Ken4uY"
      },
      "source": [
        "Submitted by : Riya Sinha"
      ],
      "execution_count": null,
      "outputs": []
    }
  ]
}