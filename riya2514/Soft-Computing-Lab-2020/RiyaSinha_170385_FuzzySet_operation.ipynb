{
  "nbformat": 4,
  "nbformat_minor": 0,
  "metadata": {
    "colab": {
      "name": "RiyaSinha_170385_FuzzySet_operation.ipynb",
      "provenance": []
    },
    "kernelspec": {
      "name": "python3",
      "display_name": "Python 3"
    }
  },
  "cells": [
    {
      "cell_type": "markdown",
      "metadata": {
        "id": "6riNabU7m3av"
      },
      "source": [
        "# Fuzzy set:\n",
        "\n",
        "Fuzzy set is a set having degrees of membership between 1 and 0. Fuzzy sets are represented with tilde character . \n",
        "For example, Number of cars following traffic signals at a particular time out of all cars present will have membership value between [0,1].\n",
        "Partial membership exists when member of one fuzzy set can also be a part of other fuzzy sets in the same universe.\n",
        "The degree of membership or truth is not same as probability, fuzzy truth represents membership in vaguely defined sets.\n",
        "\n"
      ]
    },
    {
      "cell_type": "markdown",
      "metadata": {
        "id": "N8ne7ALik1DG"
      },
      "source": [
        "## Operations on Fuzzy set\n",
        "1. Union"
      ]
    },
    {
      "cell_type": "code",
      "metadata": {
        "colab": {
          "base_uri": "https://localhost:8080/"
        },
        "id": "LxkXllNkk0oW",
        "outputId": "cd013ff4-f887-4956-8522-2ff17f058f2f"
      },
      "source": [
        "A = dict() \n",
        "B = dict() \n",
        "Y = dict() \n",
        "  \n",
        "A = {\"a\": 0.2, \"b\": 0.3, \"c\": 0.6, \"d\": 0.6} \n",
        "B = {\"a\": 0.9, \"b\": 0.9, \"c\": 0.4, \"d\": 0.5} \n",
        "  \n",
        "print('The First Fuzzy Set is :', A) \n",
        "print('The Second Fuzzy Set is :', B) \n",
        "  \n",
        "  \n",
        "for A_key, B_key in zip(A, B): \n",
        "    A_value = A[A_key] \n",
        "    B_value = B[B_key] \n",
        "  \n",
        "    if A_value > B_value: \n",
        "        Y[A_key] = A_value \n",
        "    else: \n",
        "        Y[B_key] = B_value \n",
        "          \n",
        "print('Fuzzy Set Union is :', Y)"
      ],
      "execution_count": 75,
      "outputs": [
        {
          "output_type": "stream",
          "text": [
            "The First Fuzzy Set is : {'a': 0.2, 'b': 0.3, 'c': 0.6, 'd': 0.6}\n",
            "The Second Fuzzy Set is : {'a': 0.9, 'b': 0.9, 'c': 0.4, 'd': 0.5}\n",
            "Fuzzy Set Union is : {'a': 0.9, 'b': 0.9, 'c': 0.6, 'd': 0.6}\n"
          ],
          "name": "stdout"
        }
      ]
    },
    {
      "cell_type": "markdown",
      "metadata": {
        "id": "1PJvPTcFlP5Z"
      },
      "source": [
        "2. Intersection"
      ]
    },
    {
      "cell_type": "code",
      "metadata": {
        "colab": {
          "base_uri": "https://localhost:8080/"
        },
        "id": "IfbHPEtUlUgF",
        "outputId": "726fbd3b-24c8-4606-e38d-ee7d4b09c5d5"
      },
      "source": [
        "A = dict() \n",
        "B = dict() \n",
        "Y = dict() \n",
        "  \n",
        "A = {\"a\": 0.2, \"b\": 0.3, \"c\": 0.6, \"d\": 0.6} \n",
        "B = {\"a\": 0.9, \"b\": 0.9, \"c\": 0.4, \"d\": 0.5} \n",
        "  \n",
        "print('The First Fuzzy Set is :', A) \n",
        "print('The Second Fuzzy Set is :', B) \n",
        "  \n",
        "  \n",
        "for A_key, B_key in zip(A, B): \n",
        "    A_value = A[A_key] \n",
        "    B_value = B[B_key] \n",
        "  \n",
        "    if A_value < B_value: \n",
        "        Y[A_key] = A_value \n",
        "    else: \n",
        "        Y[B_key] = B_value \n",
        "print('Fuzzy Set Intersection is :', Y)"
      ],
      "execution_count": 76,
      "outputs": [
        {
          "output_type": "stream",
          "text": [
            "The First Fuzzy Set is : {'a': 0.2, 'b': 0.3, 'c': 0.6, 'd': 0.6}\n",
            "The Second Fuzzy Set is : {'a': 0.9, 'b': 0.9, 'c': 0.4, 'd': 0.5}\n",
            "Fuzzy Set Intersection is : {'a': 0.2, 'b': 0.3, 'c': 0.4, 'd': 0.5}\n"
          ],
          "name": "stdout"
        }
      ]
    },
    {
      "cell_type": "markdown",
      "metadata": {
        "id": "JQwvrF9plqXx"
      },
      "source": [
        "3.Complement"
      ]
    },
    {
      "cell_type": "code",
      "metadata": {
        "colab": {
          "base_uri": "https://localhost:8080/"
        },
        "id": "nrulNfHdlwOl",
        "outputId": "1f77b8f1-437b-4823-dfeb-699df8b828b0"
      },
      "source": [
        "A = dict() \n",
        "Y = dict() \n",
        "  \n",
        "A = {\"a\": 0.2, \"b\": 0.3, \"c\": 0.6, \"d\": 0.6} \n",
        "  \n",
        "print('The Fuzzy Set is :', A) \n",
        "  \n",
        "  \n",
        "for A_key in A: \n",
        "   Y[A_key]= 1-A[A_key] \n",
        "          \n",
        "print('Fuzzy Set Complement is :', Y)"
      ],
      "execution_count": 77,
      "outputs": [
        {
          "output_type": "stream",
          "text": [
            "The Fuzzy Set is : {'a': 0.2, 'b': 0.3, 'c': 0.6, 'd': 0.6}\n",
            "Fuzzy Set Complement is : {'a': 0.8, 'b': 0.7, 'c': 0.4, 'd': 0.4}\n"
          ],
          "name": "stdout"
        }
      ]
    },
    {
      "cell_type": "markdown",
      "metadata": {
        "id": "n4xL2wiLl0Uv"
      },
      "source": [
        "4. Difference"
      ]
    },
    {
      "cell_type": "code",
      "metadata": {
        "colab": {
          "base_uri": "https://localhost:8080/"
        },
        "id": "10BpFdfimCyR",
        "outputId": "7f772585-37e7-4dbe-e047-502e8802511e"
      },
      "source": [
        "A = dict() \n",
        "B = dict() \n",
        "Y = dict() \n",
        "  \n",
        "A = {\"a\": 0.2, \"b\": 0.3, \"c\": 0.6, \"d\": 0.6} \n",
        "B = {\"a\": 0.9, \"b\": 0.9, \"c\": 0.4, \"d\": 0.5} \n",
        "  \n",
        "print('The First Fuzzy Set is :', A) \n",
        "print('The Second Fuzzy Set is :', B) \n",
        "  \n",
        "  \n",
        "for A_key, B_key in zip(A, B): \n",
        "    A_value = A[A_key] \n",
        "    B_value = B[B_key] \n",
        "    B_value = 1 - B_value \n",
        "  \n",
        "    if A_value < B_value: \n",
        "        Y[A_key] = A_value \n",
        "    else: \n",
        "        Y[B_key] = B_value \n",
        "          \n",
        "print('Fuzzy Set Difference is :', Y)"
      ],
      "execution_count": 78,
      "outputs": [
        {
          "output_type": "stream",
          "text": [
            "The First Fuzzy Set is : {'a': 0.2, 'b': 0.3, 'c': 0.6, 'd': 0.6}\n",
            "The Second Fuzzy Set is : {'a': 0.9, 'b': 0.9, 'c': 0.4, 'd': 0.5}\n",
            "Fuzzy Set Difference is : {'a': 0.09999999999999998, 'b': 0.09999999999999998, 'c': 0.6, 'd': 0.5}\n"
          ],
          "name": "stdout"
        }
      ]
    },
    {
      "cell_type": "code",
      "metadata": {
        "id": "9tHSo7Ken4uY"
      },
      "source": [
        "Submitted by : Riya Sinha"
      ],
      "execution_count": null,
      "outputs": []
    }
  ]
}