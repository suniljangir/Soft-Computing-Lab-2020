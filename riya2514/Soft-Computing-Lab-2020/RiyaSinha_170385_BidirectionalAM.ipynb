{
  "nbformat": 4,
  "nbformat_minor": 0,
  "metadata": {
    "colab": {
      "name": "RiyaSinha_170385_BidirectionalAM.ipynb",
      "provenance": []
    },
    "kernelspec": {
      "name": "python3",
      "display_name": "Python 3"
    }
  },
  "cells": [
    {
      "cell_type": "code",
      "metadata": {
        "id": "jnfS_0w6nJNn",
        "colab": {
          "base_uri": "https://localhost:8080/"
        },
        "outputId": "3a6bb57b-6323-4a23-df0b-ee9f16047e4e"
      },
      "source": [
        "import numpy as np\n",
        "x1=np.array([[1,1,1,-1,1,-1,-1,1,-1,-1,1,-1]])\n",
        "x2=np.array([[1,1,1,1,-1,1,1,-1,1,1,1,1]])\n",
        "x3=np.array([[1,1,1,-1,1,-1,-1,1,-1,1,1,1]])\n",
        "t1 = np.array([[-1],[1]])\n",
        "t2 = np.array([[1],[1]])\n",
        "w1=np.zeros((12,2),dtype=int)\n",
        "w2=np.zeros((12,2),dtype=int)\n",
        "w=np.zeros((12,2),dtype=int)\n",
        "i=0\n",
        "while(i!=12):\n",
        "    w1[i][0]=x1[0][i]*t1[0][0]\n",
        "    w1[i][1]=x1[0][i]*t1[1][0]\n",
        "    w2[i][0]=x2[0][i]*t2[0][0]\n",
        "    w2[i][1]=x2[0][i]*t2[1][0]\n",
        "    i=i+1\n",
        "    w=w1+w2 \n",
        "    print('The Weight Matrix is:\\n')\n",
        "    print(w)\n",
        "    Yin11=Yin12=Yin21=Yin22=Yin31=Yin32=0\n",
        "    y1=0\n",
        "    y2=0\n",
        "    i=0\n",
        "    while(i!=12):\n",
        "        Yin11=Yin11+(x1[0][i]*w[i][0])\n",
        "        Yin12=Yin12+(x1[0][i]*w[i][1])\n",
        "        Yin21=Yin21+(x2[0][i]*w[i][0])\n",
        "        Yin22=Yin22+(x2[0][i]*w[i][1])\n",
        "        Yin31=Yin31+(x3[0][i]*w[i][0])\n",
        "        Yin32=Yin32+(x3[0][i]*w[i][1])\n",
        "    i=i+1\n",
        "    if(Yin11>0):\n",
        "        Yin11=1\n",
        "    else:\n",
        "        Yin11=-1\n",
        "    if(Yin12>0):\n",
        "        Yin12=1\n",
        "    else:\n",
        "        Yin12=-1    \n",
        "    if(Yin21>0):\n",
        "        Yin21=1\n",
        "    else:\n",
        "        Yin21=-1\n",
        "    if(Yin22>0):\n",
        "        Yin22=1\n",
        "    else:\n",
        "        Yin22=-1\n",
        "    if(Yin31>0):\n",
        "        Yin31=1\n",
        "    else:\n",
        "        Yin31=-1\n",
        "    if(Yin32>0):\n",
        "        Yin32=1\n",
        "    else:\n",
        "        Yin32=-1\n",
        "\n",
        "    if((Yin11==-1) and (Yin12==1)):\n",
        "        print('Pattern T is recognized for Y-Layer')\n",
        "    else:\n",
        "        print('Pattern T is not recognized for Y-Layer')   \n",
        "    if((Yin21==1) and (Yin22==1)):\n",
        "        print('Pattern O is recognized for Y-Layer')\n",
        "    else:\n",
        "        print('Pattern O is not recognized for Y-Layer')\n",
        "\n",
        "    i=0\n",
        "    Xin1=np.zeros((12,1),dtype=int)\n",
        "    Xin2=np.zeros((12,1),dtype=int)\n",
        "    while(i!=12):\n",
        "        Xin1[i][0]=Xin1[i][0]+((Yin11*w[i][0])+(Yin12*w[i][1])) \n",
        "    if(Xin1[i][0]>0):\n",
        "        Xin1[i][0]=1\n",
        "    else:\n",
        "        Xin1[i][0]=-1\n",
        "        Xin2[i][0]=Xin2[i][0]+((Yin21*w[i][0])+(Yin22*w[i][1]))\n",
        "    if(Xin2[i][0]>0):\n",
        "        Xin2[i][0]=1\n",
        "    else:\n",
        "        Xin2[i][0]=-1\n",
        "    i=i+1\n",
        "    Xin1=Xin1.T\n",
        "    Xin2=Xin2.T\n",
        "    print('\\n')\n",
        "    if((Xin1==x1).all()):\n",
        "        print('Pattern T is recognized for X-Layer')\n",
        "    else:\n",
        "        print('Pattern T is not recognized for X-Layer')   \n",
        "    if((Xin2==x2).all()):\n",
        "        print('Pattern O is recognized for X-Layer')\n",
        "    else:\n",
        "        print('Pattern O is not recognized for X-Layer')\n",
        "        print('Testing of I \\n Values for I are:', Yin31 ,'\\t',Yin32)\n"
      ],
      "execution_count": null,
      "outputs": [
        {
          "output_type": "stream",
          "text": [
            "The Weight Matrix is:\n",
            "\n",
            "[[0 2]\n",
            " [0 0]\n",
            " [0 0]\n",
            " [0 0]\n",
            " [0 0]\n",
            " [0 0]\n",
            " [0 0]\n",
            " [0 0]\n",
            " [0 0]\n",
            " [0 0]\n",
            " [0 0]\n",
            " [0 0]]\n"
          ],
          "name": "stdout"
        }
      ]
    },
    {
      "cell_type": "code",
      "metadata": {
        "id": "9tHSo7Ken4uY"
      },
      "source": [
        "Submitted by : Riya Sinha"
      ],
      "execution_count": null,
      "outputs": []
    }
  ]
}