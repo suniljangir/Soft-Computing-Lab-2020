{
  "nbformat": 4,
  "nbformat_minor": 0,
  "metadata": {
    "colab": {
      "name": "RiyaSinha_170385_Madaline.ipynb",
      "provenance": []
    },
    "kernelspec": {
      "name": "python3",
      "display_name": "Python 3"
    }
  },
  "cells": [
    {
      "cell_type": "markdown",
      "metadata": {
        "id": "3cEpRls4nW9q"
      },
      "source": [
        "## AIM: Madaline for any given network\n",
        
      ]
    },
    {
      "cell_type": "code",
      "metadata": {
        "colab": {
          "base_uri": "https://localhost:8080/"
        },
        "id": "jnfS_0w6nJNn",
        "outputId": "99f3c943-304e-42f1-bfcc-15dd29030069"
      },
      "source": [
        "import numpy as np\n",
        "x=np.array([[1,1],[1,-1],[-1,1],[-1,-1]])\n",
        "t=np.array([[1],[1],[1],[-1]])\n",
        "w=np.array([[0],[0]])\n",
        "b=0\n",
        "theta=float(input(\"enter new theta\"))\n",
        "alpha=float(input(\"enter new alpha\"))\n",
        "yin=np.zeros(shape=(4,1))\n",
        "y=np.zeros(shape=(4,1))\n",
        "i=0\n",
        "found=0\n",
        "while(found==0):\n",
        "    yin=x[i][0]*w[0]+x[i][1]*w[1]\n",
        "    yin = yin+b\n",
        "    if(yin>theta):\n",
        "        y[i] = 1\n",
        "    elif(yin<=theta and yin>=-theta):\n",
        "        y[i]=0\n",
        "    else:\n",
        "        y[i]=-1\n",
        "    if (y[i]==t[i]):\n",
        "        print(\"NO UPDATION REQUIRED\")\n",
        "        print(y[i])\n",
        "        if(i<3):\n",
        "            i=i+1\n",
        "        else:\n",
        "            i=0\n",
        "    else:\n",
        "        print(\"MODEL IS NOT TRAINED\")\n",
        "        print(\"The value of output is\")\n",
        "        print(y)\n",
        "       \n",
        "        w[0]=w[0]+alpha*x[i][0]*t[i]\n",
        "        w[1]=w[1]+alpha*x[i][1]*t[i]\n",
        "        b = b+alpha*t[i]\n",
        "        if(i<3):\n",
        "            i=i+1\n",
        "        else:\n",
        "            i=0\n",
        "    if(y==t).all():\n",
        "        found=1\n",
        "print(\"The final weight matrix is \")\n",
        "print(w)\n",
        "print(\"The final output is:\")\n",
        "print(y)"
      ],
      "execution_count": 13,
      "outputs": [
        {
          "output_type": "stream",
          "text": [
            "enter new theta2\n",
            "enter new alpha3\n",
            "MODEL IS NOT TRAINED\n",
            "The value of output is\n",
            "[[0.]\n",
            " [0.]\n",
            " [0.]\n",
            " [0.]]\n",
            "NO UPDATION REQUIRED\n",
            "[1.]\n",
            "NO UPDATION REQUIRED\n",
            "[1.]\n",
            "NO UPDATION REQUIRED\n",
            "[-1.]\n",
            "NO UPDATION REQUIRED\n",
            "[1.]\n",
            "The final weight matrix is \n",
            "[[3]\n",
            " [3]]\n",
            "The final output is:\n",
            "[[ 1.]\n",
            " [ 1.]\n",
            " [ 1.]\n",
            " [-1.]]\n"
          ],
          "name": "stdout"
        }
      ]
    },
    {
      "cell_type": "code",
      "metadata": {
        "id": "9tHSo7Ken4uY"
      },
      "source": [
        "Submitted by : Riya Sinha"
      ],
      "execution_count": null,
      "outputs": []
    }
  ]
}
