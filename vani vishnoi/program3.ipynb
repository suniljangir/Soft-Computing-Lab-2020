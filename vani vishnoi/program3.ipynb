{
  "nbformat": 4,
  "nbformat_minor": 0,
  "metadata": {
    "colab": {
      "name": "Copy of program3.ipynb",
      "provenance": [],
      "authorship_tag": "ABX9TyNzQP/R0WxkVCppcAdRNHt1",
      "include_colab_link": true
    },
    "kernelspec": {
      "name": "python3",
      "display_name": "Python 3"
    }
  },
  "cells": [
    {
      "cell_type": "markdown",
      "metadata": {
        "id": "view-in-github",
        "colab_type": "text"
      },
      "source": [
        "<a href=\"https://colab.research.google.com/github/vani0508/Soft-Computing-Lab-2020/blob/master/vani%20vishnoi/program3.ipynb\" target=\"_parent\"><img src=\"https://colab.research.google.com/assets/colab-badge.svg\" alt=\"Open In Colab\"/></a>"
      ]
    },
    {
      "cell_type": "code",
      "metadata": {
        "colab": {
          "base_uri": "https://localhost:8080/"
        },
        "id": "F79njDtUaNLU",
        "outputId": "1114e5e3-a6d9-4e0b-97be-dda19cbab767"
      },
      "source": [
        "a=1\n",
        "b=1\n",
        "c=\"softcomputing\"\n",
        "d=\"softcomputing\"\t\n",
        "e=4\n",
        "f=5\n",
        "g=[1,2,3]\n",
        "h=[1,2,3]\n",
        "a is not b\n",
        "a is b\n",
        "c is d\n",
        "c is not d\n",
        "e is f\n",
        "e is not f\n",
        "g is h\n",
        "g is not h\n",
        "\n",
        "x = 'Soft Computing'\n",
        "y = {1:'a',2:'b'}      \n",
        "print('S' in x)\n",
        "print('Computer' not in x)\n",
        "print('Computing' not in x)\n",
        "print(1 in y)\n",
        "print(3 in y)\n",
        "print('b' in y)\n",
        "print(2 in y)\n"
      ],
      "execution_count": null,
      "outputs": [
        {
          "output_type": "stream",
          "text": [
            "True\n",
            "True\n",
            "False\n",
            "True\n",
            "False\n",
            "False\n",
            "True\n"
          ],
          "name": "stdout"
        }
      ]
    }
  ]
}