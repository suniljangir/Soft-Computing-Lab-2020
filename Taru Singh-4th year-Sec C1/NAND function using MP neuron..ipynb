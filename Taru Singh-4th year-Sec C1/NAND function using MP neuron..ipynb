{
 "cells": [
  {
   "cell_type": "code",
   "execution_count": 1,
   "metadata": {},
   "outputs": [
    {
     "name": "stdout",
     "output_type": "stream",
     "text": [
      "enter the weight 1: -1\n",
      "enter the weight 2: -1\n",
      "enter the theta:-1\n",
      "Input array\n",
      "[[0, 0], [0, 1], [1, 0], [1, 1]]\n",
      "Actual output\n",
      "[1, 1, 1, 0]\n",
      "Expected output\n",
      "[1, 1, 1, 0]\n",
      "assumed weights and theta are correct\n"
     ]
    }
   ],
   "source": [
    "\n",
    "w1 = int(input(\"enter the weight 1: \"))\n",
    "w2 = int(input(\"enter the weight 2: \"))\n",
    "theta = int(input(\"enter the theta:\"))\n",
    "inputarray = [[0,0],[0,1],[1,0],[1,1]]\n",
    "expected = [1,1,1,0]\n",
    "actual = []\n",
    "for i in range(0,4):\n",
    "    temp = inputarray[i][0]*w1+inputarray[i][1]*w2\n",
    "    if(temp >= theta):\n",
    "        actual.append(1)\n",
    "    else:\n",
    "        actual.append(0)\n",
    "for i in range(0,4):\n",
    "    if(expected[i] == actual[i]):\n",
    "        found = 1\n",
    "    else:\n",
    "        found = 0\n",
    "        break\n",
    "print(\"Input array\")\n",
    "print(inputarray)\n",
    "print(\"Actual output\")\n",
    "print(actual)\n",
    "print(\"Expected output\")\n",
    "print(expected)\n",
    "if(found ==1):\n",
    "    print(\"assumed weights and theta are correct\")\n",
    "else:\n",
    "    print(\"assumed weights and theta are incorrect\")\n"
   ]
  },
  {
   "cell_type": "code",
   "execution_count": null,
   "metadata": {},
   "outputs": [],
   "source": []
  }
 ],
 "metadata": {
  "kernelspec": {
   "display_name": "Python 3",
   "language": "python",
   "name": "python3"
  },
  "language_info": {
   "codemirror_mode": {
    "name": "ipython",
    "version": 3
   },
   "file_extension": ".py",
   "mimetype": "text/x-python",
   "name": "python",
   "nbconvert_exporter": "python",
   "pygments_lexer": "ipython3",
   "version": "3.7.4"
  }
 },
 "nbformat": 4,
 "nbformat_minor": 2
}
