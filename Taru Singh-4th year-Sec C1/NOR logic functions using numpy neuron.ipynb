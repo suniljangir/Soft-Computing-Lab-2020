{
 "cells": [
  {
   "cell_type": "code",
   "execution_count": 1,
   "metadata": {},
   "outputs": [
    {
     "name": "stdout",
     "output_type": "stream",
     "text": [
      "Y is initiallised [[0]\n",
      " [0]\n",
      " [0]\n",
      " [0]]\n",
      "Calculated y [[0.]\n",
      " [0.]\n",
      " [0.]\n",
      " [0.]]\n",
      "Expected Target t [[0]\n",
      " [0]\n",
      " [0]\n",
      " [1]]\n",
      "MODEL IS NOT TRAINED\n",
      "Enter New Theta : 0\n",
      "Enter Weight : -1\n",
      "Enter Weight : -1\n",
      "Y is initiallised [-2. -1. -1.  0.]\n",
      "Calculated y [[0.]\n",
      " [0.]\n",
      " [0.]\n",
      " [1.]]\n",
      "Expected Target t [[0]\n",
      " [0]\n",
      " [0]\n",
      " [1]]\n",
      "MODEL IS TRAINED \n",
      "\n",
      "Output : \n",
      " [[0.]\n",
      " [0.]\n",
      " [0.]\n",
      " [1.]]\n",
      "\n",
      "weights :  [-1. -1.] \n",
      "\n",
      "theta :  0\n"
     ]
    }
   ],
   "source": [
    "import numpy as np\n",
    "x=np.array([[1,1],[1,0],[0,1],[0,0]])\n",
    "t=np.array([[0],[0],[0],[1]])\n",
    "w=np.array([[0],[0]])\n",
    "theta=1\n",
    "yin=np.zeros(shape=(4,1))\n",
    "y=np.zeros(shape=(4,1))\n",
    "yin=np.dot(x,w)\n",
    "i=0\n",
    "found=0\n",
    "while(found==0):\n",
    "    i=0\n",
    "    yin=np.dot(x,w)\n",
    "    print(\"Y is initiallised\",yin)\n",
    "    while(i<4):\n",
    "        if yin[i]>=theta:\n",
    "            y[i]=1 \n",
    "            i=i+1\n",
    "        else:\n",
    "            y[i]=0\n",
    "            i=i+1\n",
    "    print(\"Calculated y\",y)\n",
    "    print(\"Expected Target t\",t)\n",
    "    if (y==t).all():\n",
    "        print(\"MODEL IS TRAINED \")\n",
    "        print(\"\\nOutput : \\n\",y)\n",
    "        print(\"\\nweights : \",w,\"\\n\")\n",
    "        print(\"theta : \",theta)\n",
    "        found=1\n",
    "    else:\n",
    "        print(\"MODEL IS NOT TRAINED\")\n",
    "        w=np.zeros(shape=(0,0))\n",
    "        theta=int(input(\"Enter New Theta : \"))\n",
    "        for k in range(int(2)):\n",
    "            w1=int(input(\"Enter Weight : \"))\n",
    "            w=np.append(w,w1)\n"
   ]
  },
  {
   "cell_type": "code",
   "execution_count": null,
   "metadata": {},
   "outputs": [],
   "source": []
  }
 ],
 "metadata": {
  "kernelspec": {
   "display_name": "Python 3",
   "language": "python",
   "name": "python3"
  },
  "language_info": {
   "codemirror_mode": {
    "name": "ipython",
    "version": 3
   },
   "file_extension": ".py",
   "mimetype": "text/x-python",
   "name": "python",
   "nbconvert_exporter": "python",
   "pygments_lexer": "ipython3",
   "version": "3.7.4"
  }
 },
 "nbformat": 4,
 "nbformat_minor": 2
}
