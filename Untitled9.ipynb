{
  "nbformat": 4,
  "nbformat_minor": 0,
  "metadata": {
    "colab": {
      "name": "Untitled9.ipynb",
      "provenance": [],
      "authorship_tag": "ABX9TyPHvubvxu7pb/FsnHWI+FaD",
      "include_colab_link": true
    },
    "kernelspec": {
      "name": "python3",
      "display_name": "Python 3"
    }
  },
  "cells": [
    {
      "cell_type": "markdown",
      "metadata": {
        "id": "view-in-github",
        "colab_type": "text"
      },
      "source": [
        "<a href=\"https://colab.research.google.com/github/arunima27-3-99/Soft-Computing-Lab-2020/blob/master/Untitled9.ipynb\" target=\"_parent\"><img src=\"https://colab.research.google.com/assets/colab-badge.svg\" alt=\"Open In Colab\"/></a>"
      ]
    },
    {
      "cell_type": "markdown",
      "metadata": {
        "id": "WyeT0BJ8iO3B"
      },
      "source": [
        "AIM:Write a program to implement dfs with using a fix limit and return the path  to traverse till input node."
      ]
    },
    {
      "cell_type": "code",
      "metadata": {
        "colab": {
          "base_uri": "https://localhost:8080/"
        },
        "id": "JWT04Wi7iOBK",
        "outputId": "d715625f-109c-469e-9625-33f58c8c18d5"
      },
      "source": [
        "from collections import defaultdict \n",
        "class Graph: \n",
        "      def __init__(self,vertices):       \n",
        "        self.V = vertices \n",
        "        self.graph = defaultdict(list)  \n",
        "      def addEdge(self,u,v): \n",
        "        self.graph[u].append(v)   \n",
        "      def DLS(self,src,target,maxDepth):   \n",
        "        if src == target : return True     \n",
        "        if maxDepth <= 0 : return False   \n",
        "        for i in self.graph[src]: \n",
        "                if(self.DLS(i,target,maxDepth-1)): \n",
        "                    return True\n",
        "        return False  \n",
        "      def IDDFS(self,src, target, maxDepth): \n",
        "        for i in range(maxDepth): \n",
        "            if (self.DLS(src, target, i)): \n",
        "                return True\n",
        "        return False\n",
        "g = Graph (7); \n",
        "g.addEdge(0, 1) \n",
        "g.addEdge(0, 2) \n",
        "g.addEdge(1, 3) \n",
        "g.addEdge(1, 4) \n",
        "g.addEdge(2, 5) \n",
        "g.addEdge(2, 6)   \n",
        "target = int(input(\"enter the node to be searched\"));\n",
        "maxDepth = int(input(\"enter the depth\"));\n",
        "src = 0  \n",
        "if g.IDDFS(src, target, maxDepth) == True: \n",
        "    print (\"Target is reachable from source \" +\n",
        "        \"within max depth\") \n",
        "else : \n",
        "    print (\"Target is NOT reachable from source \" +\n",
        "        \"within max depth\")"
      ],
      "execution_count": 1,
      "outputs": [
        {
          "output_type": "stream",
          "text": [
            "enter the node to be searched1\n",
            "enter the depth2\n",
            "Target is reachable from source within max depth\n"
          ],
          "name": "stdout"
        }
      ]
    }
  ]
}