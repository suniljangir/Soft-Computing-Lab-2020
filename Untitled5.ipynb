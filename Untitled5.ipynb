{
  "nbformat": 4,
  "nbformat_minor": 0,
  "metadata": {
    "colab": {
      "name": "Untitled5.ipynb",
      "provenance": [],
      "collapsed_sections": [],
      "authorship_tag": "ABX9TyMWLOFVwLnCoP/72gRMibWy",
      "include_colab_link": true
    },
    "kernelspec": {
      "name": "python3",
      "display_name": "Python 3"
    }
  },
  "cells": [
    {
      "cell_type": "markdown",
      "metadata": {
        "id": "view-in-github",
        "colab_type": "text"
      },
      "source": [
        "<a href=\"https://colab.research.google.com/github/arunima27-3-99/Soft-Computing-Lab-2020/blob/master/Untitled5.ipynb\" target=\"_parent\"><img src=\"https://colab.research.google.com/assets/colab-badge.svg\" alt=\"Open In Colab\"/></a>"
      ]
    },
    {
      "cell_type": "markdown",
      "metadata": {
        "id": "gjSV75v6jUkw"
      },
      "source": [
        "AIM: Write a program to implement the following searching techniques: BFS and DFS"
      ]
    },
    {
      "cell_type": "code",
      "metadata": {
        "colab": {
          "base_uri": "https://localhost:8080/"
        },
        "id": "OniUg7bZjQuz",
        "outputId": "5098490f-5fd7-4911-fa9b-af7aa5ca4cd5"
      },
      "source": [
        "import collections\n",
        "\n",
        "# BFS algorithm\n",
        "graph = {'A': ['B','C'],\n",
        "         'B': ['A','D','E'],\n",
        "         'C': ['F','G','A'],\n",
        "         'D': ['B'],\n",
        "         'E': ['H','B'],\n",
        "         'F': ['C'],\n",
        "         'G': ['C'],\n",
        "         'H': ['E']\n",
        "        }\n",
        "def bfs(graph, root):\n",
        "    visited, queue = set([root]), collections.deque([root])\n",
        "    while queue:\n",
        "        vertex = queue.popleft()\n",
        "        visit(vertex)\n",
        "        for node in graph[vertex]:\n",
        "            if node not in visited:\n",
        "                visited.add(node)\n",
        "                queue.append(node)\n",
        "\n",
        "def visit(n): print(n)\n",
        "bfs(graph, 'A')"
      ],
      "execution_count": 1,
      "outputs": [
        {
          "output_type": "stream",
          "text": [
            "A\n",
            "B\n",
            "C\n",
            "D\n",
            "E\n",
            "F\n",
            "G\n",
            "H\n"
          ],
          "name": "stdout"
        }
      ]
    },
    {
      "cell_type": "code",
      "metadata": {
        "colab": {
          "base_uri": "https://localhost:8080/"
        },
        "id": "KeCNRWREjhEi",
        "outputId": "4ff853db-b7ef-45ca-b6cb-c6f2b1f05e9a"
      },
      "source": [
        "import collections\n",
        "graph = {'A': ['B','C'],\n",
        "         'B': ['A','D','E'],\n",
        "         'C': ['F','G','A'],\n",
        "         'D': ['B'],\n",
        "         'E': ['H','B'],\n",
        "         'F': ['C'],\n",
        "         'G': ['C'],\n",
        "         'H': ['E']\n",
        "        }\n",
        "\n",
        "def dfs(graph,start,end,route,list):\n",
        "    route+=[start]\n",
        "    if start == end:\n",
        "        list.extend(route)\n",
        "    else:\n",
        "        for node in graph[start]:\n",
        "            if node not in route:\n",
        "                dfs(graph,node,end,route,list)\n",
        "\n",
        "def dfs_route(graph,start,end):\n",
        "      list = []\n",
        "      dfs(graph,start,end,[],list)\n",
        "      return list\n",
        "\n",
        "print(dfs_route(graph,'A','G'))"
      ],
      "execution_count": 2,
      "outputs": [
        {
          "output_type": "stream",
          "text": [
            "['A', 'B', 'D', 'E', 'H', 'C', 'F', 'G']\n"
          ],
          "name": "stdout"
        }
      ]
    },
    {
      "cell_type": "code",
      "metadata": {
        "id": "7YILU93-jnbY"
      },
      "source": [
        ""
      ],
      "execution_count": null,
      "outputs": []
    }
  ]
}