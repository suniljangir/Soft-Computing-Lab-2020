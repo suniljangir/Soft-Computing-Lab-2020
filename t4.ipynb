{
  "nbformat": 4,
  "nbformat_minor": 0,
  "metadata": {
    "colab": {
      "name": "t4",
      "provenance": [],
      "authorship_tag": "ABX9TyOhq9tIBOM1FoA7iqXuIVA2",
      "include_colab_link": true
    },
    "kernelspec": {
      "name": "python3",
      "display_name": "Python 3"
    }
  },
  "cells": [
    {
      "cell_type": "markdown",
      "metadata": {
        "id": "view-in-github",
        "colab_type": "text"
      },
      "source": [
        "<a href=\"https://colab.research.google.com/github/pooja7490/Soft-Computing-Lab-2020/blob/master/t4.ipynb\" target=\"_parent\"><img src=\"https://colab.research.google.com/assets/colab-badge.svg\" alt=\"Open In Colab\"/></a>"
      ]
    },
    {
      "cell_type": "markdown",
      "metadata": {
        "id": "uYfSxpkgy8qX"
      },
      "source": [
        "TASK 4: Demonstrate the use of Numpy for matrix operations\n",
        "Numpy is a general-purpose array-processing package. It provides a high-performance multidimensional array object, and tools for working with these arrays.\n",
        "\n",
        "It is the fundamental package for scientific computing with Python.\n",
        "\n",
        "Besides its obvious scientific uses, Numpy can also be used as an efficient multi-dimensional container of generic data."
      ]
    },
    {
      "cell_type": "code",
      "metadata": {
        "colab": {
          "base_uri": "https://localhost:8080/"
        },
        "id": "cC0uPqRQy_HA",
        "outputId": "30005db0-e8d1-47a2-cfa9-ee9a3262ce11"
      },
      "source": [
        "#creating a numpy array\n",
        "\n",
        "import numpy as np\n",
        " \n",
        "arr = np.array([1, 2, 3])\n",
        "print(\"Array with Rank 1: \\n\",arr)\n",
        "arr = np.array([[1, 2, 3],\n",
        "                [4, 5, 6]])\n",
        "print(\"Array with Rank 2: \\n\", arr)\n",
        "arr = np.array((1, 3, 2))\n",
        "print(\"\\nArray created using \"\n",
        "      \"passed tuple:\\n\", arr)"
      ],
      "execution_count": 3,
      "outputs": [
        {
          "output_type": "stream",
          "text": [
            "Array with Rank 1: \n",
            " [1 2 3]\n",
            "Array with Rank 2: \n",
            " [[1 2 3]\n",
            " [4 5 6]]\n",
            "\n",
            "Array created using passed tuple:\n",
            " [1 3 2]\n"
          ],
          "name": "stdout"
        }
      ]
    },
    {
      "cell_type": "code",
      "metadata": {
        "colab": {
          "base_uri": "https://localhost:8080/"
        },
        "id": "T8V4FvlCzCBV",
        "outputId": "bdf0739e-1116-4938-ddd4-d6ceae74a8b4"
      },
      "source": [
        "#indexing\n",
        "\n",
        "\n",
        "import numpy as np\n",
        "arr = np.array([[-1, 2, 0, 4],\n",
        "                [4, -0.5, 6, 0],\n",
        "                [2.6, 0, 7, 8],\n",
        "                [3, -7, 4, 2.0]])\n",
        "\n",
        "sliced_arr = arr[:2, ::2]\n",
        "print (\"Array with first 2 rows and alternate columns(0 and 2):\\n\", sliced_arr)\n",
        "Index_arr = arr[[1, 1, 0, 3], \n",
        "                [3, 2, 1, 0]]\n",
        "print (\"\\nElements at indices (1, 3),(1, 2), (0, 1), (3, 0):\\n\", Index_arr)"
      ],
      "execution_count": 2,
      "outputs": [
        {
          "output_type": "stream",
          "text": [
            "Array with first 2 rows and alternate columns(0 and 2):\n",
            " [[-1.  0.]\n",
            " [ 4.  6.]]\n",
            "\n",
            "Elements at indices (1, 3),(1, 2), (0, 1), (3, 0):\n",
            " [0. 6. 2. 3.]\n"
          ],
          "name": "stdout"
        }
      ]
    },
    {
      "cell_type": "code",
      "metadata": {
        "id": "iKyaViF-zFyo"
      },
      "source": [
        "#numpy matrix operations\n",
        "\n",
        "import numpy as np\n",
        " \n",
        "a = np.array([[1, 2],[3, 4]])\n",
        "b = np.array([[4, 3],[2, 1]])\n",
        "print (\"Adding 1 to every element:\", a + 1)\n",
        "print (\"\\nSubtracting 2 from each element:\", b - 2)\n",
        "print (\"\\nSum of all array elements: \", a.sum())\n",
        "print (\"\\nArray sum:\\n\", a + b)"
      ],
      "execution_count": null,
      "outputs": []
    },
    {
      "cell_type": "code",
      "metadata": {
        "colab": {
          "base_uri": "https://localhost:8080/"
        },
        "id": "Q6QIQ6qVzJGM",
        "outputId": "55ed9451-ca0d-465f-b4dc-7eaad5bcb5bd"
      },
      "source": [
        "import numpy as np\n",
        " \n",
        "\n",
        "arr1 = np.array([[4, 7], [2, 6]],dtype = np.float64)\n",
        "arr2 = np.array([[3, 6], [2, 8]],dtype = np.float64) \n",
        "\n",
        "Sum = np.add(arr1, arr2)\n",
        "print(\"Addition of Two Arrays: \")\n",
        "print(Sum)\n",
        "\n",
        "Sum1 = np.sum(arr1)\n",
        "print(\"\\nAddition of Array elements: \")\n",
        "print(Sum1)\n",
        " \n",
        "Sqrt = np.sqrt(arr1)\n",
        "print(\"\\nSquare root of Array1 elements: \")\n",
        "print(Sqrt)\n",
        " \n",
        "Trans_arr = arr1.T\n",
        "print(\"\\nTranspose of Array: \")\n",
        "print(Trans_arr)"
      ],
      "execution_count": 1,
      "outputs": [
        {
          "output_type": "stream",
          "text": [
            "Addition of Two Arrays: \n",
            "[[ 7. 13.]\n",
            " [ 4. 14.]]\n",
            "\n",
            "Addition of Array elements: \n",
            "19.0\n",
            "\n",
            "Square root of Array1 elements: \n",
            "[[2.         2.64575131]\n",
            " [1.41421356 2.44948974]]\n",
            "\n",
            "Transpose of Array: \n",
            "[[4. 2.]\n",
            " [7. 6.]]\n"
          ],
          "name": "stdout"
        }
      ]
    }
  ]
}