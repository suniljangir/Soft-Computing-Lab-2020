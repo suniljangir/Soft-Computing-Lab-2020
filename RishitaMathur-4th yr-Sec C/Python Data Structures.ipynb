{
  "nbformat": 4,
  "nbformat_minor": 0,
  "metadata": {
    "colab": {
      "name": "Untitled4.ipynb",
      "provenance": []
    },
    "kernelspec": {
      "name": "python3",
      "display_name": "Python 3"
    }
  },
  "cells": [
    {
      "cell_type": "markdown",
      "metadata": {
        "id": "93M3bysLiG6j"
      },
      "source": [
        "TASK : Write a program to implement various data structures in python and their operations."
      ]
    },
    {
      "cell_type": "markdown",
      "metadata": {
        "id": "aXhzDMjqiWDl"
      },
      "source": [
        "LIST"
      ]
    },
    {
      "cell_type": "code",
      "metadata": {
        "id": "hVEilaxRiXx7",
        "outputId": "916bf1dc-ab75-4971-80e4-26ac1ad891bf",
        "colab": {
          "base_uri": "https://localhost:8080/",
          "height": 34
        }
      },
      "source": [
        "#Used to store data of different data types in a sequential manner.\n",
        "list = [10,34,2,'Rishita']\n",
        "print(list)"
      ],
      "execution_count": 7,
      "outputs": [
        {
          "output_type": "stream",
          "text": [
            "[10, 34, 2, 'Rishita']\n"
          ],
          "name": "stdout"
        }
      ]
    },
    {
      "cell_type": "code",
      "metadata": {
        "id": "abfXqlrhie1l",
        "outputId": "289066c5-32d6-40e2-9cf0-8b0c1746ebb7",
        "colab": {
          "base_uri": "https://localhost:8080/",
          "height": 34
        }
      },
      "source": [
        "list.append([3]) #To add single element\n",
        "list.extend([27,\"Rishita\"]) #Add as different elements\n",
        "list.insert(1,'Mathur') #Add element i\n",
        "print(list)"
      ],
      "execution_count": 8,
      "outputs": [
        {
          "output_type": "stream",
          "text": [
            "[10, 'Mathur', 34, 2, 'Rishita', [3], 27, 'Rishita']\n"
          ],
          "name": "stdout"
        }
      ]
    },
    {
      "cell_type": "code",
      "metadata": {
        "id": "EmE9jKEkiy7X",
        "outputId": "a061a4dd-4084-40c0-dc26-8d02195332cf",
        "colab": {
          "base_uri": "https://localhost:8080/",
          "height": 34
        }
      },
      "source": [
        "#Change Item Value\n",
        "list[0]=10\n",
        "print(list) #element at index 0 is now changed to 10."
      ],
      "execution_count": 9,
      "outputs": [
        {
          "output_type": "stream",
          "text": [
            "[10, 'Mathur', 34, 2, 'Rishita', [3], 27, 'Rishita']\n"
          ],
          "name": "stdout"
        }
      ]
    },
    {
      "cell_type": "code",
      "metadata": {
        "id": "iYwSoO00jNjT",
        "outputId": "7334edec-8e17-48fd-a03c-32ca6319fdf4",
        "colab": {
          "base_uri": "https://localhost:8080/",
          "height": 34
        }
      },
      "source": [
        "#Add Items\n",
        "# To add an item to the end of the list, use the append() method\n",
        "list.append(27)\n",
        "#To add an item at the specified index, use the insert() method\n",
        "list.insert(1,\"January\")\n",
        "print(list)"
      ],
      "execution_count": 10,
      "outputs": [
        {
          "output_type": "stream",
          "text": [
            "[10, 'January', 'Mathur', 34, 2, 'Rishita', [3], 27, 'Rishita', 27]\n"
          ],
          "name": "stdout"
        }
      ]
    },
    {
      "cell_type": "code",
      "metadata": {
        "id": "ME6rtXYKjYNj",
        "outputId": "b4bca1cc-b63d-4a3f-d632-dac421c97d5b",
        "colab": {
          "base_uri": "https://localhost:8080/",
          "height": 34
        }
      },
      "source": [
        "del list[2] #Delete element at i index\n",
        "list.pop(5) #Remove element from list\n",
        "print(list)"
      ],
      "execution_count": 11,
      "outputs": [
        {
          "output_type": "stream",
          "text": [
            "[10, 'January', 34, 2, 'Rishita', 27, 'Rishita', 27]\n"
          ],
          "name": "stdout"
        }
      ]
    },
    {
      "cell_type": "code",
      "metadata": {
        "id": "cjU2wmp5jdO4",
        "outputId": "7d23267f-f108-46c3-f9a4-fe506383d4b3",
        "colab": {
          "base_uri": "https://localhost:8080/",
          "height": 151
        }
      },
      "source": [
        "for i in list:\n",
        "    print(i)    #Accessing each element"
      ],
      "execution_count": 12,
      "outputs": [
        {
          "output_type": "stream",
          "text": [
            "10\n",
            "January\n",
            "34\n",
            "2\n",
            "Rishita\n",
            "27\n",
            "Rishita\n",
            "27\n"
          ],
          "name": "stdout"
        }
      ]
    },
    {
      "cell_type": "markdown",
      "metadata": {
        "id": "tdOyOSNWjiKx"
      },
      "source": [
        "TUPLE"
      ]
    },
    {
      "cell_type": "code",
      "metadata": {
        "id": "jrq9eS4sjnPp",
        "outputId": "676105b3-e52f-4314-e0ef-cdce7cdcd508",
        "colab": {
          "base_uri": "https://localhost:8080/",
          "height": 84
        }
      },
      "source": [
        "tuple = (1, \"a\", \"string\", 1+2) \n",
        "print (tuple) \n",
        "#Accessing tuple items\n",
        "print (tuple[1]) \n",
        "print(tuple[1:3])\n",
        "print(tuple[::-1])#print in reverse order"
      ],
      "execution_count": 14,
      "outputs": [
        {
          "output_type": "stream",
          "text": [
            "(1, 'a', 'string', 3)\n",
            "a\n",
            "('a', 'string')\n",
            "(3, 'string', 'a', 1)\n"
          ],
          "name": "stdout"
        }
      ]
    },
    {
      "cell_type": "code",
      "metadata": {
        "id": "ykxJkpOHj1Pq",
        "outputId": "4f795e4f-faac-41a4-b7d4-37db468b6475",
        "colab": {
          "base_uri": "https://localhost:8080/",
          "height": 34
        }
      },
      "source": [
        "#Code for concatenating two tuples\n",
        "tuple1=(0,1,2,3)\n",
        "tuple2=(\"a\",\"b\",\"c\")\n",
        "print(tuple1+tuple2)"
      ],
      "execution_count": 15,
      "outputs": [
        {
          "output_type": "stream",
          "text": [
            "(0, 1, 2, 3, 'a', 'b', 'c')\n"
          ],
          "name": "stdout"
        }
      ]
    },
    {
      "cell_type": "code",
      "metadata": {
        "id": "w9nc6vnJj-h5",
        "outputId": "f42bdd8c-b804-4327-cb65-bab8b0799c59",
        "colab": {
          "base_uri": "https://localhost:8080/",
          "height": 34
        }
      },
      "source": [
        "tuple = tuple+(1,2,3)  # Adding elements\n",
        "print(tuple) \n",
        "#Other functions are same as lists"
      ],
      "execution_count": 16,
      "outputs": [
        {
          "output_type": "stream",
          "text": [
            "(1, 'a', 'string', 3, 1, 2, 3)\n"
          ],
          "name": "stdout"
        }
      ]
    },
    {
      "cell_type": "markdown",
      "metadata": {
        "id": "vnAU6qC7kK-M"
      },
      "source": [
        "DICTIONARY"
      ]
    },
    {
      "cell_type": "code",
      "metadata": {
        "id": "3dZZnjNXkM1E",
        "outputId": "a5aa028a-c8dc-4eeb-bf25-2d6b396f203c",
        "colab": {
          "base_uri": "https://localhost:8080/",
          "height": 34
        }
      },
      "source": [
        "#Used to store key-value pairs\n",
        "dict = {1:'HI',2:'HELLO'}\n",
        "print(dict)"
      ],
      "execution_count": 17,
      "outputs": [
        {
          "output_type": "stream",
          "text": [
            "{1: 'HI', 2: 'HELLO'}\n"
          ],
          "name": "stdout"
        }
      ]
    },
    {
      "cell_type": "code",
      "metadata": {
        "id": "yeWJaSGAkSmJ",
        "outputId": "65d5bf24-bbce-43e2-dfcf-c119976581af",
        "colab": {
          "base_uri": "https://localhost:8080/",
          "height": 34
        }
      },
      "source": [
        "\n",
        "dict[2]='HELLO'#Changing element\n",
        "dict[3]=\"WORLD\"#Adding elements\n",
        "print(dict)"
      ],
      "execution_count": 18,
      "outputs": [
        {
          "output_type": "stream",
          "text": [
            "{1: 'HI', 2: 'HELLO', 3: 'WORLD'}\n"
          ],
          "name": "stdout"
        }
      ]
    },
    {
      "cell_type": "code",
      "metadata": {
        "id": "VocUWDf3kXxc",
        "outputId": "3717f032-2ef6-42c6-8edd-30f69ebabc96",
        "colab": {
          "base_uri": "https://localhost:8080/",
          "height": 34
        }
      },
      "source": [
        "dict.pop(2) #Pop element\n",
        "print(dict)"
      ],
      "execution_count": 19,
      "outputs": [
        {
          "output_type": "stream",
          "text": [
            "{1: 'HI', 3: 'WORLD'}\n"
          ],
          "name": "stdout"
        }
      ]
    },
    {
      "cell_type": "code",
      "metadata": {
        "id": "UjWE5vaTkaRp",
        "outputId": "27ff3435-9a0e-4d31-9053-1eea6ee9dac0",
        "colab": {
          "base_uri": "https://localhost:8080/",
          "height": 34
        }
      },
      "source": [
        "dict.clear() #Empty dictionary\n",
        "print(dict)"
      ],
      "execution_count": 20,
      "outputs": [
        {
          "output_type": "stream",
          "text": [
            "{}\n"
          ],
          "name": "stdout"
        }
      ]
    },
    {
      "cell_type": "markdown",
      "metadata": {
        "id": "UX3KpzakkfCz"
      },
      "source": [
        "SET"
      ]
    },
    {
      "cell_type": "code",
      "metadata": {
        "id": "42vpHwIKkmu9",
        "outputId": "fd3a7d43-db23-470e-f34b-259e55afe111",
        "colab": {
          "base_uri": "https://localhost:8080/",
          "height": 34
        }
      },
      "source": [
        "set1 = {\"a\", \"b\", \"c\"}\n",
        "print(set1)"
      ],
      "execution_count": 21,
      "outputs": [
        {
          "output_type": "stream",
          "text": [
            "{'b', 'c', 'a'}\n"
          ],
          "name": "stdout"
        }
      ]
    },
    {
      "cell_type": "code",
      "metadata": {
        "id": "kp7UnyKOkqmw",
        "outputId": "c7dca055-917f-4cb6-bfa4-351acf706ced",
        "colab": {
          "base_uri": "https://localhost:8080/",
          "height": 67
        }
      },
      "source": [
        "set2 ={3,4,5}\n",
        "print(set.union(set1,set2)) #Combining elements of both the sets\n",
        "print(set.intersection(set1,set2)) #Elements that present in both the sets\n",
        "print(set.difference(set1-set2)) #Deletes the data present in both and outputs the data present only in the set passed"
      ],
      "execution_count": 22,
      "outputs": [
        {
          "output_type": "stream",
          "text": [
            "{3, 4, 5, 'b', 'c', 'a'}\n",
            "set()\n",
            "{'b', 'c', 'a'}\n"
          ],
          "name": "stdout"
        }
      ]
    },
    {
      "cell_type": "code",
      "metadata": {
        "id": "0KYCuRG7ku5r",
        "outputId": "853089a9-171f-4275-a21f-ec39481cfeaa",
        "colab": {
          "base_uri": "https://localhost:8080/",
          "height": 67
        }
      },
      "source": [
        "#Accessing Items\n",
        "#You cannot access items in a set by referring to an index or a key but you can loop through the set items using a \"for\" loop, \n",
        "for x in set1:\n",
        "  print(x)"
      ],
      "execution_count": 23,
      "outputs": [
        {
          "output_type": "stream",
          "text": [
            "b\n",
            "c\n",
            "a\n"
          ],
          "name": "stdout"
        }
      ]
    },
    {
      "cell_type": "code",
      "metadata": {
        "id": "hJZDTabEk1CP",
        "outputId": "0eebc21d-2fe6-405e-e383-b998f995d16d",
        "colab": {
          "base_uri": "https://localhost:8080/",
          "height": 50
        }
      },
      "source": [
        "#To check for the item\n",
        "print(\"b\" in set1)\n",
        "print(\"f\" in set1)"
      ],
      "execution_count": 24,
      "outputs": [
        {
          "output_type": "stream",
          "text": [
            "True\n",
            "False\n"
          ],
          "name": "stdout"
        }
      ]
    },
    {
      "cell_type": "code",
      "metadata": {
        "id": "HQ7kpKgxk4Su",
        "outputId": "4ff3e1df-2c6f-4fef-d13b-6ee4c5c12d9e",
        "colab": {
          "base_uri": "https://localhost:8080/",
          "height": 50
        }
      },
      "source": [
        "#Once a set is created, you cannot change its items but new items can be added.\n",
        "#Add Items\n",
        "set1.add(\"h\")\n",
        "print(set1)\n",
        "\n",
        "#Add multiple items to a set, using the update() method:\n",
        "set1.update([\"x\", \"y\", \"z\"])\n",
        "print(set1)"
      ],
      "execution_count": 25,
      "outputs": [
        {
          "output_type": "stream",
          "text": [
            "{'b', 'h', 'c', 'a'}\n",
            "{'h', 'c', 'b', 'z', 'x', 'a', 'y'}\n"
          ],
          "name": "stdout"
        }
      ]
    },
    {
      "cell_type": "code",
      "metadata": {
        "id": "1dEGLK0mk6fk",
        "outputId": "a5b62691-e35a-409a-fca3-dde416d794fb",
        "colab": {
          "base_uri": "https://localhost:8080/",
          "height": 34
        }
      },
      "source": [
        "#The clear() method empties the set:\n",
        "set1.clear()\n",
        "print(set1)"
      ],
      "execution_count": 26,
      "outputs": [
        {
          "output_type": "stream",
          "text": [
            "set()\n"
          ],
          "name": "stdout"
        }
      ]
    },
    {
      "cell_type": "code",
      "metadata": {
        "id": "fq5C0btxlAM4"
      },
      "source": [
        ""
      ],
      "execution_count": null,
      "outputs": []
    }
  ]
}