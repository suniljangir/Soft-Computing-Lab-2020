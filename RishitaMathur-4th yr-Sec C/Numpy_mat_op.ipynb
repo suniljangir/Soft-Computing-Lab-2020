{
  "nbformat": 4,
  "nbformat_minor": 0,
  "metadata": {
    "colab": {
      "name": "Numpy_mat_op.ipynb",
      "provenance": [],
      "collapsed_sections": []
    },
    "kernelspec": {
      "name": "python3",
      "display_name": "Python 3"
    }
  },
  "cells": [
    {
      "cell_type": "markdown",
      "metadata": {
        "id": "PaVrE3KUly7a"
      },
      "source": [
        "AIM: Demonstrate the use of numpy for matrix operations"
      ]
    },
    {
      "cell_type": "markdown",
      "metadata": {
        "id": "eXSQr5qil8Vi"
      },
      "source": [
        "Numpy is a general-purpose array-processing package. It provides a high-performance multidimensional array object, and tools for working with these arrays."
      ]
    },
    {
      "cell_type": "code",
      "metadata": {
        "id": "R8QC8h-jl0vp"
      },
      "source": [
        "import numpy as np"
      ],
      "execution_count": 1,
      "outputs": []
    },
    {
      "cell_type": "markdown",
      "metadata": {
        "id": "LOhzE9bvmCFS"
      },
      "source": [
        "Creating an array"
      ]
    },
    {
      "cell_type": "code",
      "metadata": {
        "id": "tRgoKNo3mFN6",
        "outputId": "7d1d8ed8-c938-4989-ac2a-ba2a2ea66b06",
        "colab": {
          "base_uri": "https://localhost:8080/",
          "height": 50
        }
      },
      "source": [
        "list1=[0,1,2,3,4]\n",
        "print(\"list1 is of tpye:\",type(list1))\n",
        "arr=np.array(list1) \n",
        "print(\"arr is of type:\",type(arr))"
      ],
      "execution_count": 2,
      "outputs": [
        {
          "output_type": "stream",
          "text": [
            "list1 is of tpye: <class 'list'>\n",
            "arr is of type: <class 'numpy.ndarray'>\n"
          ],
          "name": "stdout"
        }
      ]
    },
    {
      "cell_type": "code",
      "metadata": {
        "id": "VsHpUznhmKj5",
        "outputId": "5fee582c-64f7-49b4-d035-0cb2d59e82a5",
        "colab": {
          "base_uri": "https://localhost:8080/",
          "height": 151
        }
      },
      "source": [
        "import numpy as np\n",
        " \n",
        "arr = np.array([1, 2, 3])\n",
        "print(\"Array with Rank 1: \\n\",arr)\n",
        "arr = np.array([[1, 2, 3],\n",
        "                [4, 5, 6]])\n",
        "print(\"Array with Rank 2: \\n\", arr)\n",
        "arr = np.array((1, 3, 2))\n",
        "print(\"\\nArray created using \"\n",
        "      \"passed tuple:\\n\", arr)"
      ],
      "execution_count": 3,
      "outputs": [
        {
          "output_type": "stream",
          "text": [
            "Array with Rank 1: \n",
            " [1 2 3]\n",
            "Array with Rank 2: \n",
            " [[1 2 3]\n",
            " [4 5 6]]\n",
            "\n",
            "Array created using passed tuple:\n",
            " [1 3 2]\n"
          ],
          "name": "stdout"
        }
      ]
    },
    {
      "cell_type": "code",
      "metadata": {
        "id": "QPDJ6KYQml-r",
        "outputId": "7254145b-0de5-4ded-d169-134a79a2b085",
        "colab": {
          "base_uri": "https://localhost:8080/",
          "height": 34
        }
      },
      "source": [
        "np.arange(1,6)"
      ],
      "execution_count": 4,
      "outputs": [
        {
          "output_type": "execute_result",
          "data": {
            "text/plain": [
              "array([1, 2, 3, 4, 5])"
            ]
          },
          "metadata": {
            "tags": []
          },
          "execution_count": 4
        }
      ]
    },
    {
      "cell_type": "code",
      "metadata": {
        "id": "QDQ_EcGimtQz",
        "outputId": "ef1abcfa-31bc-43b2-e77c-7fea6e50dc7a",
        "colab": {
          "base_uri": "https://localhost:8080/",
          "height": 34
        }
      },
      "source": [
        "np.ones(4)"
      ],
      "execution_count": 5,
      "outputs": [
        {
          "output_type": "execute_result",
          "data": {
            "text/plain": [
              "array([1., 1., 1., 1.])"
            ]
          },
          "metadata": {
            "tags": []
          },
          "execution_count": 5
        }
      ]
    },
    {
      "cell_type": "code",
      "metadata": {
        "id": "ROABUU8jmxQh",
        "outputId": "a5d4ba00-4997-4395-858a-850fe1d7b527",
        "colab": {
          "base_uri": "https://localhost:8080/",
          "height": 50
        }
      },
      "source": [
        "arr1=np.array([1,5,-3,3,1,7,3,0])\n",
        "print(arr1)\n",
        "type(arr1)"
      ],
      "execution_count": 6,
      "outputs": [
        {
          "output_type": "stream",
          "text": [
            "[ 1  5 -3  3  1  7  3  0]\n"
          ],
          "name": "stdout"
        },
        {
          "output_type": "execute_result",
          "data": {
            "text/plain": [
              "numpy.ndarray"
            ]
          },
          "metadata": {
            "tags": []
          },
          "execution_count": 6
        }
      ]
    },
    {
      "cell_type": "code",
      "metadata": {
        "id": "zK9ce61pm2SP",
        "outputId": "3a80c941-2109-4ffd-d2c5-a989e3d9510f",
        "colab": {
          "base_uri": "https://localhost:8080/",
          "height": 67
        }
      },
      "source": [
        "a = np.array([[[1, 2, 3], [4, 5, 6]], [[7, 8, 9], [10, 11, 12]]])\n",
        "print(a[1, 1, 2]) #Indexing\n",
        "print(a[-1,-1,-1]) #Negative indexing\n",
        "print(a[1,1,:]) #Slicing"
      ],
      "execution_count": 7,
      "outputs": [
        {
          "output_type": "stream",
          "text": [
            "12\n",
            "12\n",
            "[10 11 12]\n"
          ],
          "name": "stdout"
        }
      ]
    },
    {
      "cell_type": "code",
      "metadata": {
        "id": "GQ1PDp1KnDD0"
      },
      "source": [
        "#Creation of Matrix"
      ],
      "execution_count": 9,
      "outputs": []
    },
    {
      "cell_type": "code",
      "metadata": {
        "id": "Z1RLbSgNnGTl",
        "outputId": "f0a8fb45-99e5-4925-d921-e44184fd881b",
        "colab": {
          "base_uri": "https://localhost:8080/",
          "height": 34
        }
      },
      "source": [
        "# Generate numbers from (start) to (end-1)\n",
        "# Generated a NumPy array from 0 to 4\n",
        "print(np.arange(0,5))"
      ],
      "execution_count": 10,
      "outputs": [
        {
          "output_type": "stream",
          "text": [
            "[0 1 2 3 4]\n"
          ],
          "name": "stdout"
        }
      ]
    },
    {
      "cell_type": "markdown",
      "metadata": {
        "id": "sLfpc5s2nZh9"
      },
      "source": [
        "Matrix Operations"
      ]
    },
    {
      "cell_type": "code",
      "metadata": {
        "id": "ZWlpmh8bnbrw",
        "outputId": "4d257a2b-d217-41c5-c160-9ffeb412fbbc",
        "colab": {
          "base_uri": "https://localhost:8080/",
          "height": 67
        }
      },
      "source": [
        "arr1 = np.array([[4, 7], [2, 6]],dtype = np.float64)\n",
        "arr2 = np.array([[3, 6], [2, 8]],dtype = np.float64) \n",
        "\n",
        "Sum = np.add(arr1, arr2)\n",
        "print(\"Addition of Two Arrays: \")\n",
        "print(Sum)"
      ],
      "execution_count": 12,
      "outputs": [
        {
          "output_type": "stream",
          "text": [
            "Addition of Two Arrays: \n",
            "[[ 7. 13.]\n",
            " [ 4. 14.]]\n"
          ],
          "name": "stdout"
        }
      ]
    },
    {
      "cell_type": "code",
      "metadata": {
        "id": "miNuMK5EnhW5",
        "outputId": "0edba457-c1a6-41b3-f0d0-871b7f40c8af",
        "colab": {
          "base_uri": "https://localhost:8080/",
          "height": 67
        }
      },
      "source": [
        "print (\"Subtraction of two matrices : \")\n",
        "print (np.subtract(arr1,arr2))"
      ],
      "execution_count": 13,
      "outputs": [
        {
          "output_type": "stream",
          "text": [
            "Subtraction of two matrices : \n",
            "[[ 1.  1.]\n",
            " [ 0. -2.]]\n"
          ],
          "name": "stdout"
        }
      ]
    },
    {
      "cell_type": "code",
      "metadata": {
        "id": "ZjGi2bqrnz_R",
        "outputId": "716a173b-ce5b-4200-fb83-c3fcb093598e",
        "colab": {
          "base_uri": "https://localhost:8080/",
          "height": 67
        }
      },
      "source": [
        "print (\"Matrix Division : \")\n",
        "print (np.divide(arr1,arr2))"
      ],
      "execution_count": 14,
      "outputs": [
        {
          "output_type": "stream",
          "text": [
            "Matrix Division : \n",
            "[[1.33333333 1.16666667]\n",
            " [1.         0.75      ]]\n"
          ],
          "name": "stdout"
        }
      ]
    },
    {
      "cell_type": "code",
      "metadata": {
        "id": "BRoIwApAn5DM",
        "outputId": "840493de-ed79-421c-f7f1-9275765f335f",
        "colab": {
          "base_uri": "https://localhost:8080/",
          "height": 67
        }
      },
      "source": [
        "print (\"Element to Element Multiplication of two matrices: \")\n",
        "print (np.multiply(arr1,arr2))"
      ],
      "execution_count": 15,
      "outputs": [
        {
          "output_type": "stream",
          "text": [
            "Element to Element Multiplication of two matrices: \n",
            "[[12. 42.]\n",
            " [ 4. 48.]]\n"
          ],
          "name": "stdout"
        }
      ]
    },
    {
      "cell_type": "code",
      "metadata": {
        "id": "o3-sKWFFn-9B",
        "outputId": "f2a8b11f-6bd2-4b6d-853a-36a59a75be3f",
        "colab": {
          "base_uri": "https://localhost:8080/",
          "height": 67
        }
      },
      "source": [
        "print (\"The product of two matrices : \")\n",
        "print (np.dot(arr1,arr2))"
      ],
      "execution_count": 16,
      "outputs": [
        {
          "output_type": "stream",
          "text": [
            "The product of two matrices : \n",
            "[[26. 80.]\n",
            " [18. 60.]]\n"
          ],
          "name": "stdout"
        }
      ]
    },
    {
      "cell_type": "code",
      "metadata": {
        "id": "lPn0Z5GgoD85",
        "outputId": "3bd6f192-a583-4e8d-c9a1-f54c9c577246",
        "colab": {
          "base_uri": "https://localhost:8080/",
          "height": 67
        }
      },
      "source": [
        "print (\"square root is : \")\n",
        "print (np.sqrt(arr2))"
      ],
      "execution_count": 17,
      "outputs": [
        {
          "output_type": "stream",
          "text": [
            "square root is : \n",
            "[[1.73205081 2.44948974]\n",
            " [1.41421356 2.82842712]]\n"
          ],
          "name": "stdout"
        }
      ]
    },
    {
      "cell_type": "code",
      "metadata": {
        "id": "Czdv9chxoKFf",
        "outputId": "027c0391-d6b8-4125-93bd-3b88ce78e837",
        "colab": {
          "base_uri": "https://localhost:8080/",
          "height": 50
        }
      },
      "source": [
        "print (\"The column wise summation  : \")\n",
        "print (np.sum(arr2,axis=0))"
      ],
      "execution_count": 18,
      "outputs": [
        {
          "output_type": "stream",
          "text": [
            "The column wise summation  : \n",
            "[ 5. 14.]\n"
          ],
          "name": "stdout"
        }
      ]
    },
    {
      "cell_type": "code",
      "metadata": {
        "id": "Zf0rrlIvoPi1",
        "outputId": "83679a98-08f3-45e6-9a7a-c05624d645a3",
        "colab": {
          "base_uri": "https://localhost:8080/",
          "height": 50
        }
      },
      "source": [
        "print (\"The row wise summation: \")\n",
        "print (np.sum(arr2,axis=1))"
      ],
      "execution_count": 19,
      "outputs": [
        {
          "output_type": "stream",
          "text": [
            "The row wise summation: \n",
            "[ 9. 10.]\n"
          ],
          "name": "stdout"
        }
      ]
    },
    {
      "cell_type": "code",
      "metadata": {
        "id": "laZQ9Lk9oTmm",
        "outputId": "2a484669-91c9-4671-9f34-843a84ebc700",
        "colab": {
          "base_uri": "https://localhost:8080/",
          "height": 67
        }
      },
      "source": [
        "print (\"Matrix transposition : \")\n",
        "print (arr1.T)"
      ],
      "execution_count": 20,
      "outputs": [
        {
          "output_type": "stream",
          "text": [
            "Matrix transposition : \n",
            "[[4. 2.]\n",
            " [7. 6.]]\n"
          ],
          "name": "stdout"
        }
      ]
    },
    {
      "cell_type": "code",
      "metadata": {
        "id": "3Au6uKNloXpB"
      },
      "source": [
        ""
      ],
      "execution_count": null,
      "outputs": []
    }
  ]
}