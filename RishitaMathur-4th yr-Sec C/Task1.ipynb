{
  "nbformat": 4,
  "nbformat_minor": 0,
  "metadata": {
    "colab": {
      "name": "Task1.ipynb",
      "provenance": [],
      "collapsed_sections": []
    },
    "kernelspec": {
      "name": "python3",
      "display_name": "Python 3"
    }
  },
  "cells": [
    {
      "cell_type": "markdown",
      "metadata": {
        "id": "ltcITfh9LvTJ"
      },
      "source": [
        "**Operator Implementation in Python**\n"
      ]
    },
    {
      "cell_type": "markdown",
      "metadata": {
        "id": "66ny0o1SMQWB"
      },
      "source": [
        "i. *Arithmetic* *Operators*\n"
      ]
    },
    {
      "cell_type": "code",
      "metadata": {
        "id": "4UtfOdL5KO00",
        "outputId": "18177c47-4fd7-4b1b-a4a0-52b9e7f9cde4",
        "colab": {
          "base_uri": "https://localhost:8080/",
          "height": 134
        }
      },
      "source": [
        "a = 12\n",
        "b = 5\n",
        "print(\"Addition: \", a+b)\n",
        "print(\"Substraction: \", a-b)\n",
        "print(\"Multiplication: \", a*b)\n",
        "print(\"Division: \", a/b)\n",
        "print(\"Modulo: \", a%b)\n",
        "print(\"Power: \", a**b)\n",
        "print(\"Floor Division: \", a//b)"
      ],
      "execution_count": 7,
      "outputs": [
        {
          "output_type": "stream",
          "text": [
            "Addition:  17\n",
            "Substraction:  7\n",
            "Multiplication:  60\n",
            "Division:  2.4\n",
            "Modulo:  2\n",
            "Power:  248832\n",
            "Floor Division:  2\n"
          ],
          "name": "stdout"
        }
      ]
    },
    {
      "cell_type": "markdown",
      "metadata": {
        "id": "bKs5qmPOMprZ"
      },
      "source": [
        "*ii. Relational Operators*"
      ]
    },
    {
      "cell_type": "code",
      "metadata": {
        "id": "8zxI-lM0MFBr",
        "outputId": "a071b66b-42f3-47ce-bc2c-4cde5f47b03a",
        "colab": {
          "base_uri": "https://localhost:8080/",
          "height": 118
        }
      },
      "source": [
        "a = 12\n",
        "b = 5\n",
        "print(\"a>b: \", a>b)\n",
        "print(\"a<b: \", a<b)\n",
        "print(\"a>=b: \", a>=b)\n",
        "print(\"a<=b: \", a<=b)\n",
        "print(\"a!=b: \", a!=b)\n",
        "print(\"a==b: \", a==b)"
      ],
      "execution_count": 10,
      "outputs": [
        {
          "output_type": "stream",
          "text": [
            "a>b:  True\n",
            "a<b:  False\n",
            "a>=b:  True\n",
            "a<=b:  False\n",
            "a!=b:  True\n",
            "a==b:  False\n"
          ],
          "name": "stdout"
        }
      ]
    },
    {
      "cell_type": "markdown",
      "metadata": {
        "id": "dPSCPQFWM8u4"
      },
      "source": [
        "*ii. Logical Operators*"
      ]
    },
    {
      "cell_type": "code",
      "metadata": {
        "id": "lsPzfwb4MhCH",
        "outputId": "5cae1989-6bf0-449b-a612-1d8782e6ec44",
        "colab": {
          "base_uri": "https://localhost:8080/",
          "height": 50
        }
      },
      "source": [
        "a= True\n",
        "b= False\n",
        "print(\"a and b : \", a and b)\n",
        "print(\"a or b : \", a or b)"
      ],
      "execution_count": 12,
      "outputs": [
        {
          "output_type": "stream",
          "text": [
            "a and b :  False\n",
            "a or b :  True\n"
          ],
          "name": "stdout"
        }
      ]
    },
    {
      "cell_type": "markdown",
      "metadata": {
        "id": "7lglldZiNd6O"
      },
      "source": [
        "*iii. Bitwise Operators*"
      ]
    },
    {
      "cell_type": "code",
      "metadata": {
        "id": "SWoHZs-4Nn3p",
        "outputId": "9dd17bc1-a6b6-43f6-8382-da8a4a587493",
        "colab": {
          "base_uri": "https://localhost:8080/",
          "height": 134
        }
      },
      "source": [
        "a = 12\n",
        "b = 5\n",
        "print(\"a&b : \", a&b)\n",
        "print(\"a|b : \", a|b)\n",
        "print(\"~a : \", ~a )\n",
        "print(\"~b : \", ~b)\n",
        "print(\"a^b : \", a^b)\n",
        "print(\"a>>2 : \", a>>2)\n",
        "print(\"a<<2 : \", a<<2)"
      ],
      "execution_count": 13,
      "outputs": [
        {
          "output_type": "stream",
          "text": [
            "a&b :  4\n",
            "a|b :  13\n",
            "~a :  -13\n",
            "~b :  -6\n",
            "a^b :  9\n",
            "a>>2 :  3\n",
            "a<<2 :  48\n"
          ],
          "name": "stdout"
        }
      ]
    },
    {
      "cell_type": "markdown",
      "metadata": {
        "id": "PrrO83Z2N04l"
      },
      "source": [
        "*iv. Assignment Operators*"
      ]
    },
    {
      "cell_type": "code",
      "metadata": {
        "id": "5MmmE4pyNvjJ",
        "outputId": "2e0f19ea-c6c8-4064-9181-232746bffcfe",
        "colab": {
          "base_uri": "https://localhost:8080/",
          "height": 218
        }
      },
      "source": [
        "a = 12\n",
        "b = 5\n",
        "\n",
        "c  = a+b\n",
        "print(\" = \", c)\n",
        "\n",
        "c += 2\n",
        "print(\"+= : \", c)\n",
        "\n",
        "c -=2\n",
        "print(\"-= : \", c)\n",
        "\n",
        "c *= 2\n",
        "print(\"*= : \", c)\n",
        "\n",
        "c /= 2\n",
        "print(\"/= : \", c)\n",
        "\n",
        "c //=2\n",
        "print(\"//= : \", c)\n",
        "\n",
        "c %=2\n",
        "print(\"%= : \", c)\n",
        "\n",
        "c = 118\n",
        "c &= 2\n",
        "print(\"&= : \", c)\n",
        "\n",
        "c |=2\n",
        "print(\"|= : \", c)\n",
        "\n",
        "c ^= 2\n",
        "print(\"^= : \", c)\n",
        "\n",
        "c >>= 2\n",
        "print(\">>= : \", c)\n",
        "\n",
        "c <<= 2\n",
        "print(\"<<= : \", c)"
      ],
      "execution_count": 14,
      "outputs": [
        {
          "output_type": "stream",
          "text": [
            " =  17\n",
            "+= :  19\n",
            "-= :  17\n",
            "*= :  34\n",
            "/= :  17.0\n",
            "//= :  8.0\n",
            "%= :  0.0\n",
            "&= :  2\n",
            "|= :  2\n",
            "^= :  0\n",
            ">>= :  0\n",
            "<<= :  0\n"
          ],
          "name": "stdout"
        }
      ]
    },
    {
      "cell_type": "markdown",
      "metadata": {
        "id": "7PemtQiLOJOY"
      },
      "source": [
        "v. Identity Operators"
      ]
    },
    {
      "cell_type": "code",
      "metadata": {
        "id": "qJHAkav5OR2k",
        "outputId": "141475fb-d821-4f4d-b15f-2a2e92d5343e",
        "colab": {
          "base_uri": "https://localhost:8080/",
          "height": 84
        }
      },
      "source": [
        "a = \"Rishita\"\n",
        "b = \"Rishita\"\n",
        "print(\"a is b : \", a is b)\n",
        "print(\"a is not b : \", a is not b)\n",
        "x = [1,2,3]\n",
        "y = [1,2,3]\n",
        "print(\"c is d : \", x is y)\n",
        "print(\"c is not d : \", x is not y)"
      ],
      "execution_count": 16,
      "outputs": [
        {
          "output_type": "stream",
          "text": [
            "a is b :  True\n",
            "a is not b :  False\n",
            "c is d :  False\n",
            "c is not d :  True\n"
          ],
          "name": "stdout"
        }
      ]
    },
    {
      "cell_type": "markdown",
      "metadata": {
        "id": "p6OAVXVQOg73"
      },
      "source": [
        "*vi. Membership Operators*"
      ]
    },
    {
      "cell_type": "code",
      "metadata": {
        "id": "sNHkLNV2OrVY",
        "outputId": "d7592b6f-dec5-4c21-a4fa-87c61018320f",
        "colab": {
          "base_uri": "https://localhost:8080/",
          "height": 50
        }
      },
      "source": [
        "a = [12,4,45,54,99,2,39]\n",
        "print(\"12 in a : \", 23 in a)\n",
        "print(\"13 not in a : \", 13 not in a)"
      ],
      "execution_count": 17,
      "outputs": [
        {
          "output_type": "stream",
          "text": [
            "12 in a :  False\n",
            "13 not in a :  True\n"
          ],
          "name": "stdout"
        }
      ]
    },
    {
      "cell_type": "code",
      "metadata": {
        "id": "FbRwmHGNPBJj"
      },
      "source": [
        ""
      ],
      "execution_count": null,
      "outputs": []
    }
  ]
}