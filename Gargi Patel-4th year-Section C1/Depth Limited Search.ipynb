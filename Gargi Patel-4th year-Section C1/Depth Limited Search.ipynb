{
 "cells": [
  {
   "cell_type": "markdown",
   "metadata": {},
   "source": [
    "## Depth Limited Search"
   ]
  },
  {
   "cell_type": "code",
   "execution_count": 12,
   "metadata": {
    "scrolled": true
   },
   "outputs": [
    {
     "name": "stdout",
     "output_type": "stream",
     "text": [
      "Enter the node to be searched: 4\n",
      "Enter the depth: 2\n",
      "Target is NOT reachable from source 0 within max depth 2\n"
     ]
    }
   ],
   "source": [
    "from collections import defaultdict\n",
    "class Graph:\n",
    "    def __init__(self,vertices):\n",
    "        self.V = vertices\n",
    "        self.graph = defaultdict(list)\n",
    "    def addEdge(self,u,v):\n",
    "        self.graph[u].append(v)\n",
    "    def DLS(self,src,target,maxDepth):\n",
    "        if src == target : return True\n",
    "        if maxDepth <= 0 : return False\n",
    "        for i in self.graph[src]:\n",
    "            if(self.DLS(i,target,maxDepth-1)):\n",
    "                return True\n",
    "        return False\n",
    "    def IDDFS(self,src,target,maxDepth):\n",
    "        for i in range(maxDepth):\n",
    "            if(self.DLS(i,target,maxDepth-1)): \n",
    "                    return True\n",
    "        return False  \n",
    "    def IDDFS(self,src, target, maxDepth): \n",
    "        for i in range(maxDepth): \n",
    "            if (self.DLS(src, target, i)): \n",
    "                return True\n",
    "        return False\n",
    "g = Graph (7); \n",
    "g.addEdge(0, 1) \n",
    "g.addEdge(0, 2) \n",
    "g.addEdge(1, 3) \n",
    "g.addEdge(1, 4) \n",
    "g.addEdge(2, 5) \n",
    "g.addEdge(2, 6)   \n",
    "target = int(input(\"Enter the node to be searched: \"));\n",
    "maxDepth = int(input(\"Enter the depth: \"));\n",
    "src = 0  \n",
    "if g.IDDFS(src, target, maxDepth) == True: \n",
    "    print (\"Target is reachable from source %d \" %src +\n",
    "        \"within max depth %d\"% maxDepth) \n",
    "else : \n",
    "    print (\"Target is NOT reachable from source %d \" %src +\n",
    "        \"within max depth %d\"% maxDepth)"
   ]
  },
  {
   "cell_type": "markdown",
   "metadata": {},
   "source": [
    "#### Submitted By:\n",
    "    Gargi Patel\n",
    "    170371\n",
    "    B.Tech-CSE(BDA)\n",
    "    4th Year, C1"
   ]
  }
 ],
 "metadata": {
  "kernelspec": {
   "display_name": "Python 3",
   "language": "python",
   "name": "python3"
  },
  "language_info": {
   "codemirror_mode": {
    "name": "ipython",
    "version": 3
   },
   "file_extension": ".py",
   "mimetype": "text/x-python",
   "name": "python",
   "nbconvert_exporter": "python",
   "pygments_lexer": "ipython3",
   "version": "3.7.6"
  }
 },
 "nbformat": 4,
 "nbformat_minor": 4
}
