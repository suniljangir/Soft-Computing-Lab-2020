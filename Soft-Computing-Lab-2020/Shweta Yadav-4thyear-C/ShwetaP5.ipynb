{
  "nbformat": 4,
  "nbformat_minor": 0,
  "metadata": {
    "colab": {
      "name": "ShwetaP5.ipynb",
      "provenance": [],
      "collapsed_sections": [],
      "authorship_tag": "ABX9TyNVwS2TSFtY+EpDx35VoySF",
      "include_colab_link": true
    },
    "kernelspec": {
      "name": "python3",
      "display_name": "Python 3"
    }
  },
  "cells": [
    {
      "cell_type": "markdown",
      "metadata": {
        "id": "view-in-github",
        "colab_type": "text"
      },
      "source": [
        "<a href=\"https://colab.research.google.com/github/shwetay58/Soft-Computing-Lab-2020/blob/master/Soft-Computing-Lab-2020/Shweta%20Yadav-4thyear-C/ShwetaP5.ipynb\" target=\"_parent\"><img src=\"https://colab.research.google.com/assets/colab-badge.svg\" alt=\"Open In Colab\"/></a>"
      ]
    },
    {
      "cell_type": "markdown",
      "metadata": {
        "id": "ThVljel9Tu8x"
      },
      "source": [
        "AIM: Write a program to implement bfs and dfs with the input of graph and the goal node to be searched, your output will show the path from the root node to goal node only."
      ]
    },
    {
      "cell_type": "code",
      "metadata": {
        "id": "Vfe2AczrT2sN"
      },
      "source": [
        "def bfs(graph,start,search):\n",
        "    explored = []\n",
        "    queue = [start]\n",
        "    found = 1\n",
        "    while found:\n",
        "        node = queue.pop(0)\n",
        "        if(node == search):\n",
        "            found = 0\n",
        "        if node not in explored:\n",
        "            explored.append(node)\n",
        "            neighbours = graph[node]\n",
        "        for neighbour in neighbours:\n",
        "            queue.append(neighbour)\n",
        "    print(explored)"
      ],
      "execution_count": 1,
      "outputs": []
    },
    {
      "cell_type": "code",
      "metadata": {
        "colab": {
          "base_uri": "https://localhost:8080/"
        },
        "id": "t3f1FYotU_5u",
        "outputId": "71470372-97a0-4eb6-cdfb-64efc22f7b8c"
      },
      "source": [
        "search = int(input(\"enter the number you want to search-\"))\n",
        "graph = {1: [2, 3, 5],\n",
        "         2: [1,4, 5],\n",
        "         3: [1, 6, 7],\n",
        "         4: [2],\n",
        "         5: [1, 2,4],\n",
        "         6: [3],\n",
        "         7: [3]}\n",
        "bfs(graph,1,search)"
      ],
      "execution_count": 3,
      "outputs": [
        {
          "output_type": "stream",
          "text": [
            "enter the number you want to search-4\n",
            "[1, 2, 3, 5, 4]\n"
          ],
          "name": "stdout"
        }
      ]
    },
    {
      "cell_type": "code",
      "metadata": {
        "id": "C8bqOW_zVSrz"
      },
      "source": [
        ""
      ],
      "execution_count": null,
      "outputs": []
    }
  ]
}