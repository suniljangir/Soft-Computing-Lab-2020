{
  "nbformat": 4,
  "nbformat_minor": 0,
  "metadata": {
    "colab": {
      "name": "Untitled5.ipynb",
      "provenance": [],
      "authorship_tag": "ABX9TyME0vysWlrjTmoOezGfADzE",
      "include_colab_link": true
    },
    "kernelspec": {
      "name": "python3",
      "display_name": "Python 3"
    }
  },
  "cells": [
    {
      "cell_type": "markdown",
      "metadata": {
        "id": "view-in-github",
        "colab_type": "text"
      },
      "source": [
        "<a href=\"https://colab.research.google.com/github/sakshitulshyan/Soft-Computing-Lab-2020/blob/master/sakshi%20Tulshyan_4thyear_c1%5CNOT-logical-operation-using-numpy.ipynb\" target=\"_parent\"><img src=\"https://colab.research.google.com/assets/colab-badge.svg\" alt=\"Open In Colab\"/></a>"
      ]
    },
    {
      "cell_type": "code",
      "metadata": {
        "colab": {
          "base_uri": "https://localhost:8080/"
        },
        "id": "ne15qj-c2BSx",
        "outputId": "5f65f40c-ed4b-45bd-82f8-b603b4a8cd11"
      },
      "source": [
        "import numpy as np\n",
        "x=np.array([[0],[1]])\n",
        "t=np.array([[1],[0]])\n",
        "w=np.array([0])\n",
        "theta=1\n",
        "yin=np.zeros(shape=(2,1))\n",
        "y=np.zeros(shape=(2,1))\n",
        "yin=np.dot(x,w)\n",
        "i=0\n",
        "found=0\n",
        "while(found==0):\n",
        "    i=0\n",
        "    yin=np.dot(x,w)\n",
        "    print(\"Y is initiallised\",yin)\n",
        "    while(i<2):\n",
        "        if yin[i]>=theta:\n",
        "            y[i]=1 \n",
        "            i=i+1\n",
        "        else:\n",
        "            y[i]=0\n",
        "            i=i+1\n",
        "    print(\"Calculated y\",y)\n",
        "    print(\"Expected Target t\",t)\n",
        "    if (y==t).all():\n",
        "        print(\"MODEL IS TRAINED \")\n",
        "        print(\"\\nOutput : \\n\",y)\n",
        "        print(\"\\nweights : \",w,\"\\n\")\n",
        "        print(\"theta : \",theta)\n",
        "        found=1\n",
        "    else:\n",
        "        print(\"MODEL IS NOT TRAINED\")\n",
        "        w=np.zeros(shape=(0,0))\n",
        "        theta=int(input(\"Enter New Theta : \"))\n",
        "        for k in range(int(1)):\n",
        "            w1=int(input(\"Enter Weight : \"))\n",
        "            w=np.append(w,w1)\n"
      ],
      "execution_count": 64,
      "outputs": [
        {
          "output_type": "stream",
          "text": [
            "Y is initiallised [0 0]\n",
            "Calculated y [[0.]\n",
            " [0.]]\n",
            "Expected Target t [[1]\n",
            " [0]]\n",
            "MODEL IS NOT TRAINED\n",
            "Enter New Theta : 0\n",
            "Enter Weight : -1\n",
            "Y is initiallised [ 0. -1.]\n",
            "Calculated y [[1.]\n",
            " [0.]]\n",
            "Expected Target t [[1]\n",
            " [0]]\n",
            "MODEL IS TRAINED \n",
            "\n",
            "Output : \n",
            " [[1.]\n",
            " [0.]]\n",
            "\n",
            "weights :  [-1.] \n",
            "\n",
            "theta :  0\n"
          ],
          "name": "stdout"
        }
      ]
    }
  ]
}