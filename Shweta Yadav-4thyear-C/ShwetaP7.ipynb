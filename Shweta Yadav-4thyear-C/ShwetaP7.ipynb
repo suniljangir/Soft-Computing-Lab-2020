{
  "nbformat": 4,
  "nbformat_minor": 0,
  "metadata": {
    "colab": {
      "name": "ShwetaP7.ipynb",
      "provenance": [],
      "collapsed_sections": [],
      "authorship_tag": "ABX9TyNB9nT4WGJEtaDZuaziZghE",
      "include_colab_link": true
    },
    "kernelspec": {
      "name": "python3",
      "display_name": "Python 3"
    }
  },
  "cells": [
    {
      "cell_type": "markdown",
      "metadata": {
        "id": "view-in-github",
        "colab_type": "text"
      },
      "source": [
        "<a href=\"https://colab.research.google.com/github/shwetay58/Soft-Computing-Lab-2020/blob/master/Shweta%20Yadav-4thyear-C/ShwetaP7.ipynb\" target=\"_parent\"><img src=\"https://colab.research.google.com/assets/colab-badge.svg\" alt=\"Open In Colab\"/></a>"
      ]
    },
    {
      "cell_type": "markdown",
      "metadata": {
        "id": "HLw1IgipXMqR"
      },
      "source": [
        "AIM: To plot the graph for the following equations."
      ]
    },
    {
      "cell_type": "markdown",
      "metadata": {
        "id": "Br0KT903XTQd"
      },
      "source": [
        "1. y={1 x<10 0 else"
      ]
    },
    {
      "cell_type": "code",
      "metadata": {
        "id": "mpqhix5lXRnW"
      },
      "source": [
        "import matplotlib.pyplot as plt"
      ],
      "execution_count": 4,
      "outputs": []
    },
    {
      "cell_type": "code",
      "metadata": {
        "id": "A0Yy3tvtXaEz"
      },
      "source": [
        "x=[num for num in range(0,20)]\n",
        "y=[]\n",
        "for i in x:\n",
        "    if i>=10:\n",
        "        y.append(1)\n",
        "    else:\n",
        "        y.append(0)"
      ],
      "execution_count": 5,
      "outputs": []
    },
    {
      "cell_type": "code",
      "metadata": {
        "colab": {
          "base_uri": "https://localhost:8080/",
          "height": 295
        },
        "id": "TECfSXJQXjAU",
        "outputId": "f7590fcb-cdb3-4b79-a324-b29bd3ab2c4c"
      },
      "source": [
        "plt.plot(x,y)\n",
        "plt.xlabel(\"x axis\")\n",
        "plt.ylabel(\"y axis\")\n",
        "plt.title(\"y=1 if x>=10 else y=0\")\n",
        "plt.show()"
      ],
      "execution_count": 6,
      "outputs": [
        {
          "output_type": "display_data",
          "data": {
            "image/png": "[encoded data removed]",
            "text/plain": [
              "<Figure size 432x288 with 1 Axes>"
            ]
          },
          "metadata": {
            "tags": [],
            "needs_background": "light"
          }
        }
      ]
    },
    {
      "cell_type": "markdown",
      "metadata": {
        "id": "_0ADA-65X4Kh"
      },
      "source": [
        "2. y=eax, for different values of a."
      ]
    },
    {
      "cell_type": "code",
      "metadata": {
        "id": "2nwSK9GrX5mw"
      },
      "source": [
        "import numpy as np"
      ],
      "execution_count": 7,
      "outputs": []
    },
    {
      "cell_type": "code",
      "metadata": {
        "id": "XJgUOuabX9Tb"
      },
      "source": [
        "num=[num for num in range(0,10)]\n",
        "a=2 #constant value\n",
        "x=np.array(num)*2\n",
        "y=np.exp(x)"
      ],
      "execution_count": 8,
      "outputs": []
    },
    {
      "cell_type": "code",
      "metadata": {
        "colab": {
          "base_uri": "https://localhost:8080/",
          "height": 295
        },
        "id": "8qlt0KGGYEIs",
        "outputId": "6ed68523-1377-45cf-f4aa-64622ea2bfef"
      },
      "source": [
        "plt.plot(x,y)\n",
        "plt.xlabel(\"x axis\")\n",
        "plt.ylabel(\"y axis\")\n",
        "plt.title(\"y=e**ax\")\n",
        "plt.show()"
      ],
      "execution_count": 9,
      "outputs": [
        {
          "output_type": "display_data",
          "data": {
            "image/png": "[encoded data removed]",
            "text/plain": [
              "<Figure size 432x288 with 1 Axes>"
            ]
          },
          "metadata": {
            "tags": [],
            "needs_background": "light"
          }
        }
      ]
    },
    {
      "cell_type": "markdown",
      "metadata": {
        "id": "dskR3w_qYLj5"
      },
      "source": [
        "3. y=7x2+3x+10 for 2<=x<=5"
      ]
    },
    {
      "cell_type": "code",
      "metadata": {
        "id": "eQTQphQyYMit"
      },
      "source": [
        "x=[x for x in range(2,6)]\n",
        "y=[]"
      ],
      "execution_count": 10,
      "outputs": []
    },
    {
      "cell_type": "code",
      "metadata": {
        "id": "a4mB96YmYRWA"
      },
      "source": [
        "for i in x:\n",
        "    y.append(7*pow(i,2)+3*i+10)"
      ],
      "execution_count": 11,
      "outputs": []
    },
    {
      "cell_type": "code",
      "metadata": {
        "colab": {
          "base_uri": "https://localhost:8080/",
          "height": 295
        },
        "id": "f9u8R6czYU8O",
        "outputId": "1093f8f9-95d0-4782-ffb7-3314f2078710"
      },
      "source": [
        "plt.plot(x,y)\n",
        "plt.xlabel('x axis')\n",
        "plt.ylabel('y axis')\n",
        "plt.title('y=7x^2+3x+10')\n",
        "plt.show()"
      ],
      "execution_count": 12,
      "outputs": [
        {
          "output_type": "display_data",
          "data": {
            "image/png": "[encoded data removed]",
            "text/plain": [
              "<Figure size 432x288 with 1 Axes>"
            ]
          },
          "metadata": {
            "tags": [],
            "needs_background": "light"
          }
        }
      ]
    },
    {
      "cell_type": "markdown",
      "metadata": {
        "id": "jsEUZantYgNH"
      },
      "source": [
        "4. y=1/1+e^-x"
      ]
    },
    {
      "cell_type": "code",
      "metadata": {
        "id": "iWVGrk45Yhiu"
      },
      "source": [
        "x=[x for x in range(0,20)]\n",
        "p=np.array(x)\n",
        "p=1+np.exp(-p)\n",
        "y=1/p"
      ],
      "execution_count": 13,
      "outputs": []
    },
    {
      "cell_type": "code",
      "metadata": {
        "colab": {
          "base_uri": "https://localhost:8080/",
          "height": 295
        },
        "id": "gCP7JNqOYlGU",
        "outputId": "bf1b1868-c863-47b7-859a-db0fabbc10e9"
      },
      "source": [
        "plt.plot(x,y)\n",
        "plt.xlabel('x axis')\n",
        "plt.ylabel('y axis')\n",
        "plt.title('y=1/1+e^-x')\n",
        "plt.show()"
      ],
      "execution_count": 15,
      "outputs": [
        {
          "output_type": "display_data",
          "data": {
            "image/png": "[encoded data removed]",
            "text/plain": [
              "<Figure size 432x288 with 1 Axes>"
            ]
          },
          "metadata": {
            "tags": [],
            "needs_background": "light"
          }
        }
      ]
    },
    {
      "cell_type": "markdown",
      "metadata": {
        "id": "f7zU9UrJY4v1"
      },
      "source": [
        "5. y=1-e^-ax/1+e^-ax, for different values of a."
      ]
    },
    {
      "cell_type": "code",
      "metadata": {
        "id": "zyzVQ3RfY8ie"
      },
      "source": [
        "num=[num for num in range(0,21)]\n",
        "num=np.array(num)\n",
        "a=2\n",
        "p=1-np.exp(-num*a)\n",
        "q=1+np.exp(-num*a)\n",
        "y=p/q"
      ],
      "execution_count": 16,
      "outputs": []
    },
    {
      "cell_type": "code",
      "metadata": {
        "colab": {
          "base_uri": "https://localhost:8080/",
          "height": 295
        },
        "id": "DKj0zBT2ZAzI",
        "outputId": "fdd6b6ed-9d8d-4036-fdd1-e9a80ff2de6b"
      },
      "source": [
        "plt.plot(num,y)\n",
        "plt.xlabel('x axis')\n",
        "plt.ylabel('y axis')\n",
        "plt.title('y=1-e^-ax/1+e^-ax')\n",
        "plt.show()"
      ],
      "execution_count": 17,
      "outputs": [
        {
          "output_type": "display_data",
          "data": {
            "image/png": "[encoded data removed]",
            "text/plain": [
              "<Figure size 432x288 with 1 Axes>"
            ]
          },
          "metadata": {
            "tags": [],
            "needs_background": "light"
          }
        }
      ]
    },
    {
      "cell_type": "markdown",
      "metadata": {
        "id": "-a36K5ba1MXI"
      },
      "source": [
        "6. y=tan tan hx"
      ]
    },
    {
      "cell_type": "code",
      "metadata": {
        "colab": {
          "base_uri": "https://localhost:8080/"
        },
        "id": "_JSIjd4u1NYp",
        "outputId": "94861387-f41f-493d-ad4a-96739ea4d7b0"
      },
      "source": [
        "in_array = np.linspace(0, np.pi, 12)\n",
        "h=2\n",
        "out_array =h*np.tan(in_array)\n",
        "print(\"in_array : \", in_array)\n",
        "print(\"\\nout_array : \",out_array)\n",
        "# red for numpy.tan()"
      ],
      "execution_count": 18,
      "outputs": [
        {
          "output_type": "stream",
          "text": [
            "in_array :  [0.         0.28559933 0.57119866 0.856798   1.14239733 1.42799666\n",
            " 1.71359599 1.99919533 2.28479466 2.57039399 2.85599332 3.14159265]\n",
            "\n",
            "out_array :  [ 0.00000000e+00  5.87252986e-01  1.28532195e+00  2.30812304e+00\n",
            "  4.37938913e+00  1.39103055e+01 -1.39103055e+01 -4.37938913e+00\n",
            " -2.30812304e+00 -1.28532195e+00 -5.87252986e-01 -2.44929360e-16]\n"
          ],
          "name": "stdout"
        }
      ]
    },
    {
      "cell_type": "code",
      "metadata": {
        "colab": {
          "base_uri": "https://localhost:8080/",
          "height": 295
        },
        "id": "UR2Ff56c1SYP",
        "outputId": "4eaf79d5-0f14-4512-cc08-0d0418977925"
      },
      "source": [
        "plt.plot(in_array, out_array, color='red', marker=\"o\")\n",
        "plt.title(\"numpy.tan()\")\n",
        "plt.xlabel(\"X\")\n",
        "plt.ylabel(\"Y\")\n",
        "plt.show()"
      ],
      "execution_count": 19,
      "outputs": [
        {
          "output_type": "display_data",
          "data": {
            "image/png": "[encoded data removed]",
            "text/plain": [
              "<Figure size 432x288 with 1 Axes>"
            ]
          },
          "metadata": {
            "tags": [],
            "needs_background": "light"
          }
        }
      ]
    },
    {
      "cell_type": "code",
      "metadata": {
        "id": "AeFir7IG1Xhs"
      },
      "source": [
        ""
      ],
      "execution_count": null,
      "outputs": []
    }
  ]
}