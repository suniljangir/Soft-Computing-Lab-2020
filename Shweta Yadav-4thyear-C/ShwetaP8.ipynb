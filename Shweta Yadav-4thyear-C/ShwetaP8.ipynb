{
  "nbformat": 4,
  "nbformat_minor": 0,
  "metadata": {
    "colab": {
      "name": "ShwetaP8.ipynb",
      "provenance": [],
      "collapsed_sections": [],
      "authorship_tag": "ABX9TyPtWqDW8YeQtW9njH09ORe3",
      "include_colab_link": true
    },
    "kernelspec": {
      "name": "python3",
      "display_name": "Python 3"
    }
  },
  "cells": [
    {
      "cell_type": "markdown",
      "metadata": {
        "id": "view-in-github",
        "colab_type": "text"
      },
      "source": [
        "<a href=\"https://colab.research.google.com/github/shwetay58/Soft-Computing-Lab-2020/blob/master/Shweta%20Yadav-4thyear-C/ShwetaP8.ipynb\" target=\"_parent\"><img src=\"https://colab.research.google.com/assets/colab-badge.svg\" alt=\"Open In Colab\"/></a>"
      ]
    },
    {
      "cell_type": "markdown",
      "metadata": {
        "id": "-nNrPvWoIUdj"
      },
      "source": [
        "AIM: A program to implement water jug problem."
      ]
    },
    {
      "cell_type": "code",
      "metadata": {
        "colab": {
          "base_uri": "https://localhost:8080/"
        },
        "id": "3MnVDplOIeSV",
        "outputId": "c848639a-aa4c-4c99-a98f-48877bade138"
      },
      "source": [
        "n1=int(input(\"Enter the capacity of first jug: \"))\n",
        "n2=int(input(\"Enter the capacity of second jug: \"))\n",
        "n3=int(input(\"In which jug to be filled :\"))\n",
        "n4=int(input(\"How much to be filled: \"))\n",
        "class Waterjug:\n",
        "    def __init__(self,am,bm,a,b,g):\n",
        "        self.a_max = am;\n",
        "        self.b_max = bm;\n",
        "        self.a = a;\n",
        "        self.b = b;\n",
        "        self.goal = g;\n",
        "    def fillA(self):\n",
        "        self.a = self.a_max;\n",
        "        print ('(', self.a, ',',self.b, ')')\n",
        "    def fillB(self):\n",
        "        self.b = self.b_max;\n",
        "        print ('(', self.a, ',', self.b, ')')\n",
        "    def emptyA(self):\n",
        "        self.a = 0;\n",
        "        print ('(', self.a, ',', self.b, ')')\n",
        "    def emptyB(self):\n",
        "        self.b = 0;\n",
        "        print ('(', self.a, ',', self.b, ')')\n",
        "    def transferAtoB(self):\n",
        "        while (True):\n",
        "            self.a = self.a - 1\n",
        "            self.b = self.b + 1\n",
        "            if (self.a == 0 or self.b == self.b_max):\n",
        "                break\n",
        "        print ('(', self.a, ',', self.b, ')')\n",
        "    def main(self):\n",
        "        while (True):\n",
        "            if (self.a == self.goal or self.b == self.goal):\n",
        "                break\n",
        "            if (self.a == 0):\n",
        "                self.fillA()\n",
        "            elif (self.a > 0 and self.b != self.b_max):\n",
        "                self.transferAtoB()\n",
        "            elif (self.a > 0 and self.b == self.b_max):\n",
        "                self.emptyB()\n",
        "def pour(jug1, jug2):\n",
        "       max1, max2, fill = n1, n2, n4  \n",
        "       print(\"%d\\t%d\" % (jug1, jug2))\n",
        "       if jug2 is fill:\n",
        "         return       \n",
        "       elif jug2 is max2:\n",
        "            pour(0, jug1)\n",
        "       elif jug1 != 0 and jug2 is 0:          \n",
        "            pour(0, jug1)\n",
        "       elif jug1 is fill:         \n",
        "            pour(jug1, 0)\n",
        "       elif jug1 < max1:        \n",
        "            pour(max1, jug2)\n",
        "       elif jug1 < (max2-jug2):        \n",
        "            pour(0, (jug1+jug2))\n",
        "       else:        \n",
        "            pour(jug1-(max2-jug2), (max2-jug2)+jug2) \n",
        "print(\"JUG1\\tJUG2\")\n",
        "if(n3==2):\n",
        "    pour(0, 0)\n",
        "elif(n3==1):\n",
        "  print ('(', '0',',', '0', ')')\n",
        "  waterjug=Waterjug(n1,n2,0,0,n4);\n",
        "  waterjug.main();"
      ],
      "execution_count": 2,
      "outputs": [
        {
          "output_type": "stream",
          "text": [
            "Enter the capacity of first jug: 5\n",
            "Enter the capacity of second jug: 7\n",
            "In which jug to be filled :2\n",
            "How much to be filled: 3\n",
            "JUG1\tJUG2\n",
            "0\t0\n",
            "5\t0\n",
            "0\t5\n",
            "5\t5\n",
            "3\t7\n",
            "0\t3\n"
          ],
          "name": "stdout"
        }
      ]
    },
    {
      "cell_type": "code",
      "metadata": {
        "id": "BCjlOSXBIwdv"
      },
      "source": [
        ""
      ],
      "execution_count": null,
      "outputs": []
    }
  ]
}