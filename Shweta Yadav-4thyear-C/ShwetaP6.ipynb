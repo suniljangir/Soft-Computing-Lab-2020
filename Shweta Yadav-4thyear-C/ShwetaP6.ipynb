{
  "nbformat": 4,
  "nbformat_minor": 0,
  "metadata": {
    "colab": {
      "name": "ShwetaP6.ipynb",
      "provenance": [],
      "collapsed_sections": [],
      "authorship_tag": "ABX9TyN0SYNaZtKqcpvp6cxZLts6",
      "include_colab_link": true
    },
    "kernelspec": {
      "name": "python3",
      "display_name": "Python 3"
    }
  },
  "cells": [
    {
      "cell_type": "markdown",
      "metadata": {
        "id": "view-in-github",
        "colab_type": "text"
      },
      "source": [
        "<a href=\"https://colab.research.google.com/github/shwetay58/Soft-Computing-Lab-2020/blob/master/Shweta%20Yadav-4thyear-C/ShwetaP6.ipynb\" target=\"_parent\"><img src=\"https://colab.research.google.com/assets/colab-badge.svg\" alt=\"Open In Colab\"/></a>"
      ]
    },
    {
      "cell_type": "markdown",
      "metadata": {
        "id": "0-k6a1ZoVhCV"
      },
      "source": [
        "Aim: DFS"
      ]
    },
    {
      "cell_type": "code",
      "metadata": {
        "id": "g4PXa0gcVkvN"
      },
      "source": [
        "graph = {'A': ['B','C'],\n",
        "         'B': ['A','D','E'],\n",
        "         'C': ['F','G','A'],\n",
        "         'D': ['B'],\n",
        "         'E': ['H','B'],\n",
        "         'F': ['C'],\n",
        "         'G': ['C'],\n",
        "         'H': ['E']\n",
        "        }"
      ],
      "execution_count": 1,
      "outputs": []
    },
    {
      "cell_type": "code",
      "metadata": {
        "colab": {
          "base_uri": "https://localhost:8080/"
        },
        "id": "vJA6SFUeVpRJ",
        "outputId": "4cb5d24e-515e-494f-9b03-ac894595649e"
      },
      "source": [
        "def dfs(graph,start,end,route,list):\n",
        "    route+=[start]\n",
        "    if start == end:\n",
        "        list.extend(route)\n",
        "    else:\n",
        "        for node in graph[start]:\n",
        "            if node not in route:\n",
        "                dfs(graph,node,end,route,list)\n",
        "                \n",
        "def dfs_route(graph,start,end):\n",
        "    list = []\n",
        "    dfs(graph,start,end,[],list)\n",
        "    return list\n",
        "\n",
        "print(dfs_route(graph,'A','G'))"
      ],
      "execution_count": 2,
      "outputs": [
        {
          "output_type": "stream",
          "text": [
            "['A', 'B', 'D', 'E', 'H', 'C', 'F', 'G']\n"
          ],
          "name": "stdout"
        }
      ]
    },
    {
      "cell_type": "code",
      "metadata": {
        "id": "UmHn-kXRVw_7"
      },
      "source": [
        ""
      ],
      "execution_count": null,
      "outputs": []
    }
  ]
}