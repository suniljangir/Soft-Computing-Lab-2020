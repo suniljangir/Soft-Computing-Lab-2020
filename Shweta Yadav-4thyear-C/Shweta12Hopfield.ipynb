{
  "nbformat": 4,
  "nbformat_minor": 0,
  "metadata": {
    "colab": {
      "name": "Shweta12Hopfield.ipynb",
      "provenance": [],
      "collapsed_sections": [],
      "include_colab_link": true
    },
    "kernelspec": {
      "name": "python3",
      "display_name": "Python 3"
    }
  },
  "cells": [
    {
      "cell_type": "markdown",
      "metadata": {
        "id": "view-in-github",
        "colab_type": "text"
      },
      "source": [
        "<a href=\"https://colab.research.google.com/github/shwetay58/Soft-Computing-Lab-2020/blob/master/Shweta%20Yadav-4thyear-C/Shweta12Hopfield.ipynb\" target=\"_parent\"><img src=\"https://colab.research.google.com/assets/colab-badge.svg\" alt=\"Open In Colab\"/></a>"
      ]
    },
    {
      "cell_type": "code",
      "metadata": {
        "id": "boZp45VNh_3F"
      },
      "source": [
        "import numpy as np\n",
        "x=np.array([[1,1,1,1,1],[1,-1,-1,1,-1],[-1,1,-1,-1,-1]])\n",
        "x1=np.transpose(x)\n",
        "t1=np.array([[1,1,1,-1,1]])\n",
        "t2=np.array([[1,-1,-1,-1,-1]])\n",
        "t3=np.array([[1,1,-1,-1,-1]])\n",
        "w=np.zeros((5,5))\n"
      ],
      "execution_count": null,
      "outputs": []
    },
    {
      "cell_type": "code",
      "metadata": {
        "colab": {
          "base_uri": "https://localhost:8080/"
        },
        "id": "IFGlSkloiEIt",
        "outputId": "b3ebe3d3-1f25-44cc-a2ca-c68fcb9a72c3"
      },
      "source": [
        "i=0\n",
        "j=0\n",
        "k=0\n",
        "for i in range(len(x1)):\n",
        "  for j in range(len(x[0])):\n",
        "    for k in range(len(x)):\n",
        "      w[i][j] += x1[i][k] * x[k][j]\n",
        "print('Weight Matrix:\\n')\n",
        "for r in w:\n",
        "  print(r)"
      ],
      "execution_count": null,
      "outputs": [
        {
          "output_type": "stream",
          "text": [
            "Weight Matrix:\n",
            "\n",
            "[ 3. -9.  9. 27.  9.]\n",
            "[-9.  3.  9. -9.  9.]\n",
            "[ 9.  9.  3.  9. 27.]\n",
            "[27. -9.  9.  3.  9.]\n",
            "[ 9.  9. 27.  9.  3.]\n"
          ],
          "name": "stdout"
        }
      ]
    },
    {
      "cell_type": "code",
      "metadata": {
        "colab": {
          "base_uri": "https://localhost:8080/"
        },
        "id": "ENP-mPzxlN5J",
        "outputId": "b79091e2-7334-418b-86a4-1c9f94e36a87"
      },
      "source": [
        "print('\\n\\nWeight Matrix with no self connection:\\n') \n",
        "i=0\n",
        "j=0\n",
        "for i in range(int(5)):\n",
        "  for j in range(int(5)):\n",
        "    if(i==j):\n",
        "      w[i][j]=0\n",
        "for r in w:\n",
        "  print(r)  "
      ],
      "execution_count": null,
      "outputs": [
        {
          "output_type": "stream",
          "text": [
            "\n",
            "\n",
            "Weight Matrix with no self connection:\n",
            "\n",
            "[ 0. -9.  9. 27.  9.]\n",
            "[-9.  0.  9. -9.  9.]\n",
            "[ 9.  9.  0.  9. 27.]\n",
            "[27. -9.  9.  0.  9.]\n",
            "[ 9.  9. 27.  9.  0.]\n"
          ],
          "name": "stdout"
        }
      ]
    },
    {
      "cell_type": "code",
      "metadata": {
        "colab": {
          "base_uri": "https://localhost:8080/"
        },
        "id": "jJPXGVYXkq8I",
        "outputId": "ae1ee395-8135-479d-a629-0b5f82b0589e"
      },
      "source": [
        "E1=0\n",
        "E2=0\n",
        "E3=0\n",
        "x11= x[0].reshape(5,1)\n",
        "x12=x[1].reshape(5,1)\n",
        "x13=x[2].reshape(5,1)\n",
        "E1= -0.5 * np.matmul(x[0],np.matmul(w,x11))\n",
        "print('\\n\\nEnergy Calculations for pattern [1,1,1,1,1]:',E1)\n",
        "\n",
        "E2= -0.5 * np.matmul(x[1],np.matmul(w,x12))\n",
        "print('\\n\\nEnergy Calculations for pattern [1,-1,-1,1,-1]:',E2)\n",
        "\n",
        "E3= -0.5 * np.matmul(x[2],np.matmul(w,x13))\n",
        "print('\\n\\nEnergy Calculations for pattern [-1,1,-1,1,-1]:',E3)"
      ],
      "execution_count": null,
      "outputs": [
        {
          "output_type": "stream",
          "text": [
            "\n",
            "\n",
            "Energy Calculations for pattern [1,1,1,1,1]: [-50.]\n",
            "\n",
            "\n",
            "Energy Calculations for pattern [1,-1,-1,1,-1]: [-30.]\n",
            "\n",
            "\n",
            "Energy Calculations for pattern [-1,1,-1,1,-1]: [-50.]\n"
          ],
          "name": "stdout"
        }
      ]
    },
    {
      "cell_type": "code",
      "metadata": {
        "colab": {
          "base_uri": "https://localhost:8080/"
        },
        "id": "yXPRLtj_iI32",
        "outputId": "77f98ff5-2f32-4558-f804-2f0e3e9d8ae1"
      },
      "source": [
        "print('\\n\\nTESTING PHASE')\n",
        "w_dash=np.transpose(w)\n",
        "Yin1=t1[0][3]+ np.matmul(x[0],w_dash[3])\n",
        "if Yin1>0:\n",
        "  t1[0][3]=1\n",
        "else:\n",
        "  t1[0][3]=-1\n",
        "if((t1==x).any()):\n",
        "  print('\\nPattern [1,1,1,-1,1] Recognized ')\n",
        "else:\n",
        "  print('\\nPattern [1,1,1,-1,1] not Recognized ')    \n",
        "  Yin2=t2[0][3]+ np.matmul(x[1],w_dash[3])\n",
        "  if Yin2>0:\n",
        "    t2[0][3]=1\n",
        "  else:\n",
        "    t2[0][3]=-1\n",
        "if((t2==x).any()):\n",
        "  print('\\nPattern [1,-1,-1,-1,-1] Recognized ')\n",
        "else:\n",
        "  print('\\nPattern [1,-1,-1,-1,-1] not Recognized ')    \n",
        "  Yin3=t3[0][0]+ np.matmul(x[2],w_dash[0])\n",
        "  if(Yin3>0):\n",
        "    t3[0][0]=1\n",
        "  else:\n",
        "    t3[0][0]=-1\n",
        "if((t3==x).any()):\n",
        "  print('\\nPattern [1,1,-1,-1,-1] Recognized ')\n",
        "else:\n",
        "  print('\\nPattern [1,1,-1,-1,-1] not Recognized ')\n"
      ],
      "execution_count": null,
      "outputs": [
        {
          "output_type": "stream",
          "text": [
            "\n",
            "\n",
            "TESTING PHASE\n",
            "\n",
            "Pattern [1,1,1,-1,1] Recognized \n",
            "\n",
            "Pattern [1,-1,-1,-1,-1] Recognized \n",
            "\n",
            "Pattern [1,1,-1,-1,-1] Recognized \n"
          ],
          "name": "stdout"
        }
      ]
    },
    {
      "cell_type": "code",
      "metadata": {
        "id": "4Lr67ezQj81m"
      },
      "source": [
        ""
      ],
      "execution_count": null,
      "outputs": []
    }
  ]
}