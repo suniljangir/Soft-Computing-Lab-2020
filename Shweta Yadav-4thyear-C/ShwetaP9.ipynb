{
  "nbformat": 4,
  "nbformat_minor": 0,
  "metadata": {
    "colab": {
      "name": "ShwetaP9.ipynb",
      "provenance": [],
      "collapsed_sections": [],
      "include_colab_link": true
    },
    "kernelspec": {
      "name": "python3",
      "display_name": "Python 3"
    }
  },
  "cells": [
    {
      "cell_type": "markdown",
      "metadata": {
        "id": "view-in-github",
        "colab_type": "text"
      },
      "source": [
        "<a href=\"https://colab.research.google.com/github/shwetay58/Soft-Computing-Lab-2020/blob/master/Shweta%20Yadav-4thyear-C/ShwetaP9.ipynb\" target=\"_parent\"><img src=\"https://colab.research.google.com/assets/colab-badge.svg\" alt=\"Open In Colab\"/></a>"
      ]
    },
    {
      "cell_type": "code",
      "metadata": {
        "colab": {
          "base_uri": "https://localhost:8080/"
        },
        "id": "DObja9mln_wg",
        "outputId": "ffa16ca8-2976-45cc-bbad-e0258ba10182"
      },
      "source": [
        "from collections import defaultdict \n",
        "\n",
        "class Graph: \n",
        "  \n",
        "    def __init__(self,vertices):  \n",
        "       \n",
        "        self.V = vertices \n",
        "        self.graph = defaultdict(list)  \n",
        "    def addEdge(self,u,v): \n",
        "        self.graph[u].append(v)  \n",
        " \n",
        "    def DLS(self,src,target,maxDepth):   \n",
        "        if src == target : return True     \n",
        "        if maxDepth <= 0 : return False \n",
        "  \n",
        "        for i in self.graph[src]: \n",
        "                if(self.DLS(i,target,maxDepth-1)): \n",
        "                    return True\n",
        "        return False  \n",
        "    def IDDFS(self,src, target, maxDepth): \n",
        "        for i in range(maxDepth): \n",
        "            if (self.DLS(src, target, i)): \n",
        "                return True\n",
        "        return False\n",
        "  \n",
        "\n",
        "g = Graph (7); \n",
        "g.addEdge(0, 1) \n",
        "g.addEdge(0, 2) \n",
        "g.addEdge(1, 3) \n",
        "g.addEdge(1, 4) \n",
        "g.addEdge(2, 5) \n",
        "g.addEdge(2, 6) \n",
        "  \n",
        "target = int(input(\"enter the node to be searched\"));\n",
        "maxDepth = int(input(\"enter the depth\"));\n",
        "src = 0\n",
        "found = 1\n",
        "while(found):\n",
        "    if g.IDDFS(src, target, maxDepth) == True:\n",
        "        print (\"Target is reachable from source \" +\n",
        "        \"within max depth : \")\n",
        "        print(maxDepth)\n",
        "        found = 0\n",
        "    else :\n",
        "        maxDepth = maxDepth +1\n"
      ],
      "execution_count": null,
      "outputs": [
        {
          "output_type": "stream",
          "text": [
            "enter the node to be searched4\n",
            "enter the depth2\n",
            "Target is reachable from source within max depth : \n",
            "3\n"
          ],
          "name": "stdout"
        }
      ]
    },
    {
      "cell_type": "code",
      "metadata": {
        "id": "dbhNZlBVoAym"
      },
      "source": [
        ""
      ],
      "execution_count": null,
      "outputs": []
    }
  ]
}