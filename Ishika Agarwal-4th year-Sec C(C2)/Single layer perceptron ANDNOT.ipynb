{
 "cells": [
  {
   "cell_type": "code",
   "execution_count": 1,
   "metadata": {},
   "outputs": [
    {
     "name": "stdout",
     "output_type": "stream",
     "text": [
      "Enter new theta:0.2\n",
      "Enter new alpha:1\n",
      "MODEL IS NOT TRAINED\n",
      "The value of output is\n",
      "[[0.]\n",
      " [0.]\n",
      " [0.]\n",
      " [0.]]\n",
      "MODEL IS NOT TRAINED\n",
      "The value of output is\n",
      "[[ 0.]\n",
      " [-1.]\n",
      " [ 0.]\n",
      " [ 0.]]\n",
      "NO UPDATION REQUIRED\n",
      "[-1.]\n",
      "MODEL IS NOT TRAINED\n",
      "The value of output is\n",
      "[[ 0.]\n",
      " [-1.]\n",
      " [-1.]\n",
      " [ 1.]]\n",
      "NO UPDATION REQUIRED\n",
      "[-1.]\n",
      "NO UPDATION REQUIRED\n",
      "[1.]\n",
      "NO UPDATION REQUIRED\n",
      "[-1.]\n",
      "NO UPDATION REQUIRED\n",
      "[-1.]\n",
      "The final weight matrix is \n",
      "[[ 1]\n",
      " [-1]]\n",
      "The final output is:\n",
      "[[-1.]\n",
      " [ 1.]\n",
      " [-1.]\n",
      " [-1.]]\n"
     ]
    }
   ],
   "source": [
    "import numpy as np\n",
    "x=np.array([[1,1],[1,-1],[-1,1],[-1,-1]])\n",
    "t=np.array([[-1],[1],[-1],[-1]])\n",
    "w=np.array([[0],[0]])\n",
    "b=0\n",
    "theta=float(input(\"Enter new theta:\"))\n",
    "alpha=float(input(\"Enter new alpha:\"))\n",
    "yin=np.zeros(shape=(4,1))\n",
    "y=np.zeros(shape=(4,1))\n",
    "i=0\n",
    "found=0\n",
    "while(found==0):\n",
    "    yin=x[i][0]*w[0]+x[i][1]*w[1]\n",
    "    yin = yin+b\n",
    "    if(yin>theta):\n",
    "        y[i] = 1\n",
    "    elif(yin<=theta and yin>=-theta):\n",
    "        y[i]=0\n",
    "    else:\n",
    "        y[i]=-1\n",
    "    if (y[i]==t[i]):\n",
    "        print(\"NO UPDATION REQUIRED\")\n",
    "        print(y[i])\n",
    "        if(i<3):\n",
    "            i=i+1\n",
    "        else:\n",
    "            i=0\n",
    "    else:\n",
    "        print(\"MODEL IS NOT TRAINED\")\n",
    "        print(\"The value of output is\")\n",
    "        print(y)\n",
    "        w[0]=w[0]+alpha*x[i][0]*t[i]\n",
    "        w[1]=w[1]+alpha*x[i][1]*t[i]\n",
    "        b = b+alpha*t[i]\n",
    "        if(i<3):\n",
    "            i=i+1\n",
    "        else:\n",
    "            i=0\n",
    "    if(y==t).all():\n",
    "        found=1\n",
    "print(\"The final weight matrix is \")\n",
    "print(w)\n",
    "print(\"The final output is:\")\n",
    "print(y)\n"
   ]
  },
  {
   "cell_type": "code",
   "execution_count": null,
   "metadata": {},
   "outputs": [],
   "source": []
  }
 ],
 "metadata": {
  "kernelspec": {
   "display_name": "Python 3",
   "language": "python",
   "name": "python3"
  },
  "language_info": {
   "codemirror_mode": {
    "name": "ipython",
    "version": 3
   },
   "file_extension": ".py",
   "mimetype": "text/x-python",
   "name": "python",
   "nbconvert_exporter": "python",
   "pygments_lexer": "ipython3",
   "version": "3.7.4"
  }
 },
 "nbformat": 4,
 "nbformat_minor": 2
}
